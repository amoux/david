{
 "cells": [
  {
   "cell_type": "markdown",
   "metadata": {},
   "source": [
    "# Sentiment Classifier - (Unsupervised Learning)\n",
    "\n",
    "> In this notebook we build a unsurpervised sentiment classifier from youtube comments."
   ]
  },
  {
   "cell_type": "code",
   "execution_count": 1,
   "metadata": {},
   "outputs": [],
   "source": [
    "from pathlib import Path\n",
    "from david.tokenizers import WordTokenizer, YTCommentsDataset"
   ]
  },
  {
   "cell_type": "code",
   "execution_count": 3,
   "metadata": {},
   "outputs": [],
   "source": [
    "def save_train_test(datasets, out_dir, files=['train.txt', 'test.txt']):\n",
    "    out_dir = Path(out_dir)\n",
    "    if not out_dir.exists(): out_dir.mkdir(parents=True)\n",
    "    for i, dataset in enumerate(datasets):\n",
    "        out_file = out_dir.joinpath(files[i])\n",
    "        print(f'saving {len(dataset)} samples to file in {out_file}')\n",
    "        with out_file.open('w', encoding='utf8') as f:\n",
    "            for sequence in dataset:\n",
    "                f.write(f'{sequence}\\n')"
   ]
  },
  {
   "cell_type": "code",
   "execution_count": 4,
   "metadata": {},
   "outputs": [
    {
     "name": "stdout",
     "output_type": "stream",
     "text": [
      "saving 800 samples to file in yt_dataset/train.txt\n",
      "saving 200 samples to file in yt_dataset/test.txt\n"
     ]
    }
   ],
   "source": [
    "train_dataset, test_dataset = YTCommentsDataset.split_train_test(1000, subset=0.8)\n",
    "save_train_test([train_dataset, test_dataset], out_dir='yt_dataset')"
   ]
  },
  {
   "cell_type": "code",
   "execution_count": 5,
   "metadata": {},
   "outputs": [
    {
     "name": "stdout",
     "output_type": "stream",
     "text": [
      "< WordTokenizer(vocab_size=5103) >\n"
     ]
    }
   ],
   "source": [
    "tokenizer = WordTokenizer(document=train_dataset)\n",
    "print(tokenizer)"
   ]
  },
  {
   "cell_type": "markdown",
   "metadata": {},
   "source": [
    "## embeddings with keras\n",
    "\n",
    "> In order to use the sequence models for embeddings in Keras - Our `vocab_index` dictionary needs to be `indexed` by token frequency. In short, sort `vocabulary` by token frequency and while assinging `i` index to each token. (first index most start at i=`1`)."
   ]
  },
  {
   "cell_type": "code",
   "execution_count": 8,
   "metadata": {},
   "outputs": [
    {
     "data": {
      "text/plain": [
       "[('.', 1), ('the', 2), (',', 3), ('i', 4), ('to', 5)]"
      ]
     },
     "execution_count": 8,
     "metadata": {},
     "output_type": "execute_result"
    }
   ],
   "source": [
    "vocab_embeddings = {}\n",
    "vocab_tokens, _ = zip(*tokenizer.vocab_count.most_common())\n",
    "for index, token in enumerate(vocab_tokens, start=1):\n",
    "    vocab_embeddings[token] = index\n",
    "\n",
    "# our vocabulary is now in the correct format\n",
    "list(vocab_embeddings.items())[:5]"
   ]
  },
  {
   "cell_type": "code",
   "execution_count": 9,
   "metadata": {},
   "outputs": [
    {
     "data": {
      "text/plain": [
       "[('this', 1), ('is', 2), ('very', 3), ('good', 4), ('way', 5)]"
      ]
     },
     "execution_count": 9,
     "metadata": {},
     "output_type": "execute_result"
    }
   ],
   "source": [
    "# the is is the original vocab order (now lets update the tokenizer)\n",
    "list(tokenizer.vocab_index.items())[:5]"
   ]
  },
  {
   "cell_type": "code",
   "execution_count": 10,
   "metadata": {},
   "outputs": [
    {
     "name": "stdout",
     "output_type": "stream",
     "text": [
      "[469, 3, 124, 18]\n"
     ]
    }
   ],
   "source": [
    "# update the tokenizer's vocabulary.\n",
    "tokenizer.vocab_index = vocab_embeddings\n",
    "\n",
    "# lets test a string by embedding to ids:\n",
    "indexed_string = tokenizer.convert_string_to_ids('hello, world!')\n",
    "print(indexed_string)"
   ]
  },
  {
   "cell_type": "code",
   "execution_count": 11,
   "metadata": {},
   "outputs": [
    {
     "name": "stdout",
     "output_type": "stream",
     "text": [
      "hello, world!\n"
     ]
    }
   ],
   "source": [
    "# now lets decode the ids back to a string. (It worked!)\n",
    "print(tokenizer.convert_ids_to_string(indexed_string))"
   ]
  },
  {
   "cell_type": "code",
   "execution_count": 25,
   "metadata": {},
   "outputs": [
    {
     "name": "stdout",
     "output_type": "stream",
     "text": [
      "[17, 9, 83, 66, 132, 5, 1417, 95, 264, 51, 2207, 2208, 246, 1, 842, 2209, 76, 1]\n"
     ]
    }
   ],
   "source": [
    "def doc_to_sequences(document):\n",
    "    embeddings = []\n",
    "    for string in document:\n",
    "        tokens = tokenizer.tokenize(string)\n",
    "        if tokens is not None:\n",
    "            token_ids = tokenizer._encode(tokens)\n",
    "            embeddings.append(token_ids)\n",
    "    return embeddings\n",
    "\n",
    "doc_sequences = doc_to_sequences(train_dataset)\n",
    "print(doc_sequences[0])"
   ]
  },
  {
   "cell_type": "code",
   "execution_count": 26,
   "metadata": {},
   "outputs": [
    {
     "data": {
      "text/plain": [
       "'this is very good way to wake up myself from dreaming fairy life. feeling energetic now.'"
      ]
     },
     "execution_count": 26,
     "metadata": {},
     "output_type": "execute_result"
    }
   ],
   "source": [
    "tokenizer.convert_ids_to_string(doc_sequences[0])"
   ]
  },
  {
   "cell_type": "markdown",
   "metadata": {},
   "source": [
    "## GloVe Embeddings\n",
    "\n",
    "> Now that we have our document transformed. We will use GloVe's pre-trained embeddings and fit it on our `doc_sequences`."
   ]
  },
  {
   "cell_type": "code",
   "execution_count": 30,
   "metadata": {},
   "outputs": [
    {
     "data": {
      "text/plain": [
       "{'300d': '/home/ego/david_models/glove/glove.6B/glove.6B.300d.txt',\n",
       " '50d': '/home/ego/david_models/glove/glove.6B/glove.6B.50d.txt',\n",
       " '200d': '/home/ego/david_models/glove/glove.6B/glove.6B.200d.txt',\n",
       " '100d': '/home/ego/david_models/glove/glove.6B/glove.6B.100d.txt'}"
      ]
     },
     "execution_count": 30,
     "metadata": {},
     "output_type": "execute_result"
    }
   ],
   "source": [
    "from david.models import GloVe\n",
    "GloVe.vocab_files  # We will fit the sequences to 100d"
   ]
  },
  {
   "cell_type": "code",
   "execution_count": 31,
   "metadata": {},
   "outputs": [
    {
     "name": "stdout",
     "output_type": "stream",
     "text": [
      "Loading vocab file from /home/ego/david_models/glove/glove.6B/glove.6B.100d.txt\n",
      "num-dim:(100), vocab-size: 5103 \n",
      "*** embedding vocabulary...\n",
      "\n"
     ]
    }
   ],
   "source": [
    "glove_embeddings = GloVe.fit_embeddings(tokenizer.vocab_index, vocab_dim=\"100d\")"
   ]
  },
  {
   "cell_type": "code",
   "execution_count": 32,
   "metadata": {},
   "outputs": [
    {
     "data": {
      "text/plain": [
       "(5103, 100)"
      ]
     },
     "execution_count": 32,
     "metadata": {},
     "output_type": "execute_result"
    }
   ],
   "source": [
    "# our sequences our now embedded to with glove's embeddings.\n",
    "glove_embeddings.shape"
   ]
  },
  {
   "cell_type": "code",
   "execution_count": 44,
   "metadata": {},
   "outputs": [
    {
     "name": "stdout",
     "output_type": "stream",
     "text": [
      "362\n"
     ]
    }
   ],
   "source": [
    "def largest_string_sequence(document: list, tokenizer: callable) -> int:\n",
    "    \"\"\"Obtain the size of the larget sequence in a document.\n",
    "\n",
    "    - The tokenizer function can be as simple as:\n",
    "        >>> def tokenizer(string): return string.split()\n",
    "    \"\"\"\n",
    "    tokenizer_func = lambda sequence: len(tokenizer(sequence))\n",
    "    largest_string = max(document, key=tokenizer_func)\n",
    "    return len(tokenizer(largest_string))\n",
    "\n",
    "largest_string = largest_string_sequence(train_dataset, tokenizer.tokenize)\n",
    "print(largest_string)"
   ]
  },
  {
   "cell_type": "code",
   "execution_count": 48,
   "metadata": {},
   "outputs": [
    {
     "name": "stdout",
     "output_type": "stream",
     "text": [
      "Model: \"sequential_2\"\n",
      "_________________________________________________________________\n",
      "Layer (type)                 Output Shape              Param #   \n",
      "=================================================================\n",
      "embedding_3 (Embedding)      (None, 362, 100)          510300    \n",
      "_________________________________________________________________\n",
      "flatten_2 (Flatten)          (None, 36200)             0         \n",
      "_________________________________________________________________\n",
      "dense_2 (Dense)              (None, 1)                 36201     \n",
      "=================================================================\n",
      "Total params: 546,501\n",
      "Trainable params: 36,201\n",
      "Non-trainable params: 510,300\n",
      "_________________________________________________________________\n"
     ]
    }
   ],
   "source": [
    "from keras.models import Sequential\n",
    "from keras.layers import Dense, Flatten\n",
    "from keras.layers.embeddings import Embedding\n",
    "\n",
    "# creating a single embedding layer with keras Sequential model.\n",
    "model = Sequential()\n",
    "\n",
    "vocab_size, dimensions = glove_embeddings.shape\n",
    "input_length = largest_string\n",
    "embedding_layer = Embedding(vocab_size, dimensions,\n",
    "                            weights=[glove_embeddings],\n",
    "                            input_length=input_length,\n",
    "                            trainable=False)\n",
    "model.add(embedding_layer)\n",
    "model.add(Flatten())\n",
    "model.add(Dense(1, activation=\"sigmoid\"))\n",
    "model.compile(optimizer=\"adam\", loss=\"binary_crossentropy\", metrics=[\"acc\"])\n",
    "model.summary()"
   ]
  },
  {
   "cell_type": "code",
   "execution_count": 49,
   "metadata": {},
   "outputs": [
    {
     "data": {
      "text/plain": [
       "array([  17,    9,   83,   66,  132,    5, 1417,   95,  264,   51, 2207,\n",
       "       2208,  246,    1,  842, 2209,   76,    1,    0,    0,    0,    0,\n",
       "          0,    0,    0,    0,    0,    0,    0,    0,    0,    0,    0,\n",
       "          0,    0,    0,    0,    0,    0,    0,    0,    0,    0,    0,\n",
       "          0,    0,    0,    0,    0,    0,    0,    0,    0,    0,    0,\n",
       "          0,    0,    0,    0,    0,    0,    0,    0,    0,    0,    0,\n",
       "          0,    0,    0,    0,    0,    0,    0,    0,    0,    0,    0,\n",
       "          0,    0,    0,    0,    0,    0,    0,    0,    0,    0,    0,\n",
       "          0,    0,    0,    0,    0,    0,    0,    0,    0,    0,    0,\n",
       "          0,    0,    0,    0,    0,    0,    0,    0,    0,    0,    0,\n",
       "          0,    0,    0,    0,    0,    0,    0,    0,    0,    0,    0,\n",
       "          0,    0,    0,    0,    0,    0,    0,    0,    0,    0,    0,\n",
       "          0,    0,    0,    0,    0,    0,    0,    0,    0,    0,    0,\n",
       "          0,    0,    0,    0,    0,    0,    0,    0,    0,    0,    0,\n",
       "          0,    0,    0,    0,    0,    0,    0,    0,    0,    0,    0,\n",
       "          0,    0,    0,    0,    0,    0,    0,    0,    0,    0,    0,\n",
       "          0,    0,    0,    0,    0,    0,    0,    0,    0,    0,    0,\n",
       "          0,    0,    0,    0,    0,    0,    0,    0,    0,    0,    0,\n",
       "          0,    0,    0,    0,    0,    0,    0,    0,    0,    0,    0,\n",
       "          0,    0,    0,    0,    0,    0,    0,    0,    0,    0,    0,\n",
       "          0,    0,    0,    0,    0,    0,    0,    0,    0,    0,    0,\n",
       "          0,    0,    0,    0,    0,    0,    0,    0,    0,    0,    0,\n",
       "          0,    0,    0,    0,    0,    0,    0,    0,    0,    0,    0,\n",
       "          0,    0,    0,    0,    0,    0,    0,    0,    0,    0,    0,\n",
       "          0,    0,    0,    0,    0,    0,    0,    0,    0,    0,    0,\n",
       "          0,    0,    0,    0,    0,    0,    0,    0,    0,    0,    0,\n",
       "          0,    0,    0,    0,    0,    0,    0,    0,    0,    0,    0,\n",
       "          0,    0,    0,    0,    0,    0,    0,    0,    0,    0,    0,\n",
       "          0,    0,    0,    0,    0,    0,    0,    0,    0,    0,    0,\n",
       "          0,    0,    0,    0,    0,    0,    0,    0,    0,    0,    0,\n",
       "          0,    0,    0,    0,    0,    0,    0,    0,    0,    0,    0,\n",
       "          0,    0,    0,    0,    0,    0,    0,    0,    0,    0,    0,\n",
       "          0,    0,    0,    0,    0,    0,    0,    0,    0,    0],\n",
       "      dtype=int32)"
      ]
     },
     "execution_count": 49,
     "metadata": {},
     "output_type": "execute_result"
    }
   ],
   "source": [
    "from keras.preprocessing.sequence import pad_sequences\n",
    "\n",
    "# padding the document's sequences by the shape of the max string sequence length\n",
    "padded_doc_sequences = pad_sequences(doc_sequences, input_length, padding=\"post\")\n",
    "padded_doc_sequences[0]"
   ]
  },
  {
   "cell_type": "code",
   "execution_count": 58,
   "metadata": {},
   "outputs": [],
   "source": [
    "from david.text.prep import get_sentiment_polarity\n",
    "# I forgot to do this bedfore getting this far so this is an attempt to\n",
    "# get some labels for trainig the keras model. (This is just for testing anyway)\n",
    "def get_doc_sentiment_labels(doc_sequences):\n",
    "    sentiment_labels = []\n",
    "    for token_ids in doc_sequences:\n",
    "        string = tokenizer.convert_ids_to_string(token_ids)\n",
    "        polarity = get_sentiment_polarity(string)\n",
    "        sentiment_labels.append(1 if polarity > 0 else 0)\n",
    "    return sentiment_labels"
   ]
  },
  {
   "cell_type": "code",
   "execution_count": 59,
   "metadata": {},
   "outputs": [
    {
     "name": "stdout",
     "output_type": "stream",
     "text": [
      "This is very Good Way to Wake up myself from dreaming Fairy Life. Feeling Energetic Now.\n",
      "this is very good way to wake up myself from dreaming fairy life. feeling energetic now.\n",
      "polarity: 0.705\n"
     ]
    }
   ],
   "source": [
    "original_text0 = train_dataset[0]  # checking the index order from both sets.\n",
    "embedded_text0 = tokenizer.convert_ids_to_string(doc_sequences[0])\n",
    "text0_sentiment = get_sentiment_polarity(embedded_text0)\n",
    "print(original_text0)\n",
    "print(embedded_text0)\n",
    "print('polarity:', text0_sentiment)"
   ]
  },
  {
   "cell_type": "code",
   "execution_count": 60,
   "metadata": {},
   "outputs": [
    {
     "data": {
      "text/plain": [
       "[1, 1, 0, 0, 0]"
      ]
     },
     "execution_count": 60,
     "metadata": {},
     "output_type": "execute_result"
    }
   ],
   "source": [
    "y_doc_sentiment = get_doc_sentiment_labels(doc_sequences)\n",
    "y_doc_sentiment[:5]  # 1 for positive, 0 for negative."
   ]
  },
  {
   "cell_type": "code",
   "execution_count": 61,
   "metadata": {},
   "outputs": [
    {
     "data": {
      "text/plain": [
       "(800, 800)"
      ]
     },
     "execution_count": 61,
     "metadata": {},
     "output_type": "execute_result"
    }
   ],
   "source": [
    "# okay we are good! we can use these sentiment labels to test the keras model!\n",
    "len(y_doc_sentiment), len(doc_sequences)"
   ]
  },
  {
   "cell_type": "markdown",
   "metadata": {},
   "source": [
    "## training the model"
   ]
  },
  {
   "cell_type": "code",
   "execution_count": 62,
   "metadata": {},
   "outputs": [
    {
     "name": "stdout",
     "output_type": "stream",
     "text": [
      "Epoch 1/100\n",
      "800/800 [==============================] - 1s 1ms/step - loss: 0.7560 - acc: 0.5325\n",
      "Epoch 2/100\n",
      "800/800 [==============================] - 1s 1ms/step - loss: 0.5568 - acc: 0.7237\n",
      "Epoch 3/100\n",
      "800/800 [==============================] - 1s 929us/step - loss: 0.4711 - acc: 0.8462\n",
      "Epoch 4/100\n",
      "800/800 [==============================] - 1s 1ms/step - loss: 0.4248 - acc: 0.8725\n",
      "Epoch 5/100\n",
      "800/800 [==============================] - 1s 899us/step - loss: 0.3851 - acc: 0.8938\n",
      "Epoch 6/100\n",
      "800/800 [==============================] - 1s 1ms/step - loss: 0.3529 - acc: 0.9125\n",
      "Epoch 7/100\n",
      "800/800 [==============================] - 1s 906us/step - loss: 0.3307 - acc: 0.9187\n",
      "Epoch 8/100\n",
      "800/800 [==============================] - 1s 940us/step - loss: 0.3060 - acc: 0.9463\n",
      "Epoch 9/100\n",
      "800/800 [==============================] - 1s 914us/step - loss: 0.2819 - acc: 0.9488\n",
      "Epoch 10/100\n",
      "800/800 [==============================] - 1s 968us/step - loss: 0.2651 - acc: 0.9613\n",
      "Epoch 11/100\n",
      "800/800 [==============================] - 1s 712us/step - loss: 0.2478 - acc: 0.9737\n",
      "Epoch 12/100\n",
      "800/800 [==============================] - 1s 737us/step - loss: 0.2338 - acc: 0.9675\n",
      "Epoch 13/100\n",
      "800/800 [==============================] - 1s 895us/step - loss: 0.2204 - acc: 0.9775\n",
      "Epoch 14/100\n",
      "800/800 [==============================] - 1s 891us/step - loss: 0.2090 - acc: 0.9825\n",
      "Epoch 15/100\n",
      "800/800 [==============================] - 1s 1ms/step - loss: 0.1960 - acc: 0.9875\n",
      "Epoch 16/100\n",
      "800/800 [==============================] - 1s 845us/step - loss: 0.1858 - acc: 0.9887\n",
      "Epoch 17/100\n",
      "800/800 [==============================] - 1s 959us/step - loss: 0.1774 - acc: 0.9912\n",
      "Epoch 18/100\n",
      "800/800 [==============================] - 1s 1ms/step - loss: 0.1673 - acc: 0.9937\n",
      "Epoch 19/100\n",
      "800/800 [==============================] - 1s 1ms/step - loss: 0.1608 - acc: 0.9962\n",
      "Epoch 20/100\n",
      "800/800 [==============================] - 1s 753us/step - loss: 0.1532 - acc: 0.9950\n",
      "Epoch 21/100\n",
      "800/800 [==============================] - 1s 1ms/step - loss: 0.1464 - acc: 0.9962\n",
      "Epoch 22/100\n",
      "800/800 [==============================] - 1s 1ms/step - loss: 0.1387 - acc: 0.9962\n",
      "Epoch 23/100\n",
      "800/800 [==============================] - 1s 721us/step - loss: 0.1323 - acc: 0.9962\n",
      "Epoch 24/100\n",
      "800/800 [==============================] - 1s 708us/step - loss: 0.1277 - acc: 0.9987\n",
      "Epoch 25/100\n",
      "800/800 [==============================] - 1s 719us/step - loss: 0.1218 - acc: 0.9975\n",
      "Epoch 26/100\n",
      "800/800 [==============================] - 1s 714us/step - loss: 0.1171 - acc: 0.9975\n",
      "Epoch 27/100\n",
      "800/800 [==============================] - 1s 836us/step - loss: 0.1122 - acc: 1.0000\n",
      "Epoch 28/100\n",
      "800/800 [==============================] - 1s 943us/step - loss: 0.1082 - acc: 1.0000\n",
      "Epoch 29/100\n",
      "800/800 [==============================] - 1s 988us/step - loss: 0.1034 - acc: 1.0000\n",
      "Epoch 30/100\n",
      "800/800 [==============================] - 1s 905us/step - loss: 0.0995 - acc: 1.0000\n",
      "Epoch 31/100\n",
      "800/800 [==============================] - 1s 1ms/step - loss: 0.0965 - acc: 1.0000\n",
      "Epoch 32/100\n",
      "800/800 [==============================] - 1s 915us/step - loss: 0.0925 - acc: 1.0000\n",
      "Epoch 33/100\n",
      "800/800 [==============================] - 1s 1ms/step - loss: 0.0890 - acc: 1.0000\n",
      "Epoch 34/100\n",
      "800/800 [==============================] - 1s 980us/step - loss: 0.0859 - acc: 1.0000\n",
      "Epoch 35/100\n",
      "800/800 [==============================] - 1s 1ms/step - loss: 0.0827 - acc: 1.0000\n",
      "Epoch 36/100\n",
      "800/800 [==============================] - 1s 858us/step - loss: 0.0807 - acc: 1.0000\n",
      "Epoch 37/100\n",
      "800/800 [==============================] - 1s 879us/step - loss: 0.0775 - acc: 1.0000\n",
      "Epoch 38/100\n",
      "800/800 [==============================] - 1s 1ms/step - loss: 0.0748 - acc: 1.0000\n",
      "Epoch 39/100\n",
      "800/800 [==============================] - 1s 1ms/step - loss: 0.0725 - acc: 1.0000\n",
      "Epoch 40/100\n",
      "800/800 [==============================] - 1s 971us/step - loss: 0.0702 - acc: 1.0000\n",
      "Epoch 41/100\n",
      "800/800 [==============================] - 1s 1ms/step - loss: 0.0678 - acc: 1.0000\n",
      "Epoch 42/100\n",
      "800/800 [==============================] - 1s 961us/step - loss: 0.0656 - acc: 1.0000\n",
      "Epoch 43/100\n",
      "800/800 [==============================] - 1s 1ms/step - loss: 0.0636 - acc: 1.0000\n",
      "Epoch 44/100\n",
      "800/800 [==============================] - 1s 912us/step - loss: 0.0617 - acc: 1.0000\n",
      "Epoch 45/100\n",
      "800/800 [==============================] - 1s 1ms/step - loss: 0.0596 - acc: 1.0000\n",
      "Epoch 46/100\n",
      "800/800 [==============================] - 1s 1ms/step - loss: 0.0583 - acc: 1.0000\n",
      "Epoch 47/100\n",
      "800/800 [==============================] - 1s 1ms/step - loss: 0.0562 - acc: 1.0000\n",
      "Epoch 48/100\n",
      "800/800 [==============================] - 1s 941us/step - loss: 0.0547 - acc: 1.0000\n",
      "Epoch 49/100\n",
      "800/800 [==============================] - 1s 1ms/step - loss: 0.0531 - acc: 1.0000\n",
      "Epoch 50/100\n",
      "800/800 [==============================] - 1s 889us/step - loss: 0.0515 - acc: 1.0000\n",
      "Epoch 51/100\n",
      "800/800 [==============================] - 1s 1ms/step - loss: 0.0502 - acc: 1.0000\n",
      "Epoch 52/100\n",
      "800/800 [==============================] - 1s 881us/step - loss: 0.0487 - acc: 1.0000\n",
      "Epoch 53/100\n",
      "800/800 [==============================] - 1s 864us/step - loss: 0.0473 - acc: 1.0000\n",
      "Epoch 54/100\n",
      "800/800 [==============================] - 1s 1ms/step - loss: 0.0462 - acc: 1.0000\n",
      "Epoch 55/100\n",
      "800/800 [==============================] - 1s 894us/step - loss: 0.0449 - acc: 1.0000\n",
      "Epoch 56/100\n",
      "800/800 [==============================] - 1s 1ms/step - loss: 0.0438 - acc: 1.0000\n",
      "Epoch 57/100\n",
      "800/800 [==============================] - 1s 1ms/step - loss: 0.0427 - acc: 1.0000\n",
      "Epoch 58/100\n",
      "800/800 [==============================] - 1s 783us/step - loss: 0.0412 - acc: 1.0000\n",
      "Epoch 59/100\n",
      "800/800 [==============================] - 1s 749us/step - loss: 0.0404 - acc: 1.0000\n",
      "Epoch 60/100\n",
      "800/800 [==============================] - 1s 947us/step - loss: 0.0397 - acc: 1.0000\n",
      "Epoch 61/100\n",
      "800/800 [==============================] - 1s 962us/step - loss: 0.0384 - acc: 1.0000\n",
      "Epoch 62/100\n",
      "800/800 [==============================] - 1s 1ms/step - loss: 0.0375 - acc: 1.0000\n",
      "Epoch 63/100\n",
      "800/800 [==============================] - 1s 1ms/step - loss: 0.0364 - acc: 1.0000\n",
      "Epoch 64/100\n",
      "800/800 [==============================] - 1s 1ms/step - loss: 0.0355 - acc: 1.0000\n",
      "Epoch 65/100\n",
      "800/800 [==============================] - 1s 883us/step - loss: 0.0347 - acc: 1.0000\n",
      "Epoch 66/100\n",
      "800/800 [==============================] - 1s 983us/step - loss: 0.0338 - acc: 1.0000\n",
      "Epoch 67/100\n",
      "800/800 [==============================] - 1s 990us/step - loss: 0.0330 - acc: 1.0000\n",
      "Epoch 68/100\n",
      "800/800 [==============================] - 1s 1ms/step - loss: 0.0323 - acc: 1.0000\n",
      "Epoch 69/100\n",
      "800/800 [==============================] - 1s 828us/step - loss: 0.0315 - acc: 1.0000\n",
      "Epoch 70/100\n",
      "800/800 [==============================] - 1s 680us/step - loss: 0.0307 - acc: 1.0000\n",
      "Epoch 71/100\n",
      "800/800 [==============================] - 1s 877us/step - loss: 0.0300 - acc: 1.0000\n",
      "Epoch 72/100\n",
      "800/800 [==============================] - 1s 854us/step - loss: 0.0295 - acc: 1.0000\n",
      "Epoch 73/100\n",
      "800/800 [==============================] - 1s 951us/step - loss: 0.0288 - acc: 1.0000\n",
      "Epoch 74/100\n",
      "800/800 [==============================] - 1s 1ms/step - loss: 0.0281 - acc: 1.0000\n",
      "Epoch 75/100\n",
      "800/800 [==============================] - 1s 874us/step - loss: 0.0275 - acc: 1.0000\n",
      "Epoch 76/100\n",
      "800/800 [==============================] - 1s 1ms/step - loss: 0.0271 - acc: 1.0000\n",
      "Epoch 77/100\n",
      "800/800 [==============================] - 1s 951us/step - loss: 0.0265 - acc: 1.0000\n",
      "Epoch 78/100\n",
      "800/800 [==============================] - 1s 1ms/step - loss: 0.0258 - acc: 1.0000\n",
      "Epoch 79/100\n",
      "800/800 [==============================] - 1s 1ms/step - loss: 0.0252 - acc: 1.0000\n",
      "Epoch 80/100\n",
      "800/800 [==============================] - 1s 1ms/step - loss: 0.0246 - acc: 1.0000\n",
      "Epoch 81/100\n",
      "800/800 [==============================] - 1s 963us/step - loss: 0.0241 - acc: 1.0000\n",
      "Epoch 82/100\n",
      "800/800 [==============================] - 1s 884us/step - loss: 0.0236 - acc: 1.0000\n",
      "Epoch 83/100\n",
      "800/800 [==============================] - 1s 1ms/step - loss: 0.0231 - acc: 1.0000\n",
      "Epoch 84/100\n",
      "800/800 [==============================] - 1s 1ms/step - loss: 0.0226 - acc: 1.0000\n",
      "Epoch 85/100\n",
      "800/800 [==============================] - 1s 863us/step - loss: 0.0222 - acc: 1.0000\n",
      "Epoch 86/100\n",
      "800/800 [==============================] - 1s 1ms/step - loss: 0.0217 - acc: 1.0000\n",
      "Epoch 87/100\n",
      "800/800 [==============================] - 1s 1ms/step - loss: 0.0212 - acc: 1.0000\n",
      "Epoch 88/100\n",
      "800/800 [==============================] - 1s 924us/step - loss: 0.0208 - acc: 1.0000\n",
      "Epoch 89/100\n",
      "800/800 [==============================] - 1s 1ms/step - loss: 0.0204 - acc: 1.0000\n",
      "Epoch 90/100\n",
      "800/800 [==============================] - 1s 969us/step - loss: 0.0200 - acc: 1.0000\n",
      "Epoch 91/100\n",
      "800/800 [==============================] - 1s 1ms/step - loss: 0.0196 - acc: 1.0000\n",
      "Epoch 92/100\n",
      "800/800 [==============================] - 1s 884us/step - loss: 0.0192 - acc: 1.0000\n",
      "Epoch 93/100\n",
      "800/800 [==============================] - 1s 657us/step - loss: 0.0189 - acc: 1.0000\n",
      "Epoch 94/100\n",
      "800/800 [==============================] - 1s 922us/step - loss: 0.0185 - acc: 1.0000\n",
      "Epoch 95/100\n",
      "800/800 [==============================] - 1s 1ms/step - loss: 0.0182 - acc: 1.0000\n",
      "Epoch 96/100\n",
      "800/800 [==============================] - 1s 786us/step - loss: 0.0178 - acc: 1.0000\n",
      "Epoch 97/100\n",
      "800/800 [==============================] - 1s 993us/step - loss: 0.0175 - acc: 1.0000\n",
      "Epoch 98/100\n",
      "800/800 [==============================] - 1s 774us/step - loss: 0.0171 - acc: 1.0000\n",
      "Epoch 99/100\n",
      "800/800 [==============================] - 1s 1ms/step - loss: 0.0168 - acc: 1.0000\n",
      "Epoch 100/100\n",
      "800/800 [==============================] - 1s 749us/step - loss: 0.0165 - acc: 1.0000\n"
     ]
    },
    {
     "data": {
      "text/plain": [
       "<keras.callbacks.callbacks.History at 0x7f16500c7d50>"
      ]
     },
     "execution_count": 62,
     "metadata": {},
     "output_type": "execute_result"
    }
   ],
   "source": [
    "model.fit(padded_doc_sequences, y_doc_sentiment, epochs=100, verbose=1)"
   ]
  },
  {
   "cell_type": "code",
   "execution_count": 63,
   "metadata": {},
   "outputs": [
    {
     "name": "stdout",
     "output_type": "stream",
     "text": [
      "800/800 [==============================] - 0s 131us/step\n",
      "accuracy: 100.0%\n"
     ]
    }
   ],
   "source": [
    "# of course this is not a proper evaluation!\n",
    "loss, accuracy = model.evaluate(padded_doc_sequences, y_doc_sentiment, verbose=1)\n",
    "print(f\"accuracy: {round(accuracy*100, 2)}%\")"
   ]
  },
  {
   "cell_type": "code",
   "execution_count": 88,
   "metadata": {},
   "outputs": [
    {
     "name": "stdout",
     "output_type": "stream",
     "text": [
      "[[ 469  124   17    9    7   98 1078    0    0    0    0    0    0    0\n",
      "     0    0    0    0    0    0    0    0    0    0    0    0    0    0\n",
      "     0    0    0    0    0    0    0    0    0    0    0    0    0    0\n",
      "     0    0    0    0    0    0    0    0    0    0    0    0    0    0\n",
      "     0    0    0    0    0    0    0    0    0    0    0    0    0    0\n",
      "     0    0    0    0    0    0    0    0    0    0    0    0    0    0\n",
      "     0    0    0    0    0    0    0    0    0    0    0    0    0    0\n",
      "     0    0    0    0    0    0    0    0    0    0    0    0    0    0\n",
      "     0    0    0    0    0    0    0    0    0    0    0    0    0    0\n",
      "     0    0    0    0    0    0    0    0    0    0    0    0    0    0\n",
      "     0    0    0    0    0    0    0    0    0    0    0    0    0    0\n",
      "     0    0    0    0    0    0    0    0    0    0    0    0    0    0\n",
      "     0    0    0    0    0    0    0    0    0    0    0    0    0    0\n",
      "     0    0    0    0    0    0    0    0    0    0    0    0    0    0\n",
      "     0    0    0    0    0    0    0    0    0    0    0    0    0    0\n",
      "     0    0    0    0    0    0    0    0    0    0    0    0    0    0\n",
      "     0    0    0    0    0    0    0    0    0    0    0    0    0    0\n",
      "     0    0    0    0    0    0    0    0    0    0    0    0    0    0\n",
      "     0    0    0    0    0    0    0    0    0    0    0    0    0    0\n",
      "     0    0    0    0    0    0    0    0    0    0    0    0    0    0\n",
      "     0    0    0    0    0    0    0    0    0    0    0    0    0    0\n",
      "     0    0    0    0    0    0    0    0    0    0    0    0    0    0\n",
      "     0    0    0    0    0    0    0    0    0    0    0    0    0    0\n",
      "     0    0    0    0    0    0    0    0    0    0    0    0    0    0\n",
      "     0    0    0    0    0    0    0    0    0    0    0    0    0    0\n",
      "     0    0    0    0    0    0    0    0    0    0    0    0]]\n",
      "['hello', 'world', 'this', 'is', 'a', 'new', 'text']\n"
     ]
    }
   ],
   "source": [
    "def pad_string_input(text: str, maxlen=largest_string):\n",
    "    tokens = tokenizer.tokenize(text)\n",
    "    embedd = tokenizer.convert_tokens_to_ids(tokens)\n",
    "    return pad_sequences([embedd], maxlen=maxlen, padding=\"post\")\n",
    "\n",
    "embedd_input = pad_string_input(\"hello world this is a new text\")\n",
    "string_input = tokenizer.convert_ids_to_tokens(embedd_input.tolist()[0])\n",
    "print(embedd_input)\n",
    "print(string_input)"
   ]
  },
  {
   "cell_type": "code",
   "execution_count": 93,
   "metadata": {},
   "outputs": [],
   "source": [
    "def predict_sentiment(text, k=0.60):\n",
    "    embedd_input = pad_string_input(text)\n",
    "    embedd_score = model.predict(embedd_input)[0]\n",
    "\n",
    "    prediction = \"{} -> {}-score : ({})%\"\n",
    "    if embedd_score[0] >= k:\n",
    "        prediction = prediction.format(\n",
    "            text, 'positive', round(embedd_score[0] * 100, 2))\n",
    "    else:\n",
    "        prediction = prediction.format(\n",
    "            text, 'negative', round(embedd_score[0] * 100, 2))\n",
    "        \n",
    "    print(prediction)"
   ]
  },
  {
   "cell_type": "code",
   "execution_count": 94,
   "metadata": {},
   "outputs": [
    {
     "name": "stdout",
     "output_type": "stream",
     "text": [
      "hello world this is a super happy text! -> positive-score : (87.99)%\n"
     ]
    }
   ],
   "source": [
    "predict_sentiment(\"hello world this is a super happy text!\")"
   ]
  },
  {
   "cell_type": "code",
   "execution_count": 95,
   "metadata": {},
   "outputs": [
    {
     "name": "stdout",
     "output_type": "stream",
     "text": [
      "I hate you!!, and everything about it -> negative-score : (23.84)%\n"
     ]
    }
   ],
   "source": [
    "predict_sentiment(\"I hate you!!, and everything about it\")"
   ]
  },
  {
   "cell_type": "code",
   "execution_count": 96,
   "metadata": {},
   "outputs": [
    {
     "data": {
      "text/plain": [
       "-1.0"
      ]
     },
     "execution_count": 96,
     "metadata": {},
     "output_type": "execute_result"
    }
   ],
   "source": [
    "# We have improved our sentiment classifier!\n",
    "get_sentiment_polarity(\"I hate you!!, and everything about it\")"
   ]
  },
  {
   "cell_type": "code",
   "execution_count": null,
   "metadata": {},
   "outputs": [],
   "source": []
  }
 ],
 "metadata": {
  "kernelspec": {
   "display_name": "Python 3",
   "language": "python",
   "name": "python3"
  },
  "language_info": {
   "codemirror_mode": {
    "name": "ipython",
    "version": 3
   },
   "file_extension": ".py",
   "mimetype": "text/x-python",
   "name": "python",
   "nbconvert_exporter": "python",
   "pygments_lexer": "ipython3",
   "version": "3.7.6"
  }
 },
 "nbformat": 4,
 "nbformat_minor": 4
}
