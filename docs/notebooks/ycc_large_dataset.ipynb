{
 "cells": [
  {
   "cell_type": "code",
   "execution_count": 1,
   "metadata": {},
   "outputs": [],
   "source": [
    "import os\n",
    "import re\n",
    "import gensim\n",
    "import pandas as pd\n",
    "\n",
    "from pprint import pprint\n",
    "from gensim import corpora\n",
    "from nltk.stem.wordnet import WordNetLemmatizer\n",
    "from vuepoint.vuepoint.stats_pipeline import get_dataframe_stats\n",
    "from vuepoint.vuepoint.text_pipeline import preprocess_dataframe_text"
   ]
  },
  {
   "cell_type": "code",
   "execution_count": 2,
   "metadata": {
    "scrolled": true
   },
   "outputs": [
    {
     "data": {
      "text/plain": [
       "0    People look back at my car (MGB) and laugh at ...\n",
       "1    for some ubsurd reson im having truble with in...\n",
       "2    at 32m on file io, os.remove throws this error...\n",
       "3    Is there a way to just put this on a usb drive...\n",
       "4    Someone tell me that I'm not the only one unsu...\n",
       "Name: text, dtype: object"
      ]
     },
     "execution_count": 2,
     "metadata": {},
     "output_type": "execute_result"
    }
   ],
   "source": [
    "ycc = pd.read_csv('ycc_dataset_large/ycc_not_reply.csv', index_col=0).reset_index()\n",
    "ycc.text.head()"
   ]
  },
  {
   "cell_type": "code",
   "execution_count": 3,
   "metadata": {},
   "outputs": [
    {
     "data": {
      "text/plain": [
       "count    42388.000000\n",
       "mean       165.869586\n",
       "std        216.382456\n",
       "min         21.000000\n",
       "25%         73.000000\n",
       "50%        105.000000\n",
       "75%        177.000000\n",
       "max       9239.000000\n",
       "Name: text_len, dtype: float64"
      ]
     },
     "execution_count": 3,
     "metadata": {},
     "output_type": "execute_result"
    }
   ],
   "source": [
    "ycc.text_len.describe()"
   ]
  },
  {
   "cell_type": "code",
   "execution_count": 111,
   "metadata": {},
   "outputs": [
    {
     "name": "stderr",
     "output_type": "stream",
     "text": [
      "/home/ego/anaconda3/envs/ai/lib/python3.6/site-packages/seaborn/categorical.py:3666: UserWarning: The `factorplot` function has been renamed to `catplot`. The original name will be removed in a future release. Please update your code. Note that the default `kind` in `factorplot` (`'point'`) has changed `'strip'` in `catplot`.\n",
      "  warnings.warn(msg)\n"
     ]
    },
    {
     "data": {
      "image/png": "[encoded data removed]",
      "text/plain": [
       "<Figure size 439.75x360 with 1 Axes>"
      ]
     },
     "metadata": {
      "needs_background": "light"
     },
     "output_type": "display_data"
    }
   ],
   "source": [
    "import seaborn as sns\n",
    "\n",
    "sc = sns.factorplot(\n",
    "    x=\"search_query\",\n",
    "    hue=\"sentiment\",\n",
    "    data=ycc,\n",
    "    kind=\"count\",\n",
    "    palette={\"negative\": \"#FE2020\",\n",
    "             \"positive\": \"#BADD07\",\n",
    "             \"neutral\": \"#68BFF5\"}\n",
    ")"
   ]
  },
  {
   "cell_type": "code",
   "execution_count": 4,
   "metadata": {},
   "outputs": [
    {
     "data": {
      "text/plain": [
       "0    people look back at my car mgb and laugh at ho...\n",
       "1    for some ubsurd reson im having truble with in...\n",
       "2    at m on file io o remove throw this error wind...\n",
       "3    is there a way to just put this on a usb drive...\n",
       "4    someone tell me that i am not the only one uns...\n",
       "Name: text, dtype: object"
      ]
     },
     "execution_count": 4,
     "metadata": {},
     "output_type": "execute_result"
    }
   ],
   "source": [
    "ycc = preprocess_dataframe_text(ycc, 'text')\n",
    "ycc.text.head()"
   ]
  },
  {
   "cell_type": "code",
   "execution_count": 5,
   "metadata": {
    "scrolled": true
   },
   "outputs": [
    {
     "name": "stderr",
     "output_type": "stream",
     "text": [
      "Using TensorFlow backend.\n",
      "/home/ego/anaconda3/envs/ai/lib/python3.6/site-packages/aruana/aruana.py:1258: Warning: Could not load model. Execution will continue, but you can't do annotations unless you download the necessary models.\n",
      "  warnings.warn('Could not load model. Execution will continue, but you can\\'t do annotations unless you download the necessary models.', Warning)\n"
     ]
    }
   ],
   "source": [
    "from aruana import Aruana\n",
    "\n",
    "aurana = Aruana('en')"
   ]
  },
  {
   "cell_type": "code",
   "execution_count": 6,
   "metadata": {},
   "outputs": [
    {
     "data": {
      "text/plain": [
       "0    people look back car mgb laugh old fashioned r...\n",
       "1    ubsurd reson im truble instaling module could ...\n",
       "2    m file io o remove throw error windowserror er...\n",
       "3                    way put usb drive upload computer\n",
       "4    someone tell one unsubscribing resubscribing w...\n",
       "Name: text, dtype: object"
      ]
     },
     "execution_count": 6,
     "metadata": {},
     "output_type": "execute_result"
    }
   ],
   "source": [
    "ycc['text'] = ycc['text'].apply(\n",
    "    lambda x: aurana.preprocess(x, stem=False, tokenize=False, remove_stopwords=True)\n",
    ")\n",
    "ycc.text.head()"
   ]
  },
  {
   "cell_type": "code",
   "execution_count": 7,
   "metadata": {},
   "outputs": [],
   "source": [
    "from spacy.lang.en import stop_words\n",
    "\n",
    "def get_most_frequent_words(df, text_column, N_words=20):\n",
    "    common_words = pd.Series(' '.join(\n",
    "        df[text_column]).lower().split()).value_counts()[:N_words]\n",
    "    uncommon_words = pd.Series(' '.join(\n",
    "        df[text_column]).lower().split()).value_counts()[-N_words:]\n",
    "    return common_words, uncommon_words\n",
    "\n",
    "# we will add custom stop words to stop_words with union\n",
    "common_words, uncommon_words = get_most_frequent_words(ycc, text_column='text')\n",
    "df_stopwords = set(stop_words.STOP_WORDS)\n",
    "df_stopwords = df_stopwords.union(list(common_words.keys()))\n",
    "df_stopwords = df_stopwords.union(list(uncommon_words.keys()))"
   ]
  },
  {
   "cell_type": "code",
   "execution_count": 8,
   "metadata": {},
   "outputs": [],
   "source": [
    "from vuepoint.vuepoint.models_pipeline import process_words\n",
    "\n",
    "def sent_to_words(sentences):\n",
    "    for sent in sentences:\n",
    "        sent = gensim.utils.simple_preprocess(str(sent), deacc=True)\n",
    "        yield(sent)\n",
    "\n",
    "data_list = ycc.text.values.tolist()\n",
    "data_words = list(sent_to_words(data_list))\n",
    "data_ready = process_words(data_words, stop_words=df_stopwords)"
   ]
  },
  {
   "cell_type": "code",
   "execution_count": 9,
   "metadata": {},
   "outputs": [
    {
     "data": {
      "text/plain": [
       "[('car', 8088),\n",
       " ('phone', 7306),\n",
       " ('video', 6736),\n",
       " ('like', 6539),\n",
       " ('one', 4697),\n",
       " ('wa', 3966),\n",
       " ('get', 3653),\n",
       " ('want', 3511),\n",
       " ('would', 3437),\n",
       " ('make', 3414),\n",
       " ('ha', 3017),\n",
       " ('python', 3010),\n",
       " ('huawei', 2970),\n",
       " ('time', 2928),\n",
       " ('best', 2800),\n",
       " ('good', 2784),\n",
       " ('sir', 2750),\n",
       " ('thing', 2635),\n",
       " ('new', 2625),\n",
       " ('know', 2594)]"
      ]
     },
     "execution_count": 9,
     "metadata": {},
     "output_type": "execute_result"
    }
   ],
   "source": [
    "from vuepoint.vuepoint import NgramFreq\n",
    "\n",
    "NgramFreq.get_top_unigrams(data_list, topn=20)"
   ]
  },
  {
   "cell_type": "code",
   "execution_count": 10,
   "metadata": {},
   "outputs": [
    {
     "data": {
      "text/plain": [
       "[('rkiye rkiye', 692),\n",
       " ('mate pro', 635),\n",
       " ('going going', 519),\n",
       " ('thank much', 463),\n",
       " ('look like', 447),\n",
       " ('new car', 351),\n",
       " ('great video', 350),\n",
       " ('switch mate', 321),\n",
       " ('learn python', 320),\n",
       " ('pro switch', 319),\n",
       " ('redmi note', 318),\n",
       " ('make video', 290),\n",
       " ('note pro', 285),\n",
       " ('would like', 282),\n",
       " ('feel like', 277),\n",
       " ('year old', 273),\n",
       " ('best phone', 273),\n",
       " ('please help', 259),\n",
       " ('py line', 247),\n",
       " ('start stop', 246)]"
      ]
     },
     "execution_count": 10,
     "metadata": {},
     "output_type": "execute_result"
    }
   ],
   "source": [
    "NgramFreq.get_top_bigrams(data_list, topn=20)"
   ]
  },
  {
   "cell_type": "code",
   "execution_count": 11,
   "metadata": {},
   "outputs": [
    {
     "data": {
      "text/plain": [
       "[('rkiye rkiye rkiye', 691),\n",
       " ('going going going', 514),\n",
       " ('switch mate pro', 321),\n",
       " ('mate pro switch', 319),\n",
       " ('pro switch mate', 319),\n",
       " ('redmi note pro', 188),\n",
       " ('best driver car', 158),\n",
       " ('lib site package', 121),\n",
       " ('py line module', 111),\n",
       " ('self driving car', 106),\n",
       " ('low profile tire', 101),\n",
       " ('huawei mate pro', 98),\n",
       " ('happy new year', 96),\n",
       " ('traceback recent call', 94),\n",
       " ('recent call last', 93),\n",
       " ('tesla hater tesla', 92),\n",
       " ('hater tesla hater', 91),\n",
       " ('please make video', 90),\n",
       " ('give away give', 89),\n",
       " ('away give away', 89)]"
      ]
     },
     "execution_count": 11,
     "metadata": {},
     "output_type": "execute_result"
    }
   ],
   "source": [
    "NgramFreq.get_top_trigrams(data_list, topn=20)"
   ]
  },
  {
   "cell_type": "markdown",
   "metadata": {},
   "source": [
    "**LDA model**\n",
    ">- Gensim documentation link: [click here](https://radimrehurek.com/gensim/models/ldamodel.html)"
   ]
  },
  {
   "cell_type": "code",
   "execution_count": 12,
   "metadata": {},
   "outputs": [],
   "source": [
    "id2word = corpora.Dictionary(data_ready)\n",
    "corpus = [id2word.doc2bow(text) for text in data_ready]"
   ]
  },
  {
   "cell_type": "raw",
   "metadata": {},
   "source": [
    "lda_model = gensim.models.ldamodel.LdaModel(corpus=corpus,\n",
    "                                            id2word=id2word,\n",
    "                                            num_topics=10,\n",
    "                                            random_state=100,\n",
    "                                            update_every=1,\n",
    "                                            chunksize=1000,\n",
    "                                            passes=10,\n",
    "                                            alpha='symmetric',\n",
    "                                            iterations=50,\n",
    "                                            per_word_topics=True)\n",
    "# save model to disk\n",
    "lda_model.save('ycc_dataset_large/ycc_lda_model/ycc_not_reply_lda.model')"
   ]
  },
  {
   "cell_type": "code",
   "execution_count": 13,
   "metadata": {
    "scrolled": true
   },
   "outputs": [
    {
     "name": "stdout",
     "output_type": "stream",
     "text": [
      "[(0,\n",
      "  '0.031*\"screen\" + 0.025*\"look\" + 0.019*\"bad\" + 0.017*\"sound\" + '\n",
      "  '0.016*\"android\" + 0.014*\"think\" + 0.013*\"come\" + 0.012*\"agree\" + '\n",
      "  '0.011*\"hit\" + 0.011*\"fake\"'),\n",
      " (1,\n",
      "  '0.046*\"ban\" + 0.034*\"tech\" + 0.026*\"code\" + 0.025*\"run\" + 0.022*\"user\" + '\n",
      "  '0.022*\"file\" + 0.020*\"error\" + 0.020*\"help\" + 0.019*\"write\" + '\n",
      "  '0.017*\"charge\"'),\n",
      " (2,\n",
      "  '0.032*\"life\" + 0.023*\"day\" + 0.020*\"people\" + 0.015*\"read\" + 0.014*\"mobile\" '\n",
      "  '+ 0.013*\"think\" + 0.012*\"money\" + 0.012*\"game\" + 0.012*\"change\" + '\n",
      "  '0.011*\"mind\"'),\n",
      " (3,\n",
      "  '0.047*\"camera\" + 0.016*\"engine\" + 0.015*\"pixel\" + 0.015*\"manufacturer\" + '\n",
      "  '0.014*\"power\" + 0.013*\"look\" + 0.012*\"grill\" + 0.012*\"suv\" + 0.012*\"turbo\" '\n",
      "  '+ 0.012*\"design\"'),\n",
      " (4,\n",
      "  '0.029*\"drive\" + 0.016*\"year\" + 0.016*\"old\" + 0.015*\"people\" + 0.014*\"look\" '\n",
      "  '+ 0.014*\"vehicle\" + 0.012*\"stupid\" + 0.012*\"light\" + 0.012*\"hate\" + '\n",
      "  '0.011*\"pro\"'),\n",
      " (5,\n",
      "  '0.034*\"start\" + 0.021*\"stop\" + 0.017*\"turn\" + 0.017*\"work\" + 0.015*\"key\" + '\n",
      "  '0.014*\"doe\" + 0.014*\"know\" + 0.013*\"system\" + 0.012*\"find\" + '\n",
      "  '0.010*\"computer\"'),\n",
      " (6,\n",
      "  '0.055*\"thank\" + 0.037*\"great\" + 0.035*\"learn\" + 0.027*\"love\" + '\n",
      "  '0.027*\"watch\" + 0.020*\"course\" + 0.014*\"tutorial\" + 0.014*\"know\" + '\n",
      "  '0.013*\"lot\" + 0.012*\"country\"'),\n",
      " (7,\n",
      "  '0.065*\"buy\" + 0.024*\"price\" + 0.022*\"note\" + 0.021*\"think\" + 0.017*\"button\" '\n",
      "  '+ 0.015*\"cheap\" + 0.015*\"technology\" + 0.014*\"sell\" + 0.012*\"control\" + '\n",
      "  '0.012*\"people\"'),\n",
      " (8,\n",
      "  '0.042*\"apple\" + 0.041*\"samsung\" + 0.037*\"print\" + 0.036*\"iphone\" + '\n",
      "  '0.034*\"smartphone\" + 0.023*\"list\" + 0.021*\"wait\" + 0.020*\"review\" + '\n",
      "  '0.019*\"main\" + 0.019*\"device\"'),\n",
      " (9,\n",
      "  '0.044*\"company\" + 0.033*\"china\" + 0.028*\"battery\" + 0.022*\"use\" + '\n",
      "  '0.018*\"chinese\" + 0.016*\"app\" + 0.015*\"trump\" + 0.013*\"world\" + '\n",
      "  '0.012*\"american\" + 0.011*\"question\"')]\n"
     ]
    }
   ],
   "source": [
    "# load model from disk\n",
    "lda_model = gensim.models.ldamodel.LdaModel.load('ycc_dataset_large/ycc_lda_model/ycc_not_reply_lda.model')\n",
    "pprint(lda_model.print_topics())"
   ]
  },
  {
   "cell_type": "raw",
   "metadata": {},
   "source": [
    "from vuepoint.vuepoint import Vue\n",
    "vuepoint = Vue()\n",
    "\n",
    "topic_keywords = vuepoint.format_sent_topics(\n",
    "    ldamodel=lda_model, corpus=corpus, texts=data_ready, n_topics=10)\n",
    "\n",
    "dominant_topic = topic_keywords.reset_index()\n",
    "dominant_topic.columns = ['doc_num', 'dominant_topic', 'topic_perc_contrib', 'key_words', 'text']\n",
    "dominant_topic.to_csv('ycc_dataset_large/ycc_not_reply_10topic_model.csv')"
   ]
  },
  {
   "cell_type": "code",
   "execution_count": 15,
   "metadata": {},
   "outputs": [
    {
     "data": {
      "text/html": [
       "<div>\n",
       "<style scoped>\n",
       "    .dataframe tbody tr th:only-of-type {\n",
       "        vertical-align: middle;\n",
       "    }\n",
       "\n",
       "    .dataframe tbody tr th {\n",
       "        vertical-align: top;\n",
       "    }\n",
       "\n",
       "    .dataframe thead th {\n",
       "        text-align: right;\n",
       "    }\n",
       "</style>\n",
       "<table border=\"1\" class=\"dataframe\">\n",
       "  <thead>\n",
       "    <tr style=\"text-align: right;\">\n",
       "      <th></th>\n",
       "      <th>index</th>\n",
       "      <th>doc_num</th>\n",
       "      <th>dominant_topic</th>\n",
       "      <th>topic_perc_contrib</th>\n",
       "      <th>key_words</th>\n",
       "      <th>text</th>\n",
       "    </tr>\n",
       "  </thead>\n",
       "  <tbody>\n",
       "    <tr>\n",
       "      <th>0</th>\n",
       "      <td>0</td>\n",
       "      <td>0</td>\n",
       "      <td>6.0</td>\n",
       "      <td>0.191849</td>\n",
       "      <td>thank, great, learn, love, watch, course, tuto...</td>\n",
       "      <td>['people', 'look', 'mgb', 'laugh', 'old_fashio...</td>\n",
       "    </tr>\n",
       "    <tr>\n",
       "      <th>1</th>\n",
       "      <td>1</td>\n",
       "      <td>1</td>\n",
       "      <td>1.0</td>\n",
       "      <td>0.702689</td>\n",
       "      <td>ban, tech, code, run, user, file, error, help,...</td>\n",
       "      <td>['ubsurd', 'reson', 'truble', 'instaling', 'mo...</td>\n",
       "    </tr>\n",
       "    <tr>\n",
       "      <th>2</th>\n",
       "      <td>2</td>\n",
       "      <td>2</td>\n",
       "      <td>1.0</td>\n",
       "      <td>0.391578</td>\n",
       "      <td>ban, tech, code, run, user, file, error, help,...</td>\n",
       "      <td>['file', 'remove', 'throw', 'error', 'windowse...</td>\n",
       "    </tr>\n",
       "    <tr>\n",
       "      <th>3</th>\n",
       "      <td>3</td>\n",
       "      <td>3</td>\n",
       "      <td>6.0</td>\n",
       "      <td>0.277531</td>\n",
       "      <td>thank, great, learn, love, watch, course, tuto...</td>\n",
       "      <td>['way', 'usb', 'drive', 'upload', 'computer']</td>\n",
       "    </tr>\n",
       "    <tr>\n",
       "      <th>4</th>\n",
       "      <td>4</td>\n",
       "      <td>4</td>\n",
       "      <td>9.0</td>\n",
       "      <td>0.700594</td>\n",
       "      <td>company, china, battery, use, chinese, app, tr...</td>\n",
       "      <td>['tell', 'unsubscribe', 'resubscribe', 'win_xb...</td>\n",
       "    </tr>\n",
       "  </tbody>\n",
       "</table>\n",
       "</div>"
      ],
      "text/plain": [
       "   index  doc_num  dominant_topic  topic_perc_contrib  \\\n",
       "0      0        0             6.0            0.191849   \n",
       "1      1        1             1.0            0.702689   \n",
       "2      2        2             1.0            0.391578   \n",
       "3      3        3             6.0            0.277531   \n",
       "4      4        4             9.0            0.700594   \n",
       "\n",
       "                                           key_words  \\\n",
       "0  thank, great, learn, love, watch, course, tuto...   \n",
       "1  ban, tech, code, run, user, file, error, help,...   \n",
       "2  ban, tech, code, run, user, file, error, help,...   \n",
       "3  thank, great, learn, love, watch, course, tuto...   \n",
       "4  company, china, battery, use, chinese, app, tr...   \n",
       "\n",
       "                                                text  \n",
       "0  ['people', 'look', 'mgb', 'laugh', 'old_fashio...  \n",
       "1  ['ubsurd', 'reson', 'truble', 'instaling', 'mo...  \n",
       "2  ['file', 'remove', 'throw', 'error', 'windowse...  \n",
       "3      ['way', 'usb', 'drive', 'upload', 'computer']  \n",
       "4  ['tell', 'unsubscribe', 'resubscribe', 'win_xb...  "
      ]
     },
     "execution_count": 15,
     "metadata": {},
     "output_type": "execute_result"
    }
   ],
   "source": [
    "# load saved dominant topic dataframe\n",
    "dominant_topic = pd.read_csv('ycc_dataset_large/ycc_not_reply_10topic_model.csv', index_col=0).reset_index()\n",
    "dominant_topic.head()"
   ]
  },
  {
   "cell_type": "code",
   "execution_count": 16,
   "metadata": {},
   "outputs": [
    {
     "data": {
      "text/plain": [
       "array(['thank, great, learn, love, watch, course, tutorial, know, lot, country',\n",
       "       'ban, tech, code, run, user, file, error, help, write, charge',\n",
       "       'company, china, battery, use, chinese, app, trump, world, american, question',\n",
       "       'life, day, people, read, mobile, think, money, game, change, mind',\n",
       "       'screen, look, bad, sound, android, think, come, agree, hit, fake',\n",
       "       'start, stop, turn, work, key, doe, know, system, find, computer',\n",
       "       'drive, year, old, people, look, vehicle, stupid, light, hate, pro',\n",
       "       'apple, samsung, print, iphone, smartphone, list, wait, review, main, device',\n",
       "       'camera, engine, pixel, manufacturer, power, look, grill, suv, turbo, design',\n",
       "       'buy, price, note, think, button, cheap, technology, sell, control, people'],\n",
       "      dtype=object)"
      ]
     },
     "execution_count": 16,
     "metadata": {},
     "output_type": "execute_result"
    }
   ],
   "source": [
    "dominant_topic.key_words.unique()"
   ]
  },
  {
   "cell_type": "code",
   "execution_count": 17,
   "metadata": {},
   "outputs": [
    {
     "name": "stderr",
     "output_type": "stream",
     "text": [
      "/home/ego/anaconda3/envs/ai/lib/python3.6/site-packages/pyLDAvis/_prepare.py:257: FutureWarning: Sorting because non-concatenation axis is not aligned. A future version\n",
      "of pandas will change to not sort by default.\n",
      "\n",
      "To accept the future behavior, pass 'sort=False'.\n",
      "\n",
      "To retain the current behavior and silence the warning, pass 'sort=True'.\n",
      "\n",
      "  return pd.concat([default_term_info] + list(topic_dfs))\n"
     ]
    }
   ],
   "source": [
    "import pyLDAvis\n",
    "import pyLDAvis.gensim\n",
    "\n",
    "pyLDAvis.enable_notebook()\n",
    "vis = pyLDAvis.gensim.prepare(lda_model, corpus, dictionary=lda_model.id2word)\n",
    "pyLDAvis.save_html(vis, 'ycc_not_reply_10topic_ldamodel.html')"
   ]
  },
  {
   "cell_type": "markdown",
   "metadata": {},
   "source": [
    ">**pyLDAvis Visualizer** (click below to see the prepared LDA vidualization from above)\n",
    "\n",
    "*To use the visualizer click* [here](ycc_dataset_large/ycc_not_reply_10topic_ldamodel.html)"
   ]
  },
  {
   "cell_type": "raw",
   "metadata": {},
   "source": [
    "from multiprocessing import cpu_count\n",
    "\n",
    "model = gensim.models.Word2Vec(size=100, \n",
    "                               window=10, \n",
    "                               min_count=5, \n",
    "                               sample=1e-4,\n",
    "                               seed=1,\n",
    "                               negative=5,\n",
    "                               workers=cpu_count(), sg=1)\n",
    "model.build_vocab(data_ready)\n",
    "print('model vocab length: ', len(model.wv.vocab))\n",
    "model.train(data_ready, total_examples=len(data_ready), epochs=400)\n",
    "model.wv.save_word2vec_format(os.path.join('ycc_dataset_large/word2vec_model', 'ycc_not_reply_w2v.bin'))"
   ]
  },
  {
   "cell_type": "code",
   "execution_count": 19,
   "metadata": {},
   "outputs": [],
   "source": [
    "from gensim.models import KeyedVectors\n",
    "\n",
    "# load previously trained word2vec model - settings used are above\n",
    "model = KeyedVectors.load_word2vec_format('ycc_dataset_large/word2vec_model/ycc_not_reply_w2v.bin', binary=False)"
   ]
  },
  {
   "cell_type": "code",
   "execution_count": 73,
   "metadata": {},
   "outputs": [
    {
     "data": {
      "text/plain": [
       "[('openpyxl', 0.637942910194397),\n",
       " ('pip', 0.6190963983535767),\n",
       " ('exe', 0.5896933078765869),\n",
       " ('keyerror', 0.5868715047836304),\n",
       " ('pypi', 0.5842578411102295),\n",
       " ('pywin_pyhook', 0.570973813533783),\n",
       " ('cmd', 0.5550776124000549),\n",
       " ('error', 0.5466264486312866),\n",
       " ('pyhook', 0.5411828756332397),\n",
       " ('directory', 0.5397024154663086),\n",
       " ('pycharm', 0.5250139236450195),\n",
       " ('sqlite', 0.5195713043212891),\n",
       " ('file', 0.5154427289962769),\n",
       " ('instal', 0.5126602649688721),\n",
       " ('script', 0.5071958899497986),\n",
       " ('interpreter', 0.5066741704940796),\n",
       " ('command_prompt', 0.5049246549606323),\n",
       " ('py', 0.4984384775161743),\n",
       " ('successfully', 0.4954785704612732),\n",
       " ('module_named', 0.4939050078392029)]"
      ]
     },
     "execution_count": 73,
     "metadata": {},
     "output_type": "execute_result"
    }
   ],
   "source": [
    "model.most_similar(\"pip_install\", topn=20)"
   ]
  },
  {
   "cell_type": "code",
   "execution_count": 90,
   "metadata": {},
   "outputs": [
    {
     "data": {
      "text/plain": [
       "[('tuple', 0.5732380747795105),\n",
       " ('col', 0.5249176025390625),\n",
       " ('converter', 0.49687251448631287),\n",
       " ('num_input_enter', 0.4912959933280945),\n",
       " ('loop', 0.48918554186820984),\n",
       " ('pied', 0.48072493076324463),\n",
       " ('multiplication', 0.47666797041893005),\n",
       " ('string', 0.4761608839035034),\n",
       " ('keyword', 0.4757091999053955),\n",
       " ('dictionary', 0.4721795618534088),\n",
       " ('ave', 0.4715415835380554),\n",
       " ('novice', 0.46954965591430664),\n",
       " ('unpack', 0.4578433632850647),\n",
       " ('emoji', 0.45750486850738525),\n",
       " ('boolean', 0.4574245810508728),\n",
       " ('swap_variable', 0.4556662440299988),\n",
       " ('inheritance', 0.4496500492095947),\n",
       " ('sublime_text', 0.44903281331062317),\n",
       " ('plus', 0.4448400139808655),\n",
       " ('press_enter', 0.4425002336502075)]"
      ]
     },
     "execution_count": 90,
     "metadata": {},
     "output_type": "execute_result"
    }
   ],
   "source": [
    "model.most_similar(\"nested_loop\", topn=20)"
   ]
  },
  {
   "cell_type": "code",
   "execution_count": 104,
   "metadata": {},
   "outputs": [
    {
     "data": {
      "text/plain": [
       "[('voice_control', 0.4823574423789978),\n",
       " ('gps', 0.45171433687210083),\n",
       " ('seat_belt', 0.45115789771080017),\n",
       " ('sex', 0.4472965598106384),\n",
       " ('touchscreen', 0.4457562565803528),\n",
       " ('stupidest', 0.43486639857292175),\n",
       " ('trek', 0.42281901836395264),\n",
       " ('gesture_control', 0.41785797476768494),\n",
       " ('touchpad', 0.4148028790950775),\n",
       " ('push_button', 0.4143819808959961),\n",
       " ('elderly', 0.41279441118240356),\n",
       " ('touch_screen', 0.4120672941207886),\n",
       " ('handbrake', 0.4082084000110626),\n",
       " ('tricky', 0.40386858582496643),\n",
       " ('knob', 0.4023815393447876),\n",
       " ('odyssey', 0.400799036026001),\n",
       " ('contradict', 0.39502018690109253),\n",
       " ('notify', 0.39446645975112915),\n",
       " ('range_rover', 0.3929946720600128),\n",
       " ('discourage', 0.3899795413017273)]"
      ]
     },
     "execution_count": 104,
     "metadata": {},
     "output_type": "execute_result"
    }
   ],
   "source": [
    "model.most_similar(\"voice_command\", topn=20)"
   ]
  },
  {
   "cell_type": "code",
   "execution_count": 30,
   "metadata": {},
   "outputs": [
    {
     "data": {
      "text/plain": [
       "'app'"
      ]
     },
     "execution_count": 30,
     "metadata": {},
     "output_type": "execute_result"
    }
   ],
   "source": [
    "model.doesnt_match(\"facebook is the best app\".split())"
   ]
  },
  {
   "cell_type": "code",
   "execution_count": 29,
   "metadata": {},
   "outputs": [
    {
     "data": {
      "text/plain": [
       "'worst'"
      ]
     },
     "execution_count": 29,
     "metadata": {},
     "output_type": "execute_result"
    }
   ],
   "source": [
    "model.doesnt_match(\"is facebook is the worst app\".split())"
   ]
  },
  {
   "cell_type": "code",
   "execution_count": 33,
   "metadata": {},
   "outputs": [],
   "source": [
    "smartphone_companies = ['apple', 'samsung', 'android', 'lg', 'sony', 'lenovo',\n",
    "                        'microsoft', 'blackberry', 'motorola', 'xiaomi', 'huwei']\n",
    "\n",
    "words = ['fast', 'safe', 'expensive', 'buying', 'deal_breaker',\n",
    "         'modern', 'junk', 'cheap', 'stunning', 'ugly', 'design']\n",
    "\n",
    "def brand_identity_association_by_word(words, brand_list):\n",
    "    mosts_similar_associations =  model.most_similar_to_given\n",
    "    for word in words:\n",
    "        identity_match = mosts_similar_associations(\n",
    "            entity1=word, entities_list=brand_list\n",
    "        )\n",
    "        print(f\"{word.upper()}: is associated to: {identity_match.upper()}\")"
   ]
  },
  {
   "cell_type": "code",
   "execution_count": 34,
   "metadata": {},
   "outputs": [
    {
     "name": "stdout",
     "output_type": "stream",
     "text": [
      "FAST: is associated to: SAMSUNG\n",
      "SAFE: is associated to: LG\n",
      "EXPENSIVE: is associated to: SAMSUNG\n",
      "BUYING: is associated to: HUWEI\n",
      "DEAL_BREAKER: is associated to: ANDROID\n",
      "MODERN: is associated to: APPLE\n",
      "JUNK: is associated to: HUWEI\n",
      "CHEAP: is associated to: SAMSUNG\n",
      "STUNNING: is associated to: LG\n",
      "UGLY: is associated to: APPLE\n",
      "DESIGN: is associated to: ANDROID\n"
     ]
    }
   ],
   "source": [
    "brand_identity_association_by_word(words, smartphone_companies)"
   ]
  },
  {
   "cell_type": "code",
   "execution_count": null,
   "metadata": {},
   "outputs": [],
   "source": []
  }
 ],
 "metadata": {
  "kernelspec": {
   "display_name": "Python 3",
   "language": "python",
   "name": "python3"
  },
  "language_info": {
   "codemirror_mode": {
    "name": "ipython",
    "version": 3
   },
   "file_extension": ".py",
   "mimetype": "text/x-python",
   "name": "python",
   "nbconvert_exporter": "python",
   "pygments_lexer": "ipython3",
   "version": "3.6.7"
  }
 },
 "nbformat": 4,
 "nbformat_minor": 2
}
