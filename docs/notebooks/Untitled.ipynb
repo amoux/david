{
 "cells": [
  {
   "cell_type": "code",
   "execution_count": 9,
   "metadata": {},
   "outputs": [],
   "source": [
    "import re\n",
    "from urllib.parse import parse_qs, urlparse\n",
    "\n",
    "def extract_video_id(url):\n",
    "    \"\"\" Extract the video id from a url,\n",
    "    return video id as str.\n",
    "    \n",
    "    >>> extract_video_id('www.youtube.com/watch?v=HWW-jA6YjHk')\n",
    "    >>> 'HWW-jA6YjHk'\n",
    "    \"\"\"\n",
    "    URLS = ('youtube.com', 'www.youtube.com',\n",
    "            'm.youtube.com', 'gaming.youtube.com')\n",
    "\n",
    "    idregx = re.compile(r'[\\w-]{11}$')\n",
    "    url = str(url).strip()\n",
    "    \n",
    "    if idregx.match(url):\n",
    "        return url\n",
    "    if '://' not in url:\n",
    "        url = '//' + url\n",
    "\n",
    "    parsedurl = urlparse(url)\n",
    "    if parsedurl.netloc in URLS:\n",
    "        query = parse_qs(parsedurl.query)\n",
    "        if 'v' in query and idregx.match(query['v'][0]):\n",
    "            return query['v'][0]\n",
    "\n",
    "    elif parsedurl.netloc in ('youtu.be', 'www.youtu.be'):\n",
    "        vidid = parsedurl.path.split('/')[-1] if parsedurl.path else ''\n",
    "        if idregx.match(vidid):\n",
    "            return vidid\n",
    "    err = \"Need 11 character video id or the URL of the video. Got %s\"\n",
    "    raise ValueError(err % url)"
   ]
  },
  {
   "cell_type": "code",
   "execution_count": 12,
   "metadata": {},
   "outputs": [
    {
     "data": {
      "text/plain": [
       "'HWW-jA6YjHk'"
      ]
     },
     "execution_count": 12,
     "metadata": {},
     "output_type": "execute_result"
    }
   ],
   "source": [
    "vid_id = extract_video_id('www.youtube.com/watch?v=HWW-jA6YjHk')\n",
    "vid_id"
   ]
  },
  {
   "cell_type": "code",
   "execution_count": 16,
   "metadata": {},
   "outputs": [],
   "source": [
    "class BaseVuepo int(object):\n",
    "    def __init__(self, video_url):\n",
    "        self._videoid = extract_video_id(video_url)\n",
    "    \n",
    "    def get_videoid(self):\n",
    "        return self._videoid"
   ]
  },
  {
   "cell_type": "code",
   "execution_count": 20,
   "metadata": {},
   "outputs": [
    {
     "data": {
      "text/plain": [
       "'HWW-jA6YjHk'"
      ]
     },
     "execution_count": 20,
     "metadata": {},
     "output_type": "execute_result"
    }
   ],
   "source": [
    "vue = BaseVuepoint('www.youtube.com/watch?v=HWW-jA6YjHk')\n",
    "vue.get_videoid()"
   ]
  },
  {
   "cell_type": "code",
   "execution_count": null,
   "metadata": {},
   "outputs": [],
   "source": [
    "def download(\n",
    "    self,\n",
    "    filepath=\"\",\n",
    "    quiet=False,\n",
    "    progress=\"Bytes\",\n",
    "    callback=None,\n",
    "    meta=False,\n",
    "    remux_audio=False\n",
    "):\n",
    "    downloader = youtube_dl.downloader.http.HttpFD(\n",
    "        ydl(), {'http_chunk_size': 10485760})\n",
    "\n",
    "    progress_available = [\"KB\", \"MB\", \"GB\"]\n",
    "    if progress not in progress_available:\n",
    "        progress = \"Bytes\"\n",
    "    status_string = get_status_string(progress)\n",
    "\n",
    "    def progress_hook(s):\n",
    "        if s['status'] == 'downloading':\n",
    "            bytesdone = s['downloaded_bytes']\n",
    "            total = s['total_bytes']\n",
    "            if s.get('speed') is not None:\n",
    "                rate = s['speed'] / 1024\n",
    "            else:\n",
    "                rate = 0\n",
    "            if s.get('eta') is None:\n",
    "                eta = 0\n",
    "            else:\n",
    "                eta = s['eta']\n",
    "\n",
    "            progress_stats = (get_size_done(bytesdone, progress),\n",
    "                              bytesdone*1.0/total, rate, eta)\n",
    "            if not quiet:\n",
    "                status = status_string.format(*progress_stats)\n",
    "                sys.stdout.write(\"\\r\" + status + ' ' * 4 + \"\\r\")\n",
    "                sys.stdout.flush()\n",
    "            if callback:\n",
    "                callback(total, *progress_stats)\n",
    "                \n",
    "    downloader._progress_hooks = [progress_hook]\n",
    "\n",
    "    if filepath and os.path.isdir(filepath):\n",
    "        filename = self.generate_filename(max_length=256 - len('.temp'))\n",
    "        filepath = os.path.join(filepath, filename)\n",
    "\n",
    "    elif filepath:\n",
    "        pass\n",
    "\n",
    "    else:\n",
    "        filepath = self.generate_filename(meta=meta, max_length=256 - len('.temp'))\n",
    "\n",
    "    infodict = {'url': self.url}\n",
    "\n",
    "    downloader.download(filepath, infodict)\n",
    "    print()\n",
    "\n",
    "    if remux_audio and self.mediatype == \"audio\":\n",
    "        subprocess.run(['mv', filepath, filepath + '.temp'])\n",
    "        remux(filepath + '.temp', filepath, quiet=quiet, muxer=remux_audio)"
   ]
  },
  {
   "cell_type": "code",
   "execution_count": 21,
   "metadata": {},
   "outputs": [
    {
     "data": {
      "text/plain": [
       "{'5': ('320x240', 'flv', 'normal', ''),\n",
       " '17': ('176x144', '3gp', 'normal', ''),\n",
       " '18': ('640x360', 'mp4', 'normal', ''),\n",
       " '22': ('1280x720', 'mp4', 'normal', ''),\n",
       " '34': ('640x360', 'flv', 'normal', ''),\n",
       " '35': ('854x480', 'flv', 'normal', ''),\n",
       " '36': ('320x240', '3gp', 'normal', '')}"
      ]
     },
     "execution_count": 21,
     "metadata": {},
     "output_type": "execute_result"
    }
   ],
   "source": [
    "itags = {\n",
    "    '5': ('320x240', 'flv', \"normal\", ''),\n",
    "    '17': ('176x144', '3gp', \"normal\", ''),\n",
    "    '18': ('640x360', 'mp4', \"normal\", ''),\n",
    "    '22': ('1280x720', 'mp4', \"normal\", ''),\n",
    "    '34': ('640x360', 'flv', \"normal\", ''),\n",
    "    '35': ('854x480', 'flv', \"normal\", ''),\n",
    "    '36': ('320x240', '3gp', \"normal\", '')\n",
    "}\n",
    "itags"
   ]
  },
  {
   "cell_type": "code",
   "execution_count": 25,
   "metadata": {},
   "outputs": [
    {
     "data": {
      "text/plain": [
       "('320x240', '3gp', 'normal', '')"
      ]
     },
     "execution_count": 25,
     "metadata": {},
     "output_type": "execute_result"
    }
   ],
   "source": [
    "gp3 = itags['36']\n",
    "gp3"
   ]
  },
  {
   "cell_type": "code",
   "execution_count": 61,
   "metadata": {},
   "outputs": [
    {
     "name": "stdout",
     "output_type": "stream",
     "text": [
      "KEY: 5, resolution=320x240, format=flv\n",
      "KEY: 17, resolution=176x144, format=3gp\n",
      "KEY: 18, resolution=640x360, format=mp4\n",
      "KEY: 22, resolution=1280x720, format=mp4\n",
      "KEY: 34, resolution=640x360, format=flv\n",
      "KEY: 35, resolution=854x480, format=flv\n",
      "KEY: 36, resolution=320x240, format=3gp\n"
     ]
    }
   ],
   "source": [
    "for key, val in itags.items():\n",
    "    print(f\"KEY: {key}, resolution={val[0]}, format={val[1]}\")"
   ]
  },
  {
   "cell_type": "code",
   "execution_count": 82,
   "metadata": {},
   "outputs": [
    {
     "data": {
      "text/plain": [
       "30"
      ]
     },
     "execution_count": 82,
     "metadata": {},
     "output_type": "execute_result"
    }
   ],
   "source": [
    "jsplayer = r';ytplayer\\.config\\s*=\\s*({.*?});'\n",
    "jsplayer.rindex(')')"
   ]
  },
  {
   "cell_type": "code",
   "execution_count": 161,
   "metadata": {},
   "outputs": [],
   "source": [
    "urls = {\n",
    "    'gdata': \"https://www.googleapis.com/youtube/v3/\",\n",
    "    'watchv': \"http://www.youtube.com/watch?v=%s\",\n",
    "    'playlist': \"http://www.youtube.com/list_ajax?\",\n",
    "    'thumb': \"http://i.ytimg.com/vi/%s/default.jpg\",\n",
    "    'bigthumb': \"http://i.ytimg.com/vi/%s/mqdefault.jpg\",\n",
    "    'bigthumbhd': \"http://i.ytimg.com/vi/%s/hqdefault.jpg\",\n",
    "    'vidinfo': \"https://www.youtube.com/get_video_info?video_id=%s&\",\n",
    "    'embed': \"https://youtube.com/embed/%s\"\n",
    "}"
   ]
  },
  {
   "cell_type": "code",
   "execution_count": 162,
   "metadata": {},
   "outputs": [],
   "source": [
    "from functools import namedtuple"
   ]
  },
  {
   "cell_type": "code",
   "execution_count": 172,
   "metadata": {},
   "outputs": [],
   "source": [
    "Urls = namedtuple('Urls', urls)"
   ]
  },
  {
   "cell_type": "code",
   "execution_count": 178,
   "metadata": {},
   "outputs": [
    {
     "ename": "TypeError",
     "evalue": "__new__() missing 7 required positional arguments: 'watchv', 'playlist', 'thumb', 'bigthumb', 'bigthumbhd', 'vidinfo', and 'embed'",
     "output_type": "error",
     "traceback": [
      "\u001b[0;31m---------------------------------------------------------------------------\u001b[0m",
      "\u001b[0;31mTypeError\u001b[0m                                 Traceback (most recent call last)",
      "\u001b[0;32m<ipython-input-178-dd23a90fcd2f>\u001b[0m in \u001b[0;36m<module>\u001b[0;34m\u001b[0m\n\u001b[0;32m----> 1\u001b[0;31m \u001b[0murl\u001b[0m \u001b[0;34m=\u001b[0m \u001b[0mUrls\u001b[0m\u001b[0;34m(\u001b[0m\u001b[0;34m\" \"\u001b[0m\u001b[0;34m.\u001b[0m\u001b[0mjoin\u001b[0m\u001b[0;34m(\u001b[0m\u001b[0;34m[\u001b[0m\u001b[0mv\u001b[0m \u001b[0;32mfor\u001b[0m \u001b[0mv\u001b[0m \u001b[0;32min\u001b[0m \u001b[0murls\u001b[0m\u001b[0;34m.\u001b[0m\u001b[0mvalues\u001b[0m\u001b[0;34m(\u001b[0m\u001b[0;34m)\u001b[0m\u001b[0;34m]\u001b[0m\u001b[0;34m)\u001b[0m\u001b[0;34m.\u001b[0m\u001b[0msplit\u001b[0m\u001b[0;34m(\u001b[0m\u001b[0;34m)\u001b[0m\u001b[0;34m)\u001b[0m\u001b[0;34m.\u001b[0m\u001b[0mappend\u001b[0m\u001b[0;34m(\u001b[0m\u001b[0;34m)\u001b[0m\u001b[0;34m\u001b[0m\u001b[0;34m\u001b[0m\u001b[0m\n\u001b[0m",
      "\u001b[0;31mTypeError\u001b[0m: __new__() missing 7 required positional arguments: 'watchv', 'playlist', 'thumb', 'bigthumb', 'bigthumbhd', 'vidinfo', and 'embed'"
     ]
    }
   ],
   "source": [
    "url = Urls(\" \".join([v for v in urls.values()]).split()).append()"
   ]
  },
  {
   "cell_type": "code",
   "execution_count": 198,
   "metadata": {},
   "outputs": [
    {
     "ename": "ValueError",
     "evalue": "Type names and field names must be valid identifiers: ''",
     "output_type": "error",
     "traceback": [
      "\u001b[0;31m---------------------------------------------------------------------------\u001b[0m",
      "\u001b[0;31mValueError\u001b[0m                                Traceback (most recent call last)",
      "\u001b[0;32m<ipython-input-198-ff4760a775b4>\u001b[0m in \u001b[0;36m<module>\u001b[0;34m\u001b[0m\n\u001b[1;32m      1\u001b[0m \u001b[0;31m#\" \".join([v for v in urls.keys()]).split()\u001b[0m\u001b[0;34m\u001b[0m\u001b[0;34m\u001b[0m\u001b[0;34m\u001b[0m\u001b[0m\n\u001b[1;32m      2\u001b[0m \u001b[0;34m\u001b[0m\u001b[0m\n\u001b[0;32m----> 3\u001b[0;31m \u001b[0;34m[\u001b[0m\u001b[0mdict\u001b[0m\u001b[0;34m(\u001b[0m\u001b[0;34m(\u001b[0m\u001b[0mk\u001b[0m\u001b[0;34m,\u001b[0m \u001b[0mv\u001b[0m\u001b[0;34m[\u001b[0m\u001b[0;36m0\u001b[0m\u001b[0;34m]\u001b[0m\u001b[0;34m)\u001b[0m \u001b[0;32mfor\u001b[0m \u001b[0mk\u001b[0m\u001b[0;34m,\u001b[0m \u001b[0mv\u001b[0m \u001b[0;32min\u001b[0m \u001b[0mx\u001b[0m\u001b[0;34m)\u001b[0m \u001b[0;32mfor\u001b[0m \u001b[0mx\u001b[0m \u001b[0;32min\u001b[0m \u001b[0mnamedtuple\u001b[0m\u001b[0;34m(\u001b[0m\u001b[0;34m''\u001b[0m\u001b[0;34m,\u001b[0m\u001b[0murls\u001b[0m\u001b[0;34m)\u001b[0m\u001b[0;34m]\u001b[0m\u001b[0;34m\u001b[0m\u001b[0;34m\u001b[0m\u001b[0m\n\u001b[0m",
      "\u001b[0;32m~/anaconda3/envs/vuepoint/lib/python3.6/collections/__init__.py\u001b[0m in \u001b[0;36mnamedtuple\u001b[0;34m(typename, field_names, verbose, rename, module)\u001b[0m\n\u001b[1;32m    399\u001b[0m         \u001b[0;32mif\u001b[0m \u001b[0;32mnot\u001b[0m \u001b[0mname\u001b[0m\u001b[0;34m.\u001b[0m\u001b[0misidentifier\u001b[0m\u001b[0;34m(\u001b[0m\u001b[0;34m)\u001b[0m\u001b[0;34m:\u001b[0m\u001b[0;34m\u001b[0m\u001b[0;34m\u001b[0m\u001b[0m\n\u001b[1;32m    400\u001b[0m             raise ValueError('Type names and field names must be valid '\n\u001b[0;32m--> 401\u001b[0;31m                              'identifiers: %r' % name)\n\u001b[0m\u001b[1;32m    402\u001b[0m         \u001b[0;32mif\u001b[0m \u001b[0m_iskeyword\u001b[0m\u001b[0;34m(\u001b[0m\u001b[0mname\u001b[0m\u001b[0;34m)\u001b[0m\u001b[0;34m:\u001b[0m\u001b[0;34m\u001b[0m\u001b[0;34m\u001b[0m\u001b[0m\n\u001b[1;32m    403\u001b[0m             raise ValueError('Type names and field names cannot be a '\n",
      "\u001b[0;31mValueError\u001b[0m: Type names and field names must be valid identifiers: ''"
     ]
    }
   ],
   "source": []
  },
  {
   "cell_type": "code",
   "execution_count": 129,
   "metadata": {},
   "outputs": [],
   "source": [
    "vidinfo = ('https://www.youtube.com/get_video_info?video_id=%s&'\n",
    "'eurl=https://youtube.googleapis.com/v/%s&sts=%s'),"
   ]
  },
  {
   "cell_type": "code",
   "execution_count": 130,
   "metadata": {},
   "outputs": [
    {
     "data": {
      "text/plain": [
       "'https://www.youtube.com/get_video_info?video_id=%s&eurl=https://youtube.googleapis.com/v/%s&sts=%s'"
      ]
     },
     "execution_count": 130,
     "metadata": {},
     "output_type": "execute_result"
    }
   ],
   "source": [
    "vidifo"
   ]
  },
  {
   "cell_type": "code",
   "execution_count": null,
   "metadata": {},
   "outputs": [],
   "source": [
    "def _extract_smap(map_name, dic, zero_idx=True):\n",
    "    \"\"\" Extract stream map, returns list of dicts. \"\"\"\n",
    "    if map_name in dic:\n",
    "        smap = dic.get(map_name)\n",
    "        smap = smap[0] if zero_idx else smap\n",
    "        smap = smap.split(\",\")\n",
    "        smap = [parseqs(x) for x in smap]\n",
    "        return [dict((k, v[0]) for k, v in x.items()) for x in smap]\n",
    "\n",
    "    return []"
   ]
  }
 ],
 "metadata": {
  "kernelspec": {
   "display_name": "Python 3",
   "language": "python",
   "name": "python3"
  },
  "language_info": {
   "codemirror_mode": {
    "name": "ipython",
    "version": 3
   },
   "file_extension": ".py",
   "mimetype": "text/x-python",
   "name": "python",
   "nbconvert_exporter": "python",
   "pygments_lexer": "ipython3",
   "version": "3.6.7"
  }
 },
 "nbformat": 4,
 "nbformat_minor": 2
}
