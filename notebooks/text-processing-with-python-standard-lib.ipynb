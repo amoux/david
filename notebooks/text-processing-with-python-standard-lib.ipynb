{
 "cells": [
  {
   "cell_type": "markdown",
   "metadata": {},
   "source": [
    "# Text Processing Services\n",
    "\n",
    "### standard python 3.6 library\n",
    "\n",
    "[read the docs]()\n",
    "\n",
    "\n",
    "> In this notebook we will explore the standard library for preprocessing text."
   ]
  },
  {
   "cell_type": "code",
   "execution_count": 1,
   "metadata": {},
   "outputs": [
    {
     "data": {
      "text/plain": [
       "'2010-07-04 12:15:58'"
      ]
     },
     "execution_count": 1,
     "metadata": {},
     "output_type": "execute_result"
    }
   ],
   "source": [
    "import datetime\n",
    "\n",
    "d = datetime.datetime(2010, 7, 4, 12, 15, 58)\n",
    "'{:%Y-%m-%d %H:%M:%S}'.format(d)"
   ]
  },
  {
   "cell_type": "code",
   "execution_count": 2,
   "metadata": {},
   "outputs": [
    {
     "data": {
      "text/plain": [
       "'2019-09-04 14:05:33'"
      ]
     },
     "execution_count": 2,
     "metadata": {},
     "output_type": "execute_result"
    }
   ],
   "source": [
    "today = datetime.datetime.now()\n",
    "f_today = '{:%Y-%m-%d %H:%M:%S}'.format(today)\n",
    "f_today"
   ]
  },
  {
   "cell_type": "code",
   "execution_count": 3,
   "metadata": {},
   "outputs": [
    {
     "data": {
      "text/plain": [
       "'2019-09-04'"
      ]
     },
     "execution_count": 3,
     "metadata": {},
     "output_type": "execute_result"
    }
   ],
   "source": [
    "date, time = f_today.split(' ')\n",
    "date"
   ]
  },
  {
   "cell_type": "code",
   "execution_count": null,
   "metadata": {},
   "outputs": [],
   "source": [
    "time"
   ]
  },
  {
   "cell_type": "markdown",
   "metadata": {},
   "source": [
    "## Template strings\n",
    "\n",
    "* Template strings provide simpler string substitutions as described in PEP 292.\n",
    "\n",
    "`class string.Template(template)`\n",
    "\n",
    "> The constructor takes a single argument which is the template string.\n",
    "\n",
    "`substitute(mapping, **kwds)`\n",
    "\n",
    "> Performs the template substitution, returning a new string.\n",
    "\n",
    "`safe_substitute(mapping, **kwds)`\n",
    "\n",
    "> Like substitute(), except that if placeholders are missing from mapping and kwds, instead of raising a KeyError exception, the original placeholder will appear in the resulting string intact."
   ]
  },
  {
   "cell_type": "code",
   "execution_count": 1,
   "metadata": {},
   "outputs": [
    {
     "data": {
      "text/plain": [
       "'tim likes kung pao'"
      ]
     },
     "execution_count": 1,
     "metadata": {},
     "output_type": "execute_result"
    }
   ],
   "source": [
    "from string import Template\n",
    "\n",
    "s = Template('$who likes $what')\n",
    "s.substitute(who='tim', what='kung pao')"
   ]
  },
  {
   "cell_type": "code",
   "execution_count": 2,
   "metadata": {
    "scrolled": true
   },
   "outputs": [
    {
     "ename": "ValueError",
     "evalue": "Invalid placeholder in string: line 1, col 11",
     "output_type": "error",
     "traceback": [
      "\u001b[0;31m---------------------------------------------------------------------------\u001b[0m",
      "\u001b[0;31mValueError\u001b[0m                                Traceback (most recent call last)",
      "\u001b[0;32m<ipython-input-2-ba8f365dd515>\u001b[0m in \u001b[0;36m<module>\u001b[0;34m\u001b[0m\n\u001b[1;32m      1\u001b[0m \u001b[0md\u001b[0m \u001b[0;34m=\u001b[0m \u001b[0mdict\u001b[0m\u001b[0;34m(\u001b[0m\u001b[0mwho\u001b[0m\u001b[0;34m=\u001b[0m\u001b[0;34m'tim'\u001b[0m\u001b[0;34m)\u001b[0m\u001b[0;34m\u001b[0m\u001b[0;34m\u001b[0m\u001b[0m\n\u001b[0;32m----> 2\u001b[0;31m \u001b[0mTemplate\u001b[0m\u001b[0;34m(\u001b[0m\u001b[0;34m'Give $who $100'\u001b[0m\u001b[0;34m)\u001b[0m\u001b[0;34m.\u001b[0m\u001b[0msubstitute\u001b[0m\u001b[0;34m(\u001b[0m\u001b[0md\u001b[0m\u001b[0;34m)\u001b[0m\u001b[0;34m\u001b[0m\u001b[0;34m\u001b[0m\u001b[0m\n\u001b[0m",
      "\u001b[0;32m~/anaconda3/envs/vuepoint/lib/python3.6/string.py\u001b[0m in \u001b[0;36msubstitute\u001b[0;34m(*args, **kws)\u001b[0m\n\u001b[1;32m    128\u001b[0m             raise ValueError('Unrecognized named group in pattern',\n\u001b[1;32m    129\u001b[0m                              self.pattern)\n\u001b[0;32m--> 130\u001b[0;31m         \u001b[0;32mreturn\u001b[0m \u001b[0mself\u001b[0m\u001b[0;34m.\u001b[0m\u001b[0mpattern\u001b[0m\u001b[0;34m.\u001b[0m\u001b[0msub\u001b[0m\u001b[0;34m(\u001b[0m\u001b[0mconvert\u001b[0m\u001b[0;34m,\u001b[0m \u001b[0mself\u001b[0m\u001b[0;34m.\u001b[0m\u001b[0mtemplate\u001b[0m\u001b[0;34m)\u001b[0m\u001b[0;34m\u001b[0m\u001b[0;34m\u001b[0m\u001b[0m\n\u001b[0m\u001b[1;32m    131\u001b[0m \u001b[0;34m\u001b[0m\u001b[0m\n\u001b[1;32m    132\u001b[0m     \u001b[0;32mdef\u001b[0m \u001b[0msafe_substitute\u001b[0m\u001b[0;34m(\u001b[0m\u001b[0;34m*\u001b[0m\u001b[0margs\u001b[0m\u001b[0;34m,\u001b[0m \u001b[0;34m**\u001b[0m\u001b[0mkws\u001b[0m\u001b[0;34m)\u001b[0m\u001b[0;34m:\u001b[0m\u001b[0;34m\u001b[0m\u001b[0;34m\u001b[0m\u001b[0m\n",
      "\u001b[0;32m~/anaconda3/envs/vuepoint/lib/python3.6/string.py\u001b[0m in \u001b[0;36mconvert\u001b[0;34m(mo)\u001b[0m\n\u001b[1;32m    125\u001b[0m                 \u001b[0;32mreturn\u001b[0m \u001b[0mself\u001b[0m\u001b[0;34m.\u001b[0m\u001b[0mdelimiter\u001b[0m\u001b[0;34m\u001b[0m\u001b[0;34m\u001b[0m\u001b[0m\n\u001b[1;32m    126\u001b[0m             \u001b[0;32mif\u001b[0m \u001b[0mmo\u001b[0m\u001b[0;34m.\u001b[0m\u001b[0mgroup\u001b[0m\u001b[0;34m(\u001b[0m\u001b[0;34m'invalid'\u001b[0m\u001b[0;34m)\u001b[0m \u001b[0;32mis\u001b[0m \u001b[0;32mnot\u001b[0m \u001b[0;32mNone\u001b[0m\u001b[0;34m:\u001b[0m\u001b[0;34m\u001b[0m\u001b[0;34m\u001b[0m\u001b[0m\n\u001b[0;32m--> 127\u001b[0;31m                 \u001b[0mself\u001b[0m\u001b[0;34m.\u001b[0m\u001b[0m_invalid\u001b[0m\u001b[0;34m(\u001b[0m\u001b[0mmo\u001b[0m\u001b[0;34m)\u001b[0m\u001b[0;34m\u001b[0m\u001b[0;34m\u001b[0m\u001b[0m\n\u001b[0m\u001b[1;32m    128\u001b[0m             raise ValueError('Unrecognized named group in pattern',\n\u001b[1;32m    129\u001b[0m                              self.pattern)\n",
      "\u001b[0;32m~/anaconda3/envs/vuepoint/lib/python3.6/string.py\u001b[0m in \u001b[0;36m_invalid\u001b[0;34m(self, mo)\u001b[0m\n\u001b[1;32m    101\u001b[0m             \u001b[0mlineno\u001b[0m \u001b[0;34m=\u001b[0m \u001b[0mlen\u001b[0m\u001b[0;34m(\u001b[0m\u001b[0mlines\u001b[0m\u001b[0;34m)\u001b[0m\u001b[0;34m\u001b[0m\u001b[0;34m\u001b[0m\u001b[0m\n\u001b[1;32m    102\u001b[0m         raise ValueError('Invalid placeholder in string: line %d, col %d' %\n\u001b[0;32m--> 103\u001b[0;31m                          (lineno, colno))\n\u001b[0m\u001b[1;32m    104\u001b[0m \u001b[0;34m\u001b[0m\u001b[0m\n\u001b[1;32m    105\u001b[0m     \u001b[0;32mdef\u001b[0m \u001b[0msubstitute\u001b[0m\u001b[0;34m(\u001b[0m\u001b[0;34m*\u001b[0m\u001b[0margs\u001b[0m\u001b[0;34m,\u001b[0m \u001b[0;34m**\u001b[0m\u001b[0mkws\u001b[0m\u001b[0;34m)\u001b[0m\u001b[0;34m:\u001b[0m\u001b[0;34m\u001b[0m\u001b[0;34m\u001b[0m\u001b[0m\n",
      "\u001b[0;31mValueError\u001b[0m: Invalid placeholder in string: line 1, col 11"
     ]
    }
   ],
   "source": [
    "d = dict(who='tim')\n",
    "Template('Give $who $100').substitute(d)"
   ]
  },
  {
   "cell_type": "code",
   "execution_count": 3,
   "metadata": {},
   "outputs": [
    {
     "data": {
      "text/plain": [
       "'tim likes $what'"
      ]
     },
     "execution_count": 3,
     "metadata": {},
     "output_type": "execute_result"
    }
   ],
   "source": [
    "Template('$who likes $what').safe_substitute(d)"
   ]
  },
  {
   "cell_type": "code",
   "execution_count": 4,
   "metadata": {},
   "outputs": [
    {
     "data": {
      "text/plain": [
       "'tim likes $100'"
      ]
     },
     "execution_count": 4,
     "metadata": {},
     "output_type": "execute_result"
    }
   ],
   "source": [
    "Template('$who likes $100').safe_substitute(d)"
   ]
  },
  {
   "cell_type": "code",
   "execution_count": 5,
   "metadata": {},
   "outputs": [
    {
     "data": {
      "text/plain": [
       "<RegexFlag.IGNORECASE: 2>"
      ]
     },
     "execution_count": 5,
     "metadata": {},
     "output_type": "execute_result"
    }
   ],
   "source": [
    "Template.flags"
   ]
  },
  {
   "cell_type": "code",
   "execution_count": 6,
   "metadata": {},
   "outputs": [
    {
     "data": {
      "text/plain": [
       "['Words', 'words', 'words', '']"
      ]
     },
     "execution_count": 6,
     "metadata": {},
     "output_type": "execute_result"
    }
   ],
   "source": [
    "import re\n",
    "\n",
    "re.split(r'\\W+', 'Words, words, words.')"
   ]
  },
  {
   "cell_type": "code",
   "execution_count": 7,
   "metadata": {},
   "outputs": [
    {
     "data": {
      "text/plain": [
       "['Words', ', ', 'words', ', ', 'words', '.', '']"
      ]
     },
     "execution_count": 7,
     "metadata": {},
     "output_type": "execute_result"
    }
   ],
   "source": [
    "re.split(r'(\\W+)', 'Words, words, words.')"
   ]
  },
  {
   "cell_type": "code",
   "execution_count": 8,
   "metadata": {},
   "outputs": [
    {
     "data": {
      "text/plain": [
       "['Words', 'words, words.']"
      ]
     },
     "execution_count": 8,
     "metadata": {},
     "output_type": "execute_result"
    }
   ],
   "source": [
    "re.split(\n",
    "    pattern=r'\\W+',\n",
    "    string='Words, words, words.',\n",
    "    maxsplit=1\n",
    ")"
   ]
  },
  {
   "cell_type": "code",
   "execution_count": 9,
   "metadata": {},
   "outputs": [
    {
     "data": {
      "text/plain": [
       "['0', '3', '9']"
      ]
     },
     "execution_count": 9,
     "metadata": {},
     "output_type": "execute_result"
    }
   ],
   "source": [
    " re.split('[a-f]+', '0a3B9', flags=re.IGNORECASE)"
   ]
  },
  {
   "cell_type": "code",
   "execution_count": 10,
   "metadata": {},
   "outputs": [
    {
     "data": {
      "text/plain": [
       "['', '...', 'words', ', ', 'words', '...', '']"
      ]
     },
     "execution_count": 10,
     "metadata": {},
     "output_type": "execute_result"
    }
   ],
   "source": [
    "re.split(r'(\\W+)', '...words, words...')"
   ]
  },
  {
   "cell_type": "code",
   "execution_count": 11,
   "metadata": {},
   "outputs": [
    {
     "data": {
      "text/plain": [
       "'static PyObject*\\npy_myfunc(void)\\n{'"
      ]
     },
     "execution_count": 11,
     "metadata": {},
     "output_type": "execute_result"
    }
   ],
   "source": [
    "re.sub(\n",
    "    pattern=r'def\\s+([a-zA-Z_][a-zA-Z_0-9]*)\\s*\\(\\s*\\):',\n",
    "    repl=r'static PyObject*\\npy_\\1(void)\\n{',\n",
    "    string='def myfunc():'\n",
    ")"
   ]
  },
  {
   "cell_type": "code",
   "execution_count": 12,
   "metadata": {},
   "outputs": [
    {
     "name": "stdout",
     "output_type": "stream",
     "text": [
      "text        : dog is chucho chucho\n",
      "match       : chucho\n",
      "another way : chucho\n",
      "location    : (7, 13)\n",
      "text length : 20\n"
     ]
    }
   ],
   "source": [
    "TEXT = 'dog is chucho chucho'\n",
    "FIND = 'chucho'\n",
    "\n",
    "pattern = re.compile(FIND)\n",
    "s = pattern.search(TEXT)\n",
    "if s:\n",
    "    a, b = s.span()\n",
    "    match = s.string[a:b]\n",
    "    one_liner = s.string[s.start():s.end()]\n",
    "\n",
    "    print(f'text        : { s.string }\\n' # access to the string.\n",
    "          f'match       : { match }\\n' # one way to get the text from the match.\n",
    "          f'another way : { one_liner }\\n' # another way to extract the match in text.\n",
    "          f'location    : { s.span() }\\n' # pattern match method.\n",
    "          f'text length : { s.endpos }') # position methods."
   ]
  },
  {
   "cell_type": "code",
   "execution_count": 220,
   "metadata": {},
   "outputs": [],
   "source": [
    "def seach_for(word, from_text):\n",
    "    # word :  compile a regular expression pattern, returning a pattern object.\n",
    "    pattern = re.compile(word)\n",
    "    token = pattern.search(from_text)\n",
    "    \n",
    "    if token:\n",
    "        match = token.string[token.start():token.end()]\n",
    "        text = token.string.replace(match, '[{}]'.format(match.upper()))\n",
    "        \n",
    "        print(f'text        : { text }\\n'\n",
    "              f'match       : { match }\\n'\n",
    "              f'location    : { token.span() }\\n'\n",
    "              f'text length : { token.endpos }\\n')"
   ]
  },
  {
   "cell_type": "code",
   "execution_count": 221,
   "metadata": {},
   "outputs": [
    {
     "name": "stdout",
     "output_type": "stream",
     "text": [
      "text        : Scan through string looking for the first location where this [REGULAR] expression produces a match\n",
      "match       : regular\n",
      "location    : (62, 69)\n",
      "text length : 97\n",
      "\n"
     ]
    }
   ],
   "source": [
    "doc = ('Scan through string looking for the first'\n",
    "       ' location where this regular expression produces a match')\n",
    "\n",
    "seach_for(word='regular', from_text=doc)"
   ]
  },
  {
   "cell_type": "code",
   "execution_count": 222,
   "metadata": {},
   "outputs": [
    {
     "name": "stdout",
     "output_type": "stream",
     "text": [
      "text        : Scan through [CHUCHO] looking for\n",
      "match       : chucho\n",
      "location    : (13, 19)\n",
      "text length : 31\n",
      "\n",
      "text        : through [CHUCHO] looking for the\n",
      "match       : chucho\n",
      "location    : (8, 14)\n",
      "text length : 30\n",
      "\n",
      "text        : through [CHUCHO] looking for the first [CHUCHO]\n",
      "match       : chucho\n",
      "location    : (8, 14)\n",
      "text length : 43\n",
      "\n"
     ]
    }
   ],
   "source": [
    "docs = ['Scan through chucho looking for',\n",
    "        'through chucho looking for the',\n",
    "        'through chucho looking for the first chucho']\n",
    "\n",
    "for doc in docs: seach_for('chucho', doc)"
   ]
  },
  {
   "cell_type": "code",
   "execution_count": null,
   "metadata": {},
   "outputs": [],
   "source": [
    "# You could use enumerate to get the index.\n",
    "# It makes the code both simpler and more efficient,\n",
    "# as the linear search of index is avoided.\n",
    "# I would also suggest unpacking t to (word, tag) to improve readability.\n",
    "\n",
    "for ndx, (word, tag) in enumerate(wsj_list):\n",
    "    if word in wordlist and tag == 'VN':\n",
    "        print wsj[ndx-1:ndx+1], ndx"
   ]
  },
  {
   "cell_type": "code",
   "execution_count": 119,
   "metadata": {},
   "outputs": [
    {
     "data": {
      "text/plain": [
       "{'id': {'loc': [], 'endpos': 0, 'match': ''}}"
      ]
     },
     "execution_count": 119,
     "metadata": {},
     "output_type": "execute_result"
    }
   ],
   "source": [
    "# {'id': 0, 'loc': [(13, 19)], 'endpos': 31, 'match': 'string'}\n",
    "\n",
    "D = dict.fromkeys({'id': 0}, {'loc': [], 'endpos': 0, 'match': ''})\n",
    "D"
   ]
  },
  {
   "cell_type": "code",
   "execution_count": 120,
   "metadata": {},
   "outputs": [
    {
     "data": {
      "text/plain": [
       "{'id': 1}"
      ]
     },
     "execution_count": 120,
     "metadata": {},
     "output_type": "execute_result"
    }
   ],
   "source": [
    "D['id'] = 1\n",
    "D"
   ]
  },
  {
   "cell_type": "code",
   "execution_count": 118,
   "metadata": {},
   "outputs": [
    {
     "data": {
      "text/plain": [
       "{'id': {'loc': [], 'endpos': 23, 'match': ''}, 'loc': [(3, 5)], 'endpos': 23}"
      ]
     },
     "execution_count": 118,
     "metadata": {},
     "output_type": "execute_result"
    }
   ],
   "source": [
    "D['id']['endpos'] = 23\n",
    "D"
   ]
  },
  {
   "cell_type": "code",
   "execution_count": 117,
   "metadata": {},
   "outputs": [
    {
     "data": {
      "text/plain": [
       "{'id': {'loc': [], 'endpos': 0, 'match': ''}, 'loc': [(3, 5)], 'endpos': 23}"
      ]
     },
     "execution_count": 117,
     "metadata": {},
     "output_type": "execute_result"
    }
   ],
   "source": [
    "D['loc'] = [(3, 5)]\n",
    "D"
   ]
  },
  {
   "cell_type": "code",
   "execution_count": 238,
   "metadata": {},
   "outputs": [],
   "source": [
    "from collections import Counter\n",
    "\n",
    "def remove_duplicates(text):\n",
    "\n",
    "    # Split text string separated by space.\n",
    "    # Joins two adjacent elements in iterable way.\n",
    "    # Uses the Counter method have strings as key and\n",
    "    # their frequencies as value.\n",
    "    # Returns a joined adjacent of elements.\n",
    "\n",
    "    text = text.split(' ')\n",
    "    for idx in range(0, len(text)):\n",
    "        text[idx] = ''.join(text[idx])\n",
    "        print(f'* step (1): {text[idx]}')\n",
    "        print(f'* step (1.1): {text}')\n",
    "    unique = Counter(text)\n",
    "    print(f'* step (3) : Counter(0_SPACE.join(list[text[i,,]])) -> {unique}')\n",
    "    unique_join = ' '.join(unique.keys())\n",
    "    print(f'* step (4) : 1_SPACE.str.join(Counter.keys()) -> {unique_join}')"
   ]
  },
  {
   "cell_type": "code",
   "execution_count": 239,
   "metadata": {},
   "outputs": [
    {
     "name": "stdout",
     "output_type": "stream",
     "text": [
      "* step (1): Python\n",
      "* step (1.1): ['Python', 'Python', 'Python', 'Python', 'is', 'great', 'and', 'Java', 'is', 'not', 'so', 'great']\n",
      "* step (1): Python\n",
      "* step (1.1): ['Python', 'Python', 'Python', 'Python', 'is', 'great', 'and', 'Java', 'is', 'not', 'so', 'great']\n",
      "* step (1): Python\n",
      "* step (1.1): ['Python', 'Python', 'Python', 'Python', 'is', 'great', 'and', 'Java', 'is', 'not', 'so', 'great']\n",
      "* step (1): Python\n",
      "* step (1.1): ['Python', 'Python', 'Python', 'Python', 'is', 'great', 'and', 'Java', 'is', 'not', 'so', 'great']\n",
      "* step (1): is\n",
      "* step (1.1): ['Python', 'Python', 'Python', 'Python', 'is', 'great', 'and', 'Java', 'is', 'not', 'so', 'great']\n",
      "* step (1): great\n",
      "* step (1.1): ['Python', 'Python', 'Python', 'Python', 'is', 'great', 'and', 'Java', 'is', 'not', 'so', 'great']\n",
      "* step (1): and\n",
      "* step (1.1): ['Python', 'Python', 'Python', 'Python', 'is', 'great', 'and', 'Java', 'is', 'not', 'so', 'great']\n",
      "* step (1): Java\n",
      "* step (1.1): ['Python', 'Python', 'Python', 'Python', 'is', 'great', 'and', 'Java', 'is', 'not', 'so', 'great']\n",
      "* step (1): is\n",
      "* step (1.1): ['Python', 'Python', 'Python', 'Python', 'is', 'great', 'and', 'Java', 'is', 'not', 'so', 'great']\n",
      "* step (1): not\n",
      "* step (1.1): ['Python', 'Python', 'Python', 'Python', 'is', 'great', 'and', 'Java', 'is', 'not', 'so', 'great']\n",
      "* step (1): so\n",
      "* step (1.1): ['Python', 'Python', 'Python', 'Python', 'is', 'great', 'and', 'Java', 'is', 'not', 'so', 'great']\n",
      "* step (1): great\n",
      "* step (1.1): ['Python', 'Python', 'Python', 'Python', 'is', 'great', 'and', 'Java', 'is', 'not', 'so', 'great']\n",
      "* step (3) : Counter(0_SPACE.join(list[text[i,,]])) -> Counter({'Python': 4, 'is': 2, 'great': 2, 'and': 1, 'Java': 1, 'not': 1, 'so': 1})\n",
      "* step (4) : 1_SPACE.str.join(Counter.keys()) -> Python is great and Java not so\n",
      "None\n",
      "* step (1): Python\n",
      "* step (1.1): ['Python', 'Python', 'Python', 'is', 'awesome', 'Python']\n",
      "* step (1): Python\n",
      "* step (1.1): ['Python', 'Python', 'Python', 'is', 'awesome', 'Python']\n",
      "* step (1): Python\n",
      "* step (1.1): ['Python', 'Python', 'Python', 'is', 'awesome', 'Python']\n",
      "* step (1): is\n",
      "* step (1.1): ['Python', 'Python', 'Python', 'is', 'awesome', 'Python']\n",
      "* step (1): awesome\n",
      "* step (1.1): ['Python', 'Python', 'Python', 'is', 'awesome', 'Python']\n",
      "* step (1): Python\n",
      "* step (1.1): ['Python', 'Python', 'Python', 'is', 'awesome', 'Python']\n",
      "* step (3) : Counter(0_SPACE.join(list[text[i,,]])) -> Counter({'Python': 4, 'is': 1, 'awesome': 1})\n",
      "* step (4) : 1_SPACE.str.join(Counter.keys()) -> Python is awesome\n",
      "None\n",
      "* step (1): Python\n",
      "* step (1.1): ['Python', 'is', 'a', 'language', 'close', 'to', 'human', 'language.']\n",
      "* step (1): is\n",
      "* step (1.1): ['Python', 'is', 'a', 'language', 'close', 'to', 'human', 'language.']\n",
      "* step (1): a\n",
      "* step (1.1): ['Python', 'is', 'a', 'language', 'close', 'to', 'human', 'language.']\n",
      "* step (1): language\n",
      "* step (1.1): ['Python', 'is', 'a', 'language', 'close', 'to', 'human', 'language.']\n",
      "* step (1): close\n",
      "* step (1.1): ['Python', 'is', 'a', 'language', 'close', 'to', 'human', 'language.']\n",
      "* step (1): to\n",
      "* step (1.1): ['Python', 'is', 'a', 'language', 'close', 'to', 'human', 'language.']\n",
      "* step (1): human\n",
      "* step (1.1): ['Python', 'is', 'a', 'language', 'close', 'to', 'human', 'language.']\n",
      "* step (1): language.\n",
      "* step (1.1): ['Python', 'is', 'a', 'language', 'close', 'to', 'human', 'language.']\n",
      "* step (3) : Counter(0_SPACE.join(list[text[i,,]])) -> Counter({'Python': 1, 'is': 1, 'a': 1, 'language': 1, 'close': 1, 'to': 1, 'human': 1, 'language.': 1})\n",
      "* step (4) : 1_SPACE.str.join(Counter.keys()) -> Python is a language close to human language.\n",
      "None\n",
      "* step (1): PythonPythonPython.\n",
      "* step (1.1): ['PythonPythonPython.', 'Python:,', 'yep', 'said', 'it', 'three', 'times']\n",
      "* step (1): Python:,\n",
      "* step (1.1): ['PythonPythonPython.', 'Python:,', 'yep', 'said', 'it', 'three', 'times']\n",
      "* step (1): yep\n",
      "* step (1.1): ['PythonPythonPython.', 'Python:,', 'yep', 'said', 'it', 'three', 'times']\n",
      "* step (1): said\n",
      "* step (1.1): ['PythonPythonPython.', 'Python:,', 'yep', 'said', 'it', 'three', 'times']\n",
      "* step (1): it\n",
      "* step (1.1): ['PythonPythonPython.', 'Python:,', 'yep', 'said', 'it', 'three', 'times']\n",
      "* step (1): three\n",
      "* step (1.1): ['PythonPythonPython.', 'Python:,', 'yep', 'said', 'it', 'three', 'times']\n",
      "* step (1): times\n",
      "* step (1.1): ['PythonPythonPython.', 'Python:,', 'yep', 'said', 'it', 'three', 'times']\n",
      "* step (3) : Counter(0_SPACE.join(list[text[i,,]])) -> Counter({'PythonPythonPython.': 1, 'Python:,': 1, 'yep': 1, 'said': 1, 'it': 1, 'three': 1, 'times': 1})\n",
      "* step (4) : 1_SPACE.str.join(Counter.keys()) -> PythonPythonPython. Python:, yep said it three times\n",
      "None\n",
      "* step (1): Python\n",
      "* step (1.1): ['Python', 'Python', 'Python', 'Python', 'Python', 'Python', 'Python', 'Python']\n",
      "* step (1): Python\n",
      "* step (1.1): ['Python', 'Python', 'Python', 'Python', 'Python', 'Python', 'Python', 'Python']\n",
      "* step (1): Python\n",
      "* step (1.1): ['Python', 'Python', 'Python', 'Python', 'Python', 'Python', 'Python', 'Python']\n",
      "* step (1): Python\n",
      "* step (1.1): ['Python', 'Python', 'Python', 'Python', 'Python', 'Python', 'Python', 'Python']\n",
      "* step (1): Python\n",
      "* step (1.1): ['Python', 'Python', 'Python', 'Python', 'Python', 'Python', 'Python', 'Python']\n",
      "* step (1): Python\n",
      "* step (1.1): ['Python', 'Python', 'Python', 'Python', 'Python', 'Python', 'Python', 'Python']\n",
      "* step (1): Python\n",
      "* step (1.1): ['Python', 'Python', 'Python', 'Python', 'Python', 'Python', 'Python', 'Python']\n",
      "* step (1): Python\n",
      "* step (1.1): ['Python', 'Python', 'Python', 'Python', 'Python', 'Python', 'Python', 'Python']\n",
      "* step (3) : Counter(0_SPACE.join(list[text[i,,]])) -> Counter({'Python': 8})\n",
      "* step (4) : 1_SPACE.str.join(Counter.keys()) -> Python\n",
      "None\n",
      "* step (1): Python\n",
      "* step (1.1): ['Python', 'Python', 'programming!', 'and', 'yeah', 'Python', 'Python.']\n",
      "* step (1): Python\n",
      "* step (1.1): ['Python', 'Python', 'programming!', 'and', 'yeah', 'Python', 'Python.']\n",
      "* step (1): programming!\n",
      "* step (1.1): ['Python', 'Python', 'programming!', 'and', 'yeah', 'Python', 'Python.']\n",
      "* step (1): and\n",
      "* step (1.1): ['Python', 'Python', 'programming!', 'and', 'yeah', 'Python', 'Python.']\n",
      "* step (1): yeah\n",
      "* step (1.1): ['Python', 'Python', 'programming!', 'and', 'yeah', 'Python', 'Python.']\n",
      "* step (1): Python\n",
      "* step (1.1): ['Python', 'Python', 'programming!', 'and', 'yeah', 'Python', 'Python.']\n",
      "* step (1): Python.\n",
      "* step (1.1): ['Python', 'Python', 'programming!', 'and', 'yeah', 'Python', 'Python.']\n",
      "* step (3) : Counter(0_SPACE.join(list[text[i,,]])) -> Counter({'Python': 3, 'programming!': 1, 'and': 1, 'yeah': 1, 'Python.': 1})\n",
      "* step (4) : 1_SPACE.str.join(Counter.keys()) -> Python programming! and yeah Python.\n",
      "None\n"
     ]
    }
   ],
   "source": [
    "docs = [\n",
    "    'Python Python Python Python is great and Java is not so great',\n",
    "    'Python Python Python is awesome Python',\n",
    "    'Python is a language close to human language.',\n",
    "    'PythonPythonPython. Python:, yep said it three times',\n",
    "    'Python Python Python Python Python Python Python Python',\n",
    "    'Python Python programming! and yeah Python Python.']\n",
    "\n",
    "for doc in docs: print(remove_duplicates(doc))"
   ]
  },
  {
   "cell_type": "code",
   "execution_count": 143,
   "metadata": {},
   "outputs": [],
   "source": [
    "docs2 = ['Scan through string looking for',\n",
    "        'Scan looking for the', # TRACK ISSUE: When a string doesnt have the word it duplicates the id\n",
    "        'through string looking for the',\n",
    "        'string looking string string string',\n",
    "        'string looking for the first string']\n",
    "\n",
    "\n",
    "from itertools import groupby"
   ]
  },
  {
   "cell_type": "code",
   "execution_count": 209,
   "metadata": {},
   "outputs": [],
   "source": [
    "from typing import Iterable, Dict, List, Sequence\n",
    "\n",
    "def pattern_search(word: Sequence[str],\n",
    "                   texts: Iterable[str]) -> Iterable[Dict]:\n",
    "    '''Word pattern finder from a list of texts.\n",
    "\n",
    "    * key[`loc`] -> tuple[s]:\n",
    "        If multiple matches found: group (tuple)s, per index.\n",
    "    '''\n",
    "    pattern = re.compile(word)\n",
    "    temp_list = list()\n",
    "    for idx, text in enumerate(texts):\n",
    "        for token in pattern.finditer(text):\n",
    "            matches = {\n",
    "                'id': idx,\n",
    "                'loc': [(loc.span()) for loc in pattern.finditer(text)],\n",
    "                'endpos': token.endpos,\n",
    "                'match': token.string[token.start():token.end()]\n",
    "            }\n",
    "        temp_list.append(matches)\n",
    "    return [i[0] for i in groupby(temp_list)]"
   ]
  },
  {
   "cell_type": "code",
   "execution_count": 210,
   "metadata": {},
   "outputs": [
    {
     "name": "stdout",
     "output_type": "stream",
     "text": [
      "{'id': 0, 'loc': [(13, 19)], 'endpos': 31, 'match': 'string'}\n",
      "{'id': 1, 'loc': [(8, 14)], 'endpos': 30, 'match': 'string'}\n",
      "{'id': 2, 'loc': [(0, 6), (15, 21), (22, 28), (29, 35)], 'endpos': 35, 'match': 'string'}\n",
      "{'id': 3, 'loc': [(0, 6), (29, 35)], 'endpos': 35, 'match': 'string'}\n"
     ]
    }
   ],
   "source": [
    "docs = [\n",
    "    'Scan through string looking for',\n",
    "    'through string looking for the',\n",
    "    'string looking string string string',\n",
    "    'string looking for the first string',\n",
    "    # DEBUG: this string doesnt have the word it duplicates the id.\n",
    "    'Scan looking for the'\n",
    "]\n",
    "\n",
    "matches = pattern_search(word='string', texts=docs)\n",
    "for match in matches:\n",
    "    print(match)"
   ]
  },
  {
   "cell_type": "code",
   "execution_count": 219,
   "metadata": {},
   "outputs": [
    {
     "name": "stdout",
     "output_type": "stream",
     "text": [
      "id --> 0\n",
      "loc --> [(13, 19)]\n",
      "endpos --> 31\n",
      "match --> string\n",
      "\n",
      "\n",
      "id --> 1\n",
      "loc --> [(8, 14)]\n",
      "endpos --> 30\n",
      "match --> string\n",
      "\n",
      "\n",
      "id --> 2\n",
      "loc --> [(0, 6), (15, 21), (22, 28), (29, 35)]\n",
      "endpos --> 35\n",
      "match --> string\n",
      "\n",
      "\n",
      "id --> 3\n",
      "loc --> [(0, 6), (29, 35)]\n",
      "endpos --> 35\n",
      "match --> string\n",
      "\n",
      "\n"
     ]
    }
   ],
   "source": [
    "for match in matches:\n",
    "    for k, v in match.items():\n",
    "        print('{} --> {}'.format(k, v))\n",
    "    print('\\n')"
   ]
  },
  {
   "cell_type": "code",
   "execution_count": 208,
   "metadata": {},
   "outputs": [
    {
     "name": "stdout",
     "output_type": "stream",
     "text": [
      "0\n",
      "2\n",
      "3\n",
      "4\n"
     ]
    }
   ],
   "source": [
    "for match in matches:\n",
    "    print(match['id'])"
   ]
  },
  {
   "cell_type": "code",
   "execution_count": 19,
   "metadata": {},
   "outputs": [
    {
     "data": {
      "text/plain": [
       "'Malcolm'"
      ]
     },
     "execution_count": 19,
     "metadata": {},
     "output_type": "execute_result"
    }
   ],
   "source": [
    "m = re.match(r\"(?P<first_name>\\w+) (?P<last_name>\\w+)\", \"Malcolm Reynolds\")\n",
    "m.group('first_name')"
   ]
  },
  {
   "cell_type": "code",
   "execution_count": 20,
   "metadata": {},
   "outputs": [],
   "source": [
    "from typing import Iterator\n",
    "\n",
    "def fib(n: int) -> Iterator[int]:\n",
    "    a, b = 0, 1\n",
    "    while a < n:\n",
    "        yield a\n",
    "        a, b = b, a + b"
   ]
  },
  {
   "cell_type": "code",
   "execution_count": 37,
   "metadata": {},
   "outputs": [],
   "source": [
    "from typing import Any, get_type_hints, Sequence, Iterable, Generic, KT, VT, Dict"
   ]
  },
  {
   "cell_type": "code",
   "execution_count": 30,
   "metadata": {},
   "outputs": [
    {
     "data": {
      "text/plain": [
       "{'word': str, 'texts': list}"
      ]
     },
     "execution_count": 30,
     "metadata": {},
     "output_type": "execute_result"
    }
   ],
   "source": [
    "get_type_hints(iter_seach_for)"
   ]
  },
  {
   "cell_type": "code",
   "execution_count": 39,
   "metadata": {},
   "outputs": [
    {
     "data": {
      "text/plain": [
       "False"
      ]
     },
     "execution_count": 39,
     "metadata": {},
     "output_type": "execute_result"
    }
   ],
   "source": [
    "Sequence is str"
   ]
  },
  {
   "cell_type": "code",
   "execution_count": 40,
   "metadata": {},
   "outputs": [],
   "source": [
    "from typing import Iterable, List\n",
    "\n",
    "def even(numbers: Iterable[int]) -> List[int]:\n",
    "    return list(n for n in numbers if n % 2 == 0)"
   ]
  },
  {
   "cell_type": "code",
   "execution_count": null,
   "metadata": {},
   "outputs": [],
   "source": [
    "even()"
   ]
  }
 ],
 "metadata": {
  "kernelspec": {
   "display_name": "Python 3",
   "language": "python",
   "name": "python3"
  },
  "language_info": {
   "codemirror_mode": {
    "name": "ipython",
    "version": 3
   },
   "file_extension": ".py",
   "mimetype": "text/x-python",
   "name": "python",
   "nbconvert_exporter": "python",
   "pygments_lexer": "ipython3",
   "version": "3.6.7"
  }
 },
 "nbformat": 4,
 "nbformat_minor": 2
}
