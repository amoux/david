{
 "cells": [
  {
   "cell_type": "code",
   "execution_count": 1,
   "metadata": {},
   "outputs": [],
   "source": [
    "import sys\n",
    "sys.path.append('/home/ego/Github/david/')\n",
    "\n",
    "from david.pipeline import TextPipeline"
   ]
  },
  {
   "cell_type": "code",
   "execution_count": 2,
   "metadata": {},
   "outputs": [
    {
     "name": "stdout",
     "output_type": "stream",
     "text": [
      "<class 'david.pipeline.TextPipeline'>\n",
      "RangeIndex: 4252 entries, 0 to 4251\n",
      "Data columns (total 4 columns):\n",
      "author    4252 non-null object\n",
      "cid       4252 non-null object\n",
      "text      4252 non-null object\n",
      "time      4252 non-null object\n",
      "dtypes: object(4)\n",
      "memory usage: 133.0+ KB\n"
     ]
    }
   ],
   "source": [
    "JSONFILE = 'downloads/BmYZH7xt8sU.json'\n",
    "\n",
    "tp = TextPipeline(JSONFILE)\n",
    "tp.info()"
   ]
  },
  {
   "cell_type": "code",
   "execution_count": 3,
   "metadata": {},
   "outputs": [
    {
     "data": {
      "text/plain": [
       "david.pipeline.TextPipeline"
      ]
     },
     "execution_count": 3,
     "metadata": {},
     "output_type": "execute_result"
    }
   ],
   "source": [
    "tp.__class__"
   ]
  },
  {
   "cell_type": "code",
   "execution_count": 4,
   "metadata": {},
   "outputs": [
    {
     "data": {
      "text/html": [
       "<div>\n",
       "<style scoped>\n",
       "    .dataframe tbody tr th:only-of-type {\n",
       "        vertical-align: middle;\n",
       "    }\n",
       "\n",
       "    .dataframe tbody tr th {\n",
       "        vertical-align: top;\n",
       "    }\n",
       "\n",
       "    .dataframe thead th {\n",
       "        text-align: right;\n",
       "    }\n",
       "</style>\n",
       "<table border=\"1\" class=\"dataframe\">\n",
       "  <thead>\n",
       "    <tr style=\"text-align: right;\">\n",
       "      <th></th>\n",
       "      <th>author</th>\n",
       "      <th>cid</th>\n",
       "      <th>text</th>\n",
       "      <th>time</th>\n",
       "    </tr>\n",
       "  </thead>\n",
       "  <tbody>\n",
       "    <tr>\n",
       "      <th>0</th>\n",
       "      <td>PNW Ryan</td>\n",
       "      <td>UgzaG3oJa98fF6qi32h4AaABAg</td>\n",
       "      <td>I always forget to like the vid :( remind us!!!:P</td>\n",
       "      <td>25 minutes ago</td>\n",
       "    </tr>\n",
       "    <tr>\n",
       "      <th>1</th>\n",
       "      <td>Brian McDonald</td>\n",
       "      <td>Ugwgnpcp2e1D3mWMX2p4AaABAg</td>\n",
       "      <td>Looked like there was oil coming down left sid...</td>\n",
       "      <td>2 hours ago</td>\n",
       "    </tr>\n",
       "    <tr>\n",
       "      <th>2</th>\n",
       "      <td>Lewis Harvey</td>\n",
       "      <td>UgzpJXjwsyxTe1CLe4R4AaABAg</td>\n",
       "      <td>i like videos if its something really really f...</td>\n",
       "      <td>5 hours ago</td>\n",
       "    </tr>\n",
       "    <tr>\n",
       "      <th>3</th>\n",
       "      <td>skip rose</td>\n",
       "      <td>UgwBlsLv64UrNOcONz54AaABAg</td>\n",
       "      <td>Pos cable to small of guage causing currant su...</td>\n",
       "      <td>12 hours ago</td>\n",
       "    </tr>\n",
       "    <tr>\n",
       "      <th>4</th>\n",
       "      <td>Price Check On VagiClean</td>\n",
       "      <td>UgzjoHUlBJ8PDM_I3Gx4AaABAg</td>\n",
       "      <td>GT3RS: One of the best track cars ever made. Y...</td>\n",
       "      <td>12 hours ago</td>\n",
       "    </tr>\n",
       "  </tbody>\n",
       "</table>\n",
       "</div>"
      ],
      "text/plain": [
       "                     author                         cid  \\\n",
       "0                  PNW Ryan  UgzaG3oJa98fF6qi32h4AaABAg   \n",
       "1            Brian McDonald  Ugwgnpcp2e1D3mWMX2p4AaABAg   \n",
       "2              Lewis Harvey  UgzpJXjwsyxTe1CLe4R4AaABAg   \n",
       "3                 skip rose  UgwBlsLv64UrNOcONz54AaABAg   \n",
       "4  Price Check On VagiClean  UgzjoHUlBJ8PDM_I3Gx4AaABAg   \n",
       "\n",
       "                                                text            time  \n",
       "0  I always forget to like the vid :( remind us!!!:P  25 minutes ago  \n",
       "1  Looked like there was oil coming down left sid...     2 hours ago  \n",
       "2  i like videos if its something really really f...     5 hours ago  \n",
       "3  Pos cable to small of guage causing currant su...    12 hours ago  \n",
       "4  GT3RS: One of the best track cars ever made. Y...    12 hours ago  "
      ]
     },
     "execution_count": 4,
     "metadata": {},
     "output_type": "execute_result"
    }
   ],
   "source": [
    "tp.head()"
   ]
  },
  {
   "cell_type": "code",
   "execution_count": 6,
   "metadata": {},
   "outputs": [
    {
     "data": {
      "text/html": [
       "<div>\n",
       "<style scoped>\n",
       "    .dataframe tbody tr th:only-of-type {\n",
       "        vertical-align: middle;\n",
       "    }\n",
       "\n",
       "    .dataframe tbody tr th {\n",
       "        vertical-align: top;\n",
       "    }\n",
       "\n",
       "    .dataframe thead th {\n",
       "        text-align: right;\n",
       "    }\n",
       "</style>\n",
       "<table border=\"1\" class=\"dataframe\">\n",
       "  <thead>\n",
       "    <tr style=\"text-align: right;\">\n",
       "      <th></th>\n",
       "      <th>stringLength</th>\n",
       "      <th>avgWordLength</th>\n",
       "      <th>isStopwordCount</th>\n",
       "      <th>noStopwordCount</th>\n",
       "      <th>charDigitCount</th>\n",
       "      <th>charUpperCount</th>\n",
       "      <th>charLowerCount</th>\n",
       "      <th>sentiPolarity</th>\n",
       "      <th>sentiSubjectivity</th>\n",
       "    </tr>\n",
       "  </thead>\n",
       "  <tbody>\n",
       "    <tr>\n",
       "      <th>count</th>\n",
       "      <td>4252.000000</td>\n",
       "      <td>4252.000000</td>\n",
       "      <td>4252.000000</td>\n",
       "      <td>4252.000000</td>\n",
       "      <td>4252.000000</td>\n",
       "      <td>4252.000000</td>\n",
       "      <td>4252.000000</td>\n",
       "      <td>4252.000000</td>\n",
       "      <td>4252.000000</td>\n",
       "    </tr>\n",
       "    <tr>\n",
       "      <th>mean</th>\n",
       "      <td>135.003998</td>\n",
       "      <td>4.739630</td>\n",
       "      <td>26.677328</td>\n",
       "      <td>14.556914</td>\n",
       "      <td>0.375118</td>\n",
       "      <td>3.729774</td>\n",
       "      <td>101.602305</td>\n",
       "      <td>0.152794</td>\n",
       "      <td>0.435873</td>\n",
       "    </tr>\n",
       "    <tr>\n",
       "      <th>std</th>\n",
       "      <td>153.628255</td>\n",
       "      <td>0.969159</td>\n",
       "      <td>29.328706</td>\n",
       "      <td>15.255229</td>\n",
       "      <td>1.159446</td>\n",
       "      <td>5.685900</td>\n",
       "      <td>116.379166</td>\n",
       "      <td>0.264156</td>\n",
       "      <td>0.303939</td>\n",
       "    </tr>\n",
       "    <tr>\n",
       "      <th>min</th>\n",
       "      <td>1.000000</td>\n",
       "      <td>0.000000</td>\n",
       "      <td>1.000000</td>\n",
       "      <td>0.000000</td>\n",
       "      <td>0.000000</td>\n",
       "      <td>0.000000</td>\n",
       "      <td>0.000000</td>\n",
       "      <td>-1.000000</td>\n",
       "      <td>0.000000</td>\n",
       "    </tr>\n",
       "    <tr>\n",
       "      <th>25%</th>\n",
       "      <td>51.000000</td>\n",
       "      <td>4.200000</td>\n",
       "      <td>10.000000</td>\n",
       "      <td>6.000000</td>\n",
       "      <td>0.000000</td>\n",
       "      <td>1.000000</td>\n",
       "      <td>38.000000</td>\n",
       "      <td>0.000000</td>\n",
       "      <td>0.125000</td>\n",
       "    </tr>\n",
       "    <tr>\n",
       "      <th>50%</th>\n",
       "      <td>95.000000</td>\n",
       "      <td>4.703203</td>\n",
       "      <td>19.000000</td>\n",
       "      <td>10.000000</td>\n",
       "      <td>0.000000</td>\n",
       "      <td>2.000000</td>\n",
       "      <td>72.000000</td>\n",
       "      <td>0.100000</td>\n",
       "      <td>0.500000</td>\n",
       "    </tr>\n",
       "    <tr>\n",
       "      <th>75%</th>\n",
       "      <td>170.000000</td>\n",
       "      <td>5.200000</td>\n",
       "      <td>34.000000</td>\n",
       "      <td>18.000000</td>\n",
       "      <td>0.000000</td>\n",
       "      <td>4.000000</td>\n",
       "      <td>128.000000</td>\n",
       "      <td>0.322247</td>\n",
       "      <td>0.650000</td>\n",
       "    </tr>\n",
       "    <tr>\n",
       "      <th>max</th>\n",
       "      <td>3240.000000</td>\n",
       "      <td>18.000000</td>\n",
       "      <td>592.000000</td>\n",
       "      <td>297.000000</td>\n",
       "      <td>18.000000</td>\n",
       "      <td>118.000000</td>\n",
       "      <td>2477.000000</td>\n",
       "      <td>1.000000</td>\n",
       "      <td>1.000000</td>\n",
       "    </tr>\n",
       "  </tbody>\n",
       "</table>\n",
       "</div>"
      ],
      "text/plain": [
       "       stringLength  avgWordLength  isStopwordCount  noStopwordCount  \\\n",
       "count   4252.000000    4252.000000      4252.000000      4252.000000   \n",
       "mean     135.003998       4.739630        26.677328        14.556914   \n",
       "std      153.628255       0.969159        29.328706        15.255229   \n",
       "min        1.000000       0.000000         1.000000         0.000000   \n",
       "25%       51.000000       4.200000        10.000000         6.000000   \n",
       "50%       95.000000       4.703203        19.000000        10.000000   \n",
       "75%      170.000000       5.200000        34.000000        18.000000   \n",
       "max     3240.000000      18.000000       592.000000       297.000000   \n",
       "\n",
       "       charDigitCount  charUpperCount  charLowerCount  sentiPolarity  \\\n",
       "count     4252.000000     4252.000000     4252.000000    4252.000000   \n",
       "mean         0.375118        3.729774      101.602305       0.152794   \n",
       "std          1.159446        5.685900      116.379166       0.264156   \n",
       "min          0.000000        0.000000        0.000000      -1.000000   \n",
       "25%          0.000000        1.000000       38.000000       0.000000   \n",
       "50%          0.000000        2.000000       72.000000       0.100000   \n",
       "75%          0.000000        4.000000      128.000000       0.322247   \n",
       "max         18.000000      118.000000     2477.000000       1.000000   \n",
       "\n",
       "       sentiSubjectivity  \n",
       "count        4252.000000  \n",
       "mean            0.435873  \n",
       "std             0.303939  \n",
       "min             0.000000  \n",
       "25%             0.125000  \n",
       "50%             0.500000  \n",
       "75%             0.650000  \n",
       "max             1.000000  "
      ]
     },
     "execution_count": 6,
     "metadata": {},
     "output_type": "execute_result"
    }
   ],
   "source": [
    "tp.get_all_metrics(sentiment=True, tags=True)\n",
    "tp.describe()"
   ]
  },
  {
   "cell_type": "code",
   "execution_count": 7,
   "metadata": {},
   "outputs": [
    {
     "data": {
      "text/plain": [
       "count         4252\n",
       "unique           3\n",
       "top       positive\n",
       "freq          2441\n",
       "Name: sentimentLabel, dtype: object"
      ]
     },
     "execution_count": 7,
     "metadata": {},
     "output_type": "execute_result"
    }
   ],
   "source": [
    "tp.sentimentLabel.describe()"
   ]
  },
  {
   "cell_type": "code",
   "execution_count": 8,
   "metadata": {},
   "outputs": [
    {
     "data": {
      "text/plain": [
       "0    I always forget to like the vid :( remind us!!!:P\n",
       "1    Looked like there was oil coming down left sid...\n",
       "2    i like videos if its something really really f...\n",
       "3    Pos cable to small of guage causing currant su...\n",
       "4    GT3RS: One of the best track cars ever made. Y...\n",
       "Name: text, dtype: object"
      ]
     },
     "execution_count": 8,
     "metadata": {},
     "output_type": "execute_result"
    }
   ],
   "source": [
    "tp.text.head()"
   ]
  },
  {
   "cell_type": "code",
   "execution_count": 9,
   "metadata": {},
   "outputs": [
    {
     "name": "stderr",
     "output_type": "stream",
     "text": [
      "/home/ego/anaconda3/envs/vuepoint/lib/python3.6/re.py:212: FutureWarning: split() requires a non-empty pattern match.\n",
      "  return _compile(pattern, flags).split(string, maxsplit)\n"
     ]
    },
    {
     "data": {
      "text/plain": [
       "0    [i, always, forget, to, like, the, vid, remind...\n",
       "1    [looked, like, there, was, oil, coming, down, ...\n",
       "2    [i, like, videos, if, its, something, really, ...\n",
       "3    [pos, cable, to, small, of, guage, causing, cu...\n",
       "4    [gt, rs, one, of, the, best, track, cars, ever...\n",
       "Name: text, dtype: object"
      ]
     },
     "execution_count": 9,
     "metadata": {},
     "output_type": "execute_result"
    }
   ],
   "source": [
    "tp.clean_all_text(lower_texts=True, tokenize=True)\n",
    "tp.text.head()"
   ]
  },
  {
   "cell_type": "code",
   "execution_count": null,
   "metadata": {},
   "outputs": [],
   "source": []
  }
 ],
 "metadata": {
  "kernelspec": {
   "display_name": "Python 3",
   "language": "python",
   "name": "python3"
  },
  "language_info": {
   "codemirror_mode": {
    "name": "ipython",
    "version": 3
   },
   "file_extension": ".py",
   "mimetype": "text/x-python",
   "name": "python",
   "nbconvert_exporter": "python",
   "pygments_lexer": "ipython3",
   "version": "3.6.7"
  }
 },
 "nbformat": 4,
 "nbformat_minor": 2
}
