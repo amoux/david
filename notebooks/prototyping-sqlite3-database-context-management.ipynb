{
 "cells": [
  {
   "cell_type": "markdown",
   "metadata": {},
   "source": [
    "# dataset + sqlite3\n",
    "\n",
    "### context management for transactions in data enviroments\n",
    "\n",
    "\n",
    "**GOAL**\n",
    "\n",
    "> * Being able to keep track of a downloads, paths (location), and the name-of-files without having to explicitly import, load, and save back-to-back repeating the same steps multiple times.\n",
    "\n",
    "*When calling e.g. the `download(video_id)` method, which can return a: `(path, file-name, and meta-info)` where the file-name is the : **`video_id`**, meta-info : **'comment_count'** (*count is available and int-value can be returned*).*\n",
    "\n",
    "\n",
    "> * The database should hold the folowing values (all the following values can be obtained from the *`david.youtube.scraper.download`* method):\n",
    "    \n",
    "- file_path : str\n",
    "\n",
    "- file_name : str\n",
    "        \n",
    "- file_meta : int"
   ]
  },
  {
   "cell_type": "code",
   "execution_count": 28,
   "metadata": {},
   "outputs": [],
   "source": [
    "import sys\n",
    "sys.path.append('/home/ego/Github/david/')\n",
    "\n",
    "import os\n",
    "from os.path import exists, join, isfile\n",
    "from collections import namedtuple\n",
    "\n",
    "import dataset\n",
    "import pandas as pd\n",
    "\n",
    "from david.utils import pointer\n",
    "from david.youtube.scraper import _write2json\n",
    "from david.pipeline import TextMetrics, TextPreprocess"
   ]
  },
  {
   "cell_type": "markdown",
   "metadata": {},
   "source": [
    "#### Connecting to a database\n",
    "\n",
    "> It is also possible to define the URL as an environment variable called `DATABASE_URL` so you can initialize database connection without explicitly passing an URL:\n",
    "\n",
    "```python\n",
    "# connecting to a SQLite database\n",
    "db = dataset.connect('sqlite:///mydatabase.db')\n",
    "```\n",
    "\n",
    "#### Storing data\n",
    "\n",
    "> To store some data you need to get a reference to a table. You don’t need to worry about whether the table already exists or not, since dataset will create it automatically:\n",
    "\n",
    "* Insert a new record.\n",
    "\n",
    "```python\n",
    "# get a reference to the table 'user'.\n",
    "table = db['user']\n",
    "table.insert(dict(name='John Doe', age=46, country='China'))\n",
    "\n",
    "# dataset will create \"missing\" columns any time you insert a dict with an unknown key.\n",
    "table.insert(dict(name='Jane Doe', age=37, country='France', gender='female'))\n",
    "```\n",
    "\n",
    "* Updating existing entries.\n",
    "\n",
    "> The list of filter columns given as the second argument filter using the values in the first column. If you don’t want to update over a particular value, just use the auto-generated id column.\n",
    "\n",
    "```python\n",
    "table.update(dict(name='John Doe', age=47), ['name'])\n",
    "```"
   ]
  },
  {
   "cell_type": "code",
   "execution_count": 31,
   "metadata": {},
   "outputs": [
    {
     "data": {
      "text/plain": [
       "({'path': 'downloads', 'name': '4Dk3jOSbz_0', 'entries': 100},\n",
       " {'path': 'downloads', 'name': 'BmYZH7xt8sU', 'entries': 4252})"
      ]
     },
     "execution_count": 31,
     "metadata": {},
     "output_type": "execute_result"
    }
   ],
   "source": [
    "DATABASE_URL = 'sqlite:///context_manager.db'\n",
    "CONTEXT_TABLE = 'context'\n",
    "\n",
    "db = dataset.connect(DATABASE_URL)\n",
    "\n",
    "# when a transaction is executed: e.g user calling scraper.downlod(some-video, count=100)\n",
    "# the following parameters are created and all three parameters are ALWAYS expected.\n",
    "\n",
    "trans_1 = dict(path='downloads', name='4Dk3jOSbz_0', entries=100) # meta = entries\n",
    "trans_2 = dict(path='downloads', name='BmYZH7xt8sU', entries=4252)\n",
    "trans_1, trans_2"
   ]
  },
  {
   "cell_type": "code",
   "execution_count": 32,
   "metadata": {},
   "outputs": [
    {
     "data": {
      "text/plain": [
       "['id', 'path', 'name', 'entries']"
      ]
     },
     "execution_count": 32,
     "metadata": {},
     "output_type": "execute_result"
    }
   ],
   "source": [
    "# pass the keyword arguments to the database and save\n",
    "# (i need to add a time of download index!)\n",
    "\n",
    "table = db[CONTEXT_TABLE]\n",
    "table.insert(trans_1)\n",
    "table.insert(trans_2)\n",
    "db.commit()\n",
    "table.columns"
   ]
  },
  {
   "cell_type": "code",
   "execution_count": 37,
   "metadata": {},
   "outputs": [
    {
     "name": "stdout",
     "output_type": "stream",
     "text": [
      "context_manager.db\r\n"
     ]
    }
   ],
   "source": [
    "# creates the datable if it doest exists at the address\n",
    "%ls *.db"
   ]
  },
  {
   "cell_type": "markdown",
   "metadata": {},
   "source": [
    "#### Using Transactions\n",
    "\n",
    "> You can group a set of database updates in a transaction. In that case, all updates are committed at once or, in case of exception, all of them are reverted. Transactions are supported through a context manager, so they can be used through a with statement:\n",
    "\n",
    "#### Storing data\n",
    "\n",
    "> To store some data you need to get a reference to a table. You don’t need to worry about whether the table already exists or not, since dataset will create it automatically:\n",
    "\n",
    "* Insert a new record.\n",
    "\n",
    "```python\n",
    "with dataset.connect() as tx:\n",
    "    tx['user'].insert(dict(name='John Doe', age=46, country='China'))\n",
    "\n",
    "# you can get same functionality by invoking the methods:\n",
    "# begin(), commit() and rollback() explicitly:\n",
    "\n",
    "db = dataset.connect()\n",
    "db.begin()\n",
    "try:\n",
    "    db['user'].insert(dict(name='John Doe', age=46, country='China'))\n",
    "    db.commit()\n",
    "except:\n",
    "    db.rollback()\n",
    "\n",
    "# nested transactions are supported too:\n",
    "db = dataset.connect()\n",
    "with db as tx1:\n",
    "    tx1['user'].insert(dict(name='John Doe', age=46, country='China'))\n",
    "    with db as tx2:\n",
    "        tx2['user'].insert(dict(name='Jane Doe', age=37, country='France', gender='female'))\n",
    "```"
   ]
  },
  {
   "cell_type": "code",
   "execution_count": 82,
   "metadata": {},
   "outputs": [
    {
     "data": {
      "text/plain": [
       "File(path='downloads', name='vdsjhdsj11', entries=30)"
      ]
     },
     "execution_count": 82,
     "metadata": {},
     "output_type": "execute_result"
    }
   ],
   "source": [
    "from collections import namedtuple\n",
    "from collections import Counter\n",
    "\n",
    "def context_pointer(name: str, *args):\n",
    "    '''\n",
    "    * Creating a new pointer: returns an instance class like object.\n",
    "\n",
    "        >>> File = context_pointer('File', ['path', 'name', 'entries'])\n",
    "        >>> File.__doc__\n",
    "         'File(path, name, entries)'\n",
    "\n",
    "        >>> file = File(path='downloads', name='vdsjhdsj11', entries=30)\n",
    "         File(path='downloads', name='vdsjhdsj11', entries=30)\n",
    "    \n",
    "    * By calling the `_asdict()` method returns a dict object.\n",
    "\n",
    "        >>> file_dict = file._asdict()\n",
    "        >>> file_dict['name']\n",
    "         'vdsjhdsj11'\n",
    "    '''\n",
    "    return namedtuple(name, *args)\n",
    "\n",
    "File = context_pointer('File', ['path', 'name', 'entries'])\n",
    "\n",
    "file = File(path='downloads', name='vdsjhdsj11', entries=30)\n",
    "file"
   ]
  },
  {
   "cell_type": "code",
   "execution_count": 56,
   "metadata": {},
   "outputs": [
    {
     "data": {
      "text/plain": [
       "'vdsjhdsj11.json'"
      ]
     },
     "execution_count": 56,
     "metadata": {},
     "output_type": "execute_result"
    }
   ],
   "source": [
    "file.name + '.json'"
   ]
  },
  {
   "cell_type": "code",
   "execution_count": 81,
   "metadata": {},
   "outputs": [
    {
     "data": {
      "text/plain": [
       "('path', 'name', 'entries')"
      ]
     },
     "execution_count": 81,
     "metadata": {},
     "output_type": "execute_result"
    }
   ],
   "source": [
    "file_dict = file._asdict()\n",
    "file_dict['path']\n",
    "file._make"
   ]
  },
  {
   "cell_type": "code",
   "execution_count": 83,
   "metadata": {},
   "outputs": [
    {
     "data": {
      "text/plain": [
       "Counter({'path': 'downloads', 'name': 'vdsjhdsj11', 'entries': 30})"
      ]
     },
     "execution_count": 83,
     "metadata": {},
     "output_type": "execute_result"
    }
   ],
   "source": [
    "trans_3 = Counter(path='downloads', name='vdsjhdsj11', entries=30)\n",
    "trans_3"
   ]
  },
  {
   "cell_type": "code",
   "execution_count": 85,
   "metadata": {},
   "outputs": [
    {
     "data": {
      "text/plain": [
       "'vdsjhdsj11'"
      ]
     },
     "execution_count": 85,
     "metadata": {},
     "output_type": "execute_result"
    }
   ],
   "source": [
    "dict(trans_3)['name']"
   ]
  },
  {
   "cell_type": "code",
   "execution_count": 63,
   "metadata": {},
   "outputs": [
    {
     "data": {
      "text/plain": [
       "'downloads'"
      ]
     },
     "execution_count": 63,
     "metadata": {},
     "output_type": "execute_result"
    }
   ],
   "source": [
    "with dataset.connect() as tx:\n",
    "    tx[CONTEXT_TABLE].insert(file_dict)"
   ]
  },
  {
   "cell_type": "code",
   "execution_count": 18,
   "metadata": {},
   "outputs": [],
   "source": [
    "from collections import defaultdict\n",
    "from typing import DefaultDict, List, Set, Tuple, Type\n",
    "\n",
    "\n",
    "def constant_factory_str(value):\n",
    "    '''\n",
    "    >>> d = defaultdict(constant_factory('<missing>'))\n",
    "    >>> d.update(name='John', action='ran')\n",
    "    >>> '%(name)s %(action)s to %(object)s' % d\n",
    "    [Out] 'John ran to <missing>'\n",
    "    '''\n",
    "    return lambda: value\n",
    "\n",
    "\n",
    "def _lists(collection):\n",
    "    # lists grouping factory.\n",
    "    d = defaultdict(list)\n",
    "    for k, v in collection:\n",
    "        d[k].append(v)\n",
    "    return d\n",
    "\n",
    "\n",
    "def _sets(collection):\n",
    "    # sets builder factory.\n",
    "    d = defaultdict(set)\n",
    "    for k, v in collection:\n",
    "        d[k].add(v)\n",
    "    return d\n",
    "\n",
    "\n",
    "def _ints(collection):\n",
    "    # ints counting factory.\n",
    "    d = defaultdict(int)\n",
    "    for k in collection:\n",
    "        d[k] += 1\n",
    "    return d\n",
    "\n",
    "\n",
    "def constant_factory(\n",
    "        collection: List[Tuple],\n",
    "        func: Type[Set[List[int]]],\n",
    "        sort_items=False) -> DefaultDict[Tuple]:\n",
    "    '''\n",
    "    Dictionary Factory Builder.\n",
    "\n",
    "    Parameters:\n",
    "    ----------\n",
    "\n",
    "    `collection` : object -> list[tuples]\n",
    "\n",
    "    `by_func` : type -> [set|list|int]\n",
    "\n",
    "    `sort_items` : (bool)\n",
    "        If True, the collection is then returned as a sorted list object.\n",
    "        If False (default), the collection is returned as a dict object.\n",
    "\n",
    "    func : object[Types]:\n",
    "    --------------------\n",
    "\n",
    "        * set  -  Building a dictionary of sets.\n",
    "        * int  -  Counting a frequecy, e.g. a count freq of sequences.\n",
    "        * list -  Grouping a sequence of key-value pairs into a dict-of-lists\n",
    "\n",
    "        >>> constant_factory([('blue', 4), ('blue', 2)], func=list)\n",
    "        ... [('blue', [2, 4])\n",
    "\n",
    "        >>> S = ['python is A', 'python is A', 'java is D', 'java is C']\n",
    "        >>> constant_factory(S, int, sort_items=True)\n",
    "        ... [('java is C', 1), ('java is D', 1), ('python is A', 2)]\n",
    "\n",
    "    '''\n",
    "    if func is set:\n",
    "        collection = _sets(collection)\n",
    "\n",
    "    elif func is int:\n",
    "        collection = _ints(collection)\n",
    "\n",
    "    elif func is list:\n",
    "        collection = _lists(collection)\n",
    "\n",
    "    if sort_items:\n",
    "        return sorted(collection.items())\n",
    "    else:\n",
    "        return collection"
   ]
  },
  {
   "cell_type": "code",
   "execution_count": 19,
   "metadata": {},
   "outputs": [
    {
     "data": {
      "text/plain": [
       "defaultdict(list, {'yellow': [1, 3], 'blue': [2, 4], 'red': [1]})"
      ]
     },
     "execution_count": 19,
     "metadata": {},
     "output_type": "execute_result"
    }
   ],
   "source": [
    "G = [('yellow', 1), ('blue', 2), ('yellow', 3), ('blue', 4), ('red', 1)]\n",
    "constant_factory(G, list)"
   ]
  },
  {
   "cell_type": "code",
   "execution_count": 20,
   "metadata": {},
   "outputs": [
    {
     "data": {
      "text/plain": [
       "[('blue', [2, 4]), ('red', [1]), ('yellow', [1, 3])]"
      ]
     },
     "execution_count": 20,
     "metadata": {},
     "output_type": "execute_result"
    }
   ],
   "source": [
    "constant_factory(G, list, sort_items=True)"
   ]
  },
  {
   "cell_type": "code",
   "execution_count": 21,
   "metadata": {},
   "outputs": [
    {
     "data": {
      "text/plain": [
       "defaultdict(set, {'yellow': {1, 3}, 'blue': {2, 4}, 'red': {1}})"
      ]
     },
     "execution_count": 21,
     "metadata": {},
     "output_type": "execute_result"
    }
   ],
   "source": [
    "constant_factory(G, set)"
   ]
  },
  {
   "cell_type": "code",
   "execution_count": 22,
   "metadata": {},
   "outputs": [
    {
     "data": {
      "text/plain": [
       "[('blue', {2, 4}), ('red', {1}), ('yellow', {1, 3})]"
      ]
     },
     "execution_count": 22,
     "metadata": {},
     "output_type": "execute_result"
    }
   ],
   "source": [
    "constant_factory(G, set, sort_items=True)"
   ]
  },
  {
   "cell_type": "code",
   "execution_count": 23,
   "metadata": {},
   "outputs": [
    {
     "data": {
      "text/plain": [
       "defaultdict(int, {'c': 2, 'o': 2, 'l': 2, 'e': 1, 't': 1, 'i': 1, 'n': 1})"
      ]
     },
     "execution_count": 23,
     "metadata": {},
     "output_type": "execute_result"
    }
   ],
   "source": [
    "constant_factory('collection', int)"
   ]
  },
  {
   "cell_type": "code",
   "execution_count": 24,
   "metadata": {},
   "outputs": [
    {
     "data": {
      "text/plain": [
       "defaultdict(int, {'hello': 2, 'world': 1, 'python': 1})"
      ]
     },
     "execution_count": 24,
     "metadata": {},
     "output_type": "execute_result"
    }
   ],
   "source": [
    "W = ['hello', 'world', 'hello', 'python']\n",
    "constant_factory(W, int)"
   ]
  },
  {
   "cell_type": "code",
   "execution_count": 25,
   "metadata": {},
   "outputs": [
    {
     "data": {
      "text/plain": [
       "[('hello', 2), ('python', 1), ('world', 1)]"
      ]
     },
     "execution_count": 25,
     "metadata": {},
     "output_type": "execute_result"
    }
   ],
   "source": [
    "constant_factory(W, int, sort_items=True)"
   ]
  },
  {
   "cell_type": "code",
   "execution_count": 26,
   "metadata": {},
   "outputs": [
    {
     "data": {
      "text/plain": [
       "defaultdict(int, {'python is A': 2, 'java is D': 1, 'java is C': 1})"
      ]
     },
     "execution_count": 26,
     "metadata": {},
     "output_type": "execute_result"
    }
   ],
   "source": [
    "S = ['python is A', 'python is A', 'java is D', 'java is C']\n",
    "constant_factory(S, int)"
   ]
  },
  {
   "cell_type": "code",
   "execution_count": 27,
   "metadata": {},
   "outputs": [
    {
     "data": {
      "text/plain": [
       "[('java is C', 1), ('java is D', 1), ('python is A', 2)]"
      ]
     },
     "execution_count": 27,
     "metadata": {},
     "output_type": "execute_result"
    }
   ],
   "source": [
    "constant_factory(S, int, sort_items=True)"
   ]
  },
  {
   "cell_type": "code",
   "execution_count": 5,
   "metadata": {},
   "outputs": [],
   "source": [
    "import re\n",
    "from typing import List, Sequence\n",
    "\n",
    "def tokenize(texts: List[str]) -> List[Sequence[str]]:\n",
    "    '''Return the tokens of a sentence including punctuation:\n",
    "\n",
    "        >>> tokenize('The apple. Where is the apple?')\n",
    "    '['The', 'apple', '.', 'Where', 'is', 'the', 'apple', '?']'\n",
    "    '''\n",
    "    return [x.strip() for x in re.split(r'(\\W+)?', texts) if x.strip()]"
   ]
  },
  {
   "cell_type": "code",
   "execution_count": 6,
   "metadata": {},
   "outputs": [
    {
     "name": "stderr",
     "output_type": "stream",
     "text": [
      "/home/ego/anaconda3/envs/vuepoint/lib/python3.6/re.py:212: FutureWarning: split() requires a non-empty pattern match.\n",
      "  return _compile(pattern, flags).split(string, maxsplit)\n"
     ]
    },
    {
     "data": {
      "text/plain": [
       "['The', 'apple', '.', 'Where', 'is', 'the', 'apple', '?']"
      ]
     },
     "execution_count": 6,
     "metadata": {},
     "output_type": "execute_result"
    }
   ],
   "source": [
    "tokenize('The apple. Where is the apple?')"
   ]
  },
  {
   "cell_type": "code",
   "execution_count": 7,
   "metadata": {},
   "outputs": [],
   "source": [
    "Sequence??"
   ]
  },
  {
   "cell_type": "code",
   "execution_count": null,
   "metadata": {},
   "outputs": [],
   "source": []
  }
 ],
 "metadata": {
  "kernelspec": {
   "display_name": "Python 3",
   "language": "python",
   "name": "python3"
  },
  "language_info": {
   "codemirror_mode": {
    "name": "ipython",
    "version": 3
   },
   "file_extension": ".py",
   "mimetype": "text/x-python",
   "name": "python",
   "nbconvert_exporter": "python",
   "pygments_lexer": "ipython3",
   "version": "3.6.7"
  }
 },
 "nbformat": 4,
 "nbformat_minor": 2
}
