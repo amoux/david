{
 "cells": [
  {
   "cell_type": "code",
   "execution_count": null,
   "metadata": {},
   "outputs": [],
   "source": [
    "from __future__ import print_function, division\n",
    "import sys\n",
    "sys.path.append('/home/ego/Github/david/')\n",
    "\n",
    "import os\n",
    "from os.path import exists, join, isfile\n",
    "\n",
    "import dataset\n",
    "import pandas as pd\n",
    "from flask import Flask\n",
    "from flask_sqlalchemy import SQLAlchemy\n",
    "\n",
    "from david.youtube import scraper, searchv2\n",
    "from david.pipeline import TextMetrics, TextPreprocess"
   ]
  },
  {
   "cell_type": "code",
   "execution_count": null,
   "metadata": {},
   "outputs": [],
   "source": [
    "from typing import Any, Callable, Dict, List, Optional, Tuple, Type, Union\n",
    "\n",
    "class Substitution:\n",
    "    \"\"\"A decorator to take a function's docstring and perform string\n",
    "    substitution on it. \n",
    "    This decorator should be robust even if func.__doc__ is None\n",
    "    (for example, if -OO was passed to the interpreter)\n",
    "\n",
    "    Usage: construct a docstring.Substitution with a sequence or\n",
    "    dictionary suitable for performing substitution; then\n",
    "    decorate a suitable function with the constructed object. e.g.\n",
    "\n",
    "    >>> sub_author_name = Substitution(author='Jason')\n",
    "    >>> ...\n",
    "    >>> @sub_author_name\n",
    "    >>> def some_function(x):\n",
    "            \"%(author)s wrote this function\"\n",
    "\n",
    "    # note that some_function.__doc__ is now \"Jason wrote this function\"\n",
    "    One can also use positional arguments.\n",
    "\n",
    "    >>> sub_first_last_names = Substitution('Edgar Allen', 'Poe')\n",
    "\n",
    "    >>> @sub_first_last_names\n",
    "    >>> def some_function(x):\n",
    "            \"%s %s wrote the Raven\"\n",
    "    \"\"\"\n",
    "    def __init__(self, *args, **kwargs):\n",
    "        if args and kwargs:\n",
    "            raise AssertionError(\"Only positional or keyword args are allowed\")\n",
    "        # which ever (args | kwargs) is passed thorugh the condition.\n",
    "        self.params = args or kwargs\n",
    "\n",
    "    def __call__(self, func: Callable) -> Callable:\n",
    "        func.__doc__ = func.__doc__ and func.__doc__ % self.params\n",
    "        return func\n",
    "\n",
    "    def update(self, *args, **kwargs) -> None:\n",
    "        \"\"\"Update self.params with supplied args.\n",
    "        If called, we assume self.params is a dict.\n",
    "        \"\"\"\n",
    "        self.params.update(*args, **kwargs)"
   ]
  },
  {
   "cell_type": "code",
   "execution_count": null,
   "metadata": {},
   "outputs": [],
   "source": [
    "sub_author_name = Substitution(author='Carlos', age=27, specs='Information Systems')\n",
    "sub_author_name.params"
   ]
  },
  {
   "cell_type": "code",
   "execution_count": null,
   "metadata": {},
   "outputs": [],
   "source": [
    "@sub_author_name\n",
    "def func(x):\n",
    "    \"%(author)s function\"\n",
    "func.__doc__"
   ]
  },
  {
   "cell_type": "code",
   "execution_count": null,
   "metadata": {
    "scrolled": true
   },
   "outputs": [],
   "source": [
    "import numpy as np\n",
    "\n",
    "data = {\n",
    "    \"col_{0:02d}\".format(i): np.random.randint(0, high=1000, size=30000)\n",
    "    for i in range(100)\n",
    "}\n",
    "data"
   ]
  },
  {
   "cell_type": "code",
   "execution_count": null,
   "metadata": {},
   "outputs": [],
   "source": [
    "JSON = 'downloads/4Dk3jOSbz_0.json'\n",
    "\n",
    "from pandas import RangeIndex"
   ]
  },
  {
   "cell_type": "code",
   "execution_count": null,
   "metadata": {},
   "outputs": [],
   "source": [
    "RangeIndex??"
   ]
  },
  {
   "cell_type": "code",
   "execution_count": null,
   "metadata": {},
   "outputs": [],
   "source": [
    "df = pd.DataFrame(JSON, index=RangeIndex(start=0, stop=100, step=1))\n",
    "df.describe()"
   ]
  },
  {
   "cell_type": "code",
   "execution_count": null,
   "metadata": {},
   "outputs": [],
   "source": [
    "class DFClassGenerator:\n",
    "    '''Example Usage.\n",
    "    comment = CommentsFrame(data=dict(\n",
    "        author=['carlos', 'chucho'],\n",
    "        cid=[122, 177],\n",
    "        text=['this is carlos', 'chucho here'],\n",
    "        time=['10:30', '19:40']))\n",
    "    type(comment)\n",
    "    '''\n",
    "    CLASS_HEADER = 'class {class_name}(pd.DataFrame):'\n",
    "    COLUMNS = '    {var} = \"{label}\"'   # we cheat an encode 4 spaces here,for demo\n",
    "\n",
    "    CONSTRUCTOR =  (\"    @property\\n\"\n",
    "                    \"    def _constructor(self):\\n\"\n",
    "                    \"        return {class_name}\")\n",
    "\n",
    "    @classmethod\n",
    "    def generate_class(cls, df, class_name):\n",
    "        cols = [cls.COLUMNS.format(var=c.upper(), label=c)\n",
    "                for c in df.columns] # works for single hierarchical column index\n",
    "        lines = [cls.CLASS_HEADER.format(class_name=class_name)]\n",
    "        constructor = cls.CONSTRUCTOR.format(class_name=class_name)\n",
    "        source_code = '\\n'.join(lines + cols) + '\\n\\n' + constructor\n",
    "        print(source_code)\n",
    "        \n",
    "#source_code = DFClassGenerator.generate_class(metric, 'CommentsFrame')\n",
    "#print(source_code)"
   ]
  },
  {
   "cell_type": "code",
   "execution_count": null,
   "metadata": {},
   "outputs": [],
   "source": [
    "class DavidFrame(pd.DataFrame):\n",
    "\n",
    "    def __init__(self, *args, **kwargs):\n",
    "        super(DavidFrame, self).__init__(*args, **kwargs)\n",
    "        self._metadata = {'test': 'TEST'}\n",
    "        \n",
    "    def to_textfile(self, fn, text_col='text'):\n",
    "        with open(fn, 'w', encoding='utf-8') as f:\n",
    "            for x in self[text_col].tolist():\n",
    "                if len(x) != 0:\n",
    "                    f.write('%s\\n' % x)\n",
    "            f.close()\n",
    "\n",
    "    @property\n",
    "    def _constructor(self):\n",
    "        print(\"_constructor called\")\n",
    "        return DavidFrame\n",
    "\n",
    "    def __finalize__(self, other, method=None, **kwargs):\n",
    "        '''Propagate metadata from other to self.\n",
    "        '''\n",
    "        print(\"__finalize__ called\")\n",
    "        for name in self._metadata:\n",
    "            object.__setattr__(self, name, getattr(other, name, None))\n",
    "        return self\n",
    "\n",
    "    def copy(self, deep_copy=True):\n",
    "        '''Make a copy of the class instance object.\n",
    "\n",
    "        deep_copy :  makes a deep copy, i.e. also copy data and\n",
    "        returns a copy of the obj.\n",
    "        '''\n",
    "        data = self._data\n",
    "        if deep_copy:\n",
    "            data = data.copy()\n",
    "        return DavidFrame(data).__finalize__(self)"
   ]
  },
  {
   "cell_type": "code",
   "execution_count": null,
   "metadata": {},
   "outputs": [],
   "source": [
    "def builder(func, *pargs, **kwards):\n",
    "    print(f'calling: {func.__name__}')\n",
    "    return func(*pargs, **kwards)"
   ]
  },
  {
   "cell_type": "code",
   "execution_count": null,
   "metadata": {},
   "outputs": [],
   "source": [
    "metric = TextMetrics(json_fp='downloads/4Dk3jOSbz_0.json')\n",
    "david = DavidFrame(metric.to_dict(orient='dict'))"
   ]
  },
  {
   "cell_type": "code",
   "execution_count": null,
   "metadata": {},
   "outputs": [],
   "source": [
    "from readline import read_history_file, write_history_file, set_auto_history"
   ]
  },
  {
   "cell_type": "code",
   "execution_count": null,
   "metadata": {},
   "outputs": [],
   "source": [
    "import atexit\n",
    "import code\n",
    "import os\n",
    "import readline\n",
    "\n",
    "class HistoryConsole(code.InteractiveConsole):\n",
    "    def __init__(self, locals=None, filename=\"<console>\",\n",
    "                 histfile=os.path.expanduser(\"~/.console-history\")):\n",
    "        code.InteractiveConsole.__init__(self, locals, filename)\n",
    "        self.init_history(histfile)\n",
    "\n",
    "    def init_history(self, histfile):\n",
    "        readline.parse_and_bind(\"tab: complete\")\n",
    "        if hasattr(readline, \"read_history_file\"):\n",
    "            try:\n",
    "                readline.read_history_file(histfile)\n",
    "            except FileNotFoundError:\n",
    "                pass\n",
    "            atexit.register(self.save_history, histfile)\n",
    "\n",
    "    def save_history(self, histfile):\n",
    "        readline.set_history_length(1000)\n",
    "        readline.write_history_file(histfile)"
   ]
  },
  {
   "cell_type": "code",
   "execution_count": null,
   "metadata": {},
   "outputs": [],
   "source": [
    "hc = HistoryConsole()\n",
    "hc"
   ]
  },
  {
   "cell_type": "code",
   "execution_count": null,
   "metadata": {},
   "outputs": [],
   "source": [
    "# this actuaclly starts a terminal session lol\n",
    "hc.interact()"
   ]
  },
  {
   "cell_type": "code",
   "execution_count": null,
   "metadata": {
    "scrolled": true
   },
   "outputs": [],
   "source": []
  },
  {
   "cell_type": "code",
   "execution_count": null,
   "metadata": {},
   "outputs": [],
   "source": []
  }
 ],
 "metadata": {
  "kernelspec": {
   "display_name": "Python 3",
   "language": "python",
   "name": "python3"
  },
  "language_info": {
   "codemirror_mode": {
    "name": "ipython",
    "version": 3
   },
   "file_extension": ".py",
   "mimetype": "text/x-python",
   "name": "python",
   "nbconvert_exporter": "python",
   "pygments_lexer": "ipython3",
   "version": "3.6.7"
  }
 },
 "nbformat": 4,
 "nbformat_minor": 2
}
