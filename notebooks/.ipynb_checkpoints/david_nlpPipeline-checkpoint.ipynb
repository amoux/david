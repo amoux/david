{
 "cells": [
  {
   "cell_type": "code",
   "execution_count": 1,
   "metadata": {},
   "outputs": [],
   "source": [
    "import sys\n",
    "sys.path.append('/home/ego/GitHub/david/')\n",
    "import datetime\n",
    "from sys import stdout\n",
    "\n",
    "import dataset\n",
    "from gensim import corpora\n",
    "from gensim.models.ldamodel import LdaModel\n",
    "\n",
    "from david.youtube import search\n",
    "from david.youtube import scraper\n",
    "from david.models import ngrams, lda\n",
    "from david.pipeline import TextPipeline\n",
    "from david.visualizers.words import build_wordcloud"
   ]
  },
  {
   "cell_type": "code",
   "execution_count": 9,
   "metadata": {},
   "outputs": [
    {
     "name": "stdout",
     "output_type": "stream",
     "text": [
      "favoriteCount\n",
      "viewCount\n",
      "likeCount\n",
      "dislikeCount\n",
      "commentCount\n"
     ]
    }
   ],
   "source": [
    "youtube = search.YoutubeConfig()\n",
    "\n",
    "for stat in youtube.stat:\n",
    "    print(stat)"
   ]
  },
  {
   "cell_type": "code",
   "execution_count": 3,
   "metadata": {
    "scrolled": false
   },
   "outputs": [
    {
     "data": {
      "text/plain": [
       "{'kind': 'youtube#searchListResponse',\n",
       " 'etag': '\"8jEFfXBrqiSrcF6Ee7MQuz8XuAM/wwkjSk3kmLsX8oDQcaechsQumSE\"',\n",
       " 'nextPageToken': 'CAEQAA',\n",
       " 'regionCode': 'US',\n",
       " 'pageInfo': {'totalResults': 1000000, 'resultsPerPage': 1},\n",
       " 'items': [{'kind': 'youtube#searchResult',\n",
       "   'etag': '\"8jEFfXBrqiSrcF6Ee7MQuz8XuAM/h-y1GoG3E2xiimffvRzA-ILgL6E\"',\n",
       "   'id': {'kind': 'youtube#video', 'videoId': 'gZUSFda_W7k'},\n",
       "   'snippet': {'publishedAt': '2019-03-10T14:46:31.000Z',\n",
       "    'channelId': 'UCsTcErHg8oDvUnTzoqsYeNw',\n",
       "    'title': 'Here&#39;s why I&#39;m officially quitting Apple Laptops.',\n",
       "    'description': \"After many years using MacBook variants I've made the switch to Windows. I've used every version of MacBook Pro and MacBook Air that have been released.\",\n",
       "    'thumbnails': {'default': {'url': 'https://i.ytimg.com/vi/gZUSFda_W7k/default.jpg',\n",
       "      'width': 120,\n",
       "      'height': 90},\n",
       "     'medium': {'url': 'https://i.ytimg.com/vi/gZUSFda_W7k/mqdefault.jpg',\n",
       "      'width': 320,\n",
       "      'height': 180},\n",
       "     'high': {'url': 'https://i.ytimg.com/vi/gZUSFda_W7k/hqdefault.jpg',\n",
       "      'width': 480,\n",
       "      'height': 360}},\n",
       "    'channelTitle': 'Unbox Therapy',\n",
       "    'liveBroadcastContent': 'none'}}]}"
      ]
     },
     "execution_count": 3,
     "metadata": {},
     "output_type": "execute_result"
    }
   ],
   "source": [
    "search.yt_search('thinkpad', 1)"
   ]
  },
  {
   "cell_type": "code",
   "execution_count": 4,
   "metadata": {
    "scrolled": true
   },
   "outputs": [
    {
     "data": {
      "text/plain": [
       "[{'title': 'Here&#39;s why I&#39;m officially quitting Apple Laptops.',\n",
       "  'vidId': 'gZUSFda_W7k',\n",
       "  'publishedAt': '2019-03-10T14:46:31.000Z',\n",
       "  'channelId': 'UCsTcErHg8oDvUnTzoqsYeNw',\n",
       "  'description': \"After many years using MacBook variants I've made the switch to Windows. I've used every version of MacBook Pro and MacBook Air that have been released. My current laptop of choice is the Lenovo Thinkpad X1 Carbon / Lenovo Thinkpad X1 Extreme.Turns out switching from Mac to Windows isn't as painful as I expected.\\n\\nFOLLOW ME IN THESE PLACES FOR UPDATES\\nTwitter - http://twitter.com/unboxtherapy\\nFacebook - http://facebook.com/lewis.hilsenteger\\nInstagram - http://instagram.com/unboxtherapy\",\n",
       "  'channelTitle': 'Unbox Therapy',\n",
       "  'tags': ['macbook',\n",
       "   'macbook air',\n",
       "   'macbook pro',\n",
       "   'apple',\n",
       "   'apple macbook',\n",
       "   'laptop',\n",
       "   'best laptop',\n",
       "   'best laptop 2019',\n",
       "   'best',\n",
       "   '2019',\n",
       "   'windows',\n",
       "   'mac',\n",
       "   'pc',\n",
       "   'best pc laptop',\n",
       "   'ultrabook',\n",
       "   'intel',\n",
       "   'lenovo',\n",
       "   'thinkpad x1 carbon',\n",
       "   'x1 carbon',\n",
       "   'thinkpad',\n",
       "   'x1 extreme',\n",
       "   'thinkpad x1 extreme',\n",
       "   'best keyboard laptop',\n",
       "   'vs',\n",
       "   'macbook vs',\n",
       "   'macbook air vs',\n",
       "   'macbook pro review',\n",
       "   'macbook air review',\n",
       "   'macbook pro 13',\n",
       "   'macbook pro 15',\n",
       "   'macbook pro 16',\n",
       "   'intel core i7',\n",
       "   'carbon',\n",
       "   'extreme',\n",
       "   'dell',\n",
       "   'hp',\n",
       "   'asus',\n",
       "   'mac vs pc',\n",
       "   'unbox therapy',\n",
       "   'unboxing',\n",
       "   'review',\n",
       "   'computer hardware'],\n",
       "  'categoryId': '28',\n",
       "  'liveBroadcastContent': 'none',\n",
       "  'defaultLanguage': 'xxNoneFoundxx',\n",
       "  'favoriteCount': '0',\n",
       "  'viewCount': '5033475',\n",
       "  'likeCount': '116101',\n",
       "  'dislikeCount': '11908',\n",
       "  'commentCount': '22618'}]"
      ]
     },
     "execution_count": 4,
     "metadata": {},
     "output_type": "execute_result"
    }
   ],
   "source": [
    "search.yt_video('thinkpad', 1)"
   ]
  },
  {
   "cell_type": "code",
   "execution_count": 11,
   "metadata": {},
   "outputs": [
    {
     "data": {
      "text/plain": [
       "googleapiclient.discovery.Resource"
      ]
     },
     "execution_count": 11,
     "metadata": {},
     "output_type": "execute_result"
    }
   ],
   "source": [
    "from googleapiclient import discovery\n",
    "\n",
    "Discovery = discovery.build(\n",
    "    serviceName=youtube.api.service,\n",
    "    version=youtube.api.version,\n",
    "    developerKey=youtube.api.key\n",
    ")\n",
    "videoResource = Discovery.videos()\n",
    "videoResource.__class__"
   ]
  },
  {
   "cell_type": "code",
   "execution_count": null,
   "metadata": {},
   "outputs": [],
   "source": []
  }
 ],
 "metadata": {
  "kernelspec": {
   "display_name": "Python 3",
   "language": "python",
   "name": "python3"
  },
  "language_info": {
   "codemirror_mode": {
    "name": "ipython",
    "version": 3
   },
   "file_extension": ".py",
   "mimetype": "text/x-python",
   "name": "python",
   "nbconvert_exporter": "python",
   "pygments_lexer": "ipython3",
   "version": "3.6.7"
  }
 },
 "nbformat": 4,
 "nbformat_minor": 2
}
