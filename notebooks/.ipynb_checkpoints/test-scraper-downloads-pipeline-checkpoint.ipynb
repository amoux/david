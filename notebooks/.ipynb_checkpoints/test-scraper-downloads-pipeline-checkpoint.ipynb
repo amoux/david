{
 "cells": [
  {
   "cell_type": "code",
   "execution_count": 5,
   "metadata": {},
   "outputs": [],
   "source": [
    "import sys\n",
    "sys.path.append('/home/ego/Github/david/')\n",
    "\n",
    "import os\n",
    "from os.path import exists, join, isfile\n",
    "from collections import namedtuple\n",
    "\n",
    "import pandas as pd\n",
    "\n",
    "from david.youtube.scraper import _write2json\n",
    "from david.pipeline import TextMetrics, TextPreprocess"
   ]
  },
  {
   "cell_type": "code",
   "execution_count": null,
   "metadata": {},
   "outputs": [],
   "source": [
    "def download(video_id: str, dirpath='downloads',\n",
    "             limit=None, load_corpus=False, force_download=False):\n",
    "    '''\n",
    "    Downloads comments from a youtube videos.\n",
    "\n",
    "    NOTE: The files are named after the video id e.g. 4Dk3jOSbz_0.json\n",
    "\n",
    "    Parameters\n",
    "    ----------\n",
    "\n",
    "    `video_id` : (str)\n",
    "        The youtube id from a video url. For example, '4Dk3jOSbz_0'\n",
    "\n",
    "    `dirpath` : (str, default='downloads')\n",
    "\n",
    "    NOTE: I NEED TO ADD A DEFAULT GLOBAL ENVIROMENT VARIABLE TO THE\n",
    "    LOCATION WHERE THE DOWNLOADS WILL BE SAVED. LIKE DAVID_DATA. I\n",
    "    ALREADY STARTED WORKING ON THIS WILL SOME METHODS FROM THE SKLEARN\n",
    "    LIBRARY. LOCATED IN THE MODELS DIRECTORY OF THIS PROJECT.\n",
    "\n",
    "\n",
    "        The directory where the downloads will be saved.\n",
    "\n",
    "    `limit` : (int, default=None)\n",
    "        Sets a limit to the number of comments to download\n",
    "    '''\n",
    "    # make directory if it doesnt exist.\n",
    "    if not exists(dirpath):\n",
    "        os.makedirs(dirpath)\n",
    "    fp = join(dirpath, f'{video_id}.json')\n",
    "\n",
    "    # check if the video has already beed downloaded.\n",
    "    if (isfile(fp) and not force_download):\n",
    "        raise Exception(f'The video id: {video_id} already exists!\\n'\n",
    "                        'Set force_download=True to override the exception.')\n",
    "    _write2json(fp, video_id, limit)\n",
    "\n",
    "    # if true, return the full path of the scraped file.\n",
    "    if load_corpus:\n",
    "        return fp"
   ]
  },
  {
   "cell_type": "code",
   "execution_count": null,
   "metadata": {},
   "outputs": [],
   "source": []
  },
  {
   "cell_type": "code",
   "execution_count": null,
   "metadata": {},
   "outputs": [],
   "source": [
    "# the error is intentional, it saves you from re-downloading \n",
    "# and corrupting the corpus (1,000,000 comments video?)\n",
    "\n",
    "download('4Dk3jOSbz_0', limit=100)"
   ]
  },
  {
   "cell_type": "code",
   "execution_count": null,
   "metadata": {},
   "outputs": [],
   "source": [
    "# set force_download=True, to re-download the comments again.\n",
    "\n",
    "download('4Dk3jOSbz_0', limit=100, force_download=True)"
   ]
  },
  {
   "cell_type": "code",
   "execution_count": 2,
   "metadata": {},
   "outputs": [
    {
     "name": "stdout",
     "output_type": "stream",
     "text": [
      "<class 'david.pipeline._metric.TextMetrics'>\n",
      "RangeIndex: 100 entries, 0 to 99\n",
      "Data columns (total 4 columns):\n",
      "author    100 non-null object\n",
      "cid       100 non-null object\n",
      "text      100 non-null object\n",
      "time      100 non-null object\n",
      "dtypes: object(4)\n",
      "memory usage: 3.2+ KB\n"
     ]
    }
   ],
   "source": [
    "metric = TextMetrics('downloads/4Dk3jOSbz_0.json')\n",
    "metric.info()"
   ]
  },
  {
   "cell_type": "code",
   "execution_count": 3,
   "metadata": {},
   "outputs": [
    {
     "data": {
      "text/plain": [
       "RangeIndex(start=0, stop=100, step=1)"
      ]
     },
     "execution_count": 3,
     "metadata": {},
     "output_type": "execute_result"
    }
   ],
   "source": [
    "metric.index"
   ]
  },
  {
   "cell_type": "code",
   "execution_count": 3,
   "metadata": {},
   "outputs": [
    {
     "data": {
      "text/plain": [
       "0    2016 Election put business person  in govermen...\n",
       "1    I was so proud of my country the land of the A...\n",
       "2    From some news blasts I've seen some of Donald...\n",
       "3    Impeachment cannot come soon enough for the Li...\n",
       "4    What has become of America the great! You have...\n",
       "Name: text, dtype: object"
      ]
     },
     "execution_count": 3,
     "metadata": {},
     "output_type": "execute_result"
    }
   ],
   "source": [
    "metric.get_all_metrics(sentiment=True, gettags=True)\n",
    "metric['text'].head()"
   ]
  },
  {
   "cell_type": "markdown",
   "metadata": {},
   "source": [
    "### simple pipeline configuration:\n",
    "\n",
    "* *downloads the comments to a json file.*\n",
    "\n",
    "* *automatically loads the corpus to the TextMetrics instance with the `load_corpus=True` parameter.*\n",
    "\n",
    "> modules used for this pipeline.\n",
    "\n",
    "```python\n",
    "from david.youtube import scraper\n",
    "from david.pipeline import TextMetrics\n",
    "```\n",
    "___\n",
    "\n",
    "**Since the `TextMetrics` class inherits the `pandas.DataFrame` class, all the conventional methods are accessible right-away, without having to import pandas  itself (a common pattern when performing analysis).**"
   ]
  },
  {
   "cell_type": "code",
   "execution_count": 4,
   "metadata": {},
   "outputs": [
    {
     "name": "stdout",
     "output_type": "stream",
     "text": [
      "<class 'david.pipeline._metric.TextMetrics'>\n",
      "RangeIndex: 4252 entries, 0 to 4251\n",
      "Data columns (total 4 columns):\n",
      "author    4252 non-null object\n",
      "cid       4252 non-null object\n",
      "text      4252 non-null object\n",
      "time      4252 non-null object\n",
      "dtypes: object(4)\n",
      "memory usage: 133.0+ KB\n"
     ]
    }
   ],
   "source": [
    "metric2 = TextMetrics('downloads/BmYZH7xt8sU.json')\n",
    "metric2.info()"
   ]
  },
  {
   "cell_type": "code",
   "execution_count": 5,
   "metadata": {},
   "outputs": [
    {
     "data": {
      "text/html": [
       "<div>\n",
       "<style scoped>\n",
       "    .dataframe tbody tr th:only-of-type {\n",
       "        vertical-align: middle;\n",
       "    }\n",
       "\n",
       "    .dataframe tbody tr th {\n",
       "        vertical-align: top;\n",
       "    }\n",
       "\n",
       "    .dataframe thead th {\n",
       "        text-align: right;\n",
       "    }\n",
       "</style>\n",
       "<table border=\"1\" class=\"dataframe\">\n",
       "  <thead>\n",
       "    <tr style=\"text-align: right;\">\n",
       "      <th></th>\n",
       "      <th>author</th>\n",
       "      <th>cid</th>\n",
       "      <th>text</th>\n",
       "      <th>time</th>\n",
       "    </tr>\n",
       "  </thead>\n",
       "  <tbody>\n",
       "    <tr>\n",
       "      <th>0</th>\n",
       "      <td>PNW Ryan</td>\n",
       "      <td>UgzaG3oJa98fF6qi32h4AaABAg</td>\n",
       "      <td>I always forget to like the vid :( remind us!!!:P</td>\n",
       "      <td>25 minutes ago</td>\n",
       "    </tr>\n",
       "    <tr>\n",
       "      <th>1</th>\n",
       "      <td>Brian McDonald</td>\n",
       "      <td>Ugwgnpcp2e1D3mWMX2p4AaABAg</td>\n",
       "      <td>Looked like there was oil coming down left sid...</td>\n",
       "      <td>2 hours ago</td>\n",
       "    </tr>\n",
       "    <tr>\n",
       "      <th>2</th>\n",
       "      <td>Lewis Harvey</td>\n",
       "      <td>UgzpJXjwsyxTe1CLe4R4AaABAg</td>\n",
       "      <td>i like videos if its something really really f...</td>\n",
       "      <td>5 hours ago</td>\n",
       "    </tr>\n",
       "    <tr>\n",
       "      <th>3</th>\n",
       "      <td>skip rose</td>\n",
       "      <td>UgwBlsLv64UrNOcONz54AaABAg</td>\n",
       "      <td>Pos cable to small of guage causing currant su...</td>\n",
       "      <td>12 hours ago</td>\n",
       "    </tr>\n",
       "    <tr>\n",
       "      <th>4</th>\n",
       "      <td>Price Check On VagiClean</td>\n",
       "      <td>UgzjoHUlBJ8PDM_I3Gx4AaABAg</td>\n",
       "      <td>GT3RS: One of the best track cars ever made. Y...</td>\n",
       "      <td>12 hours ago</td>\n",
       "    </tr>\n",
       "  </tbody>\n",
       "</table>\n",
       "</div>"
      ],
      "text/plain": [
       "                     author                         cid  \\\n",
       "0                  PNW Ryan  UgzaG3oJa98fF6qi32h4AaABAg   \n",
       "1            Brian McDonald  Ugwgnpcp2e1D3mWMX2p4AaABAg   \n",
       "2              Lewis Harvey  UgzpJXjwsyxTe1CLe4R4AaABAg   \n",
       "3                 skip rose  UgwBlsLv64UrNOcONz54AaABAg   \n",
       "4  Price Check On VagiClean  UgzjoHUlBJ8PDM_I3Gx4AaABAg   \n",
       "\n",
       "                                                text            time  \n",
       "0  I always forget to like the vid :( remind us!!!:P  25 minutes ago  \n",
       "1  Looked like there was oil coming down left sid...     2 hours ago  \n",
       "2  i like videos if its something really really f...     5 hours ago  \n",
       "3  Pos cable to small of guage causing currant su...    12 hours ago  \n",
       "4  GT3RS: One of the best track cars ever made. Y...    12 hours ago  "
      ]
     },
     "execution_count": 5,
     "metadata": {},
     "output_type": "execute_result"
    }
   ],
   "source": [
    "metric2.head()"
   ]
  },
  {
   "cell_type": "code",
   "execution_count": 6,
   "metadata": {},
   "outputs": [
    {
     "data": {
      "text/plain": [
       "0    I always forget to like the vid :( remind us!!!:P\n",
       "1    Looked like there was oil coming down left sid...\n",
       "2    i like videos if its something really really f...\n",
       "3    Pos cable to small of guage causing currant su...\n",
       "4    GT3RS: One of the best track cars ever made. Y...\n",
       "Name: text, dtype: object"
      ]
     },
     "execution_count": 6,
     "metadata": {},
     "output_type": "execute_result"
    }
   ],
   "source": [
    "# this method runs all the methods for stats.\n",
    "# (it normalizes white spacing for better accuracy)\n",
    "\n",
    "metric2.get_all_metrics(sentiment=True, gettags=True)\n",
    "metric2['text'].head()"
   ]
  },
  {
   "cell_type": "code",
   "execution_count": 7,
   "metadata": {},
   "outputs": [
    {
     "data": {
      "text/html": [
       "<div>\n",
       "<style scoped>\n",
       "    .dataframe tbody tr th:only-of-type {\n",
       "        vertical-align: middle;\n",
       "    }\n",
       "\n",
       "    .dataframe tbody tr th {\n",
       "        vertical-align: top;\n",
       "    }\n",
       "\n",
       "    .dataframe thead th {\n",
       "        text-align: right;\n",
       "    }\n",
       "</style>\n",
       "<table border=\"1\" class=\"dataframe\">\n",
       "  <thead>\n",
       "    <tr style=\"text-align: right;\">\n",
       "      <th></th>\n",
       "      <th>stringLength</th>\n",
       "      <th>avgWordLength</th>\n",
       "      <th>isStopwordCount</th>\n",
       "      <th>noStopwordCount</th>\n",
       "      <th>charDigitCount</th>\n",
       "      <th>charUpperCount</th>\n",
       "      <th>charLowerCount</th>\n",
       "      <th>sentiPolarity</th>\n",
       "      <th>sentiSubjectivity</th>\n",
       "    </tr>\n",
       "  </thead>\n",
       "  <tbody>\n",
       "    <tr>\n",
       "      <th>count</th>\n",
       "      <td>4252.000000</td>\n",
       "      <td>4252.000000</td>\n",
       "      <td>4252.000000</td>\n",
       "      <td>4252.000000</td>\n",
       "      <td>4252.000000</td>\n",
       "      <td>4252.000000</td>\n",
       "      <td>4252.000000</td>\n",
       "      <td>4252.000000</td>\n",
       "      <td>4252.000000</td>\n",
       "    </tr>\n",
       "    <tr>\n",
       "      <th>mean</th>\n",
       "      <td>135.003998</td>\n",
       "      <td>4.739630</td>\n",
       "      <td>26.677328</td>\n",
       "      <td>14.556914</td>\n",
       "      <td>0.375118</td>\n",
       "      <td>3.729774</td>\n",
       "      <td>101.602305</td>\n",
       "      <td>0.152794</td>\n",
       "      <td>0.435873</td>\n",
       "    </tr>\n",
       "    <tr>\n",
       "      <th>std</th>\n",
       "      <td>153.628255</td>\n",
       "      <td>0.969159</td>\n",
       "      <td>29.328706</td>\n",
       "      <td>15.255229</td>\n",
       "      <td>1.159446</td>\n",
       "      <td>5.685900</td>\n",
       "      <td>116.379166</td>\n",
       "      <td>0.264156</td>\n",
       "      <td>0.303939</td>\n",
       "    </tr>\n",
       "    <tr>\n",
       "      <th>min</th>\n",
       "      <td>1.000000</td>\n",
       "      <td>0.000000</td>\n",
       "      <td>1.000000</td>\n",
       "      <td>0.000000</td>\n",
       "      <td>0.000000</td>\n",
       "      <td>0.000000</td>\n",
       "      <td>0.000000</td>\n",
       "      <td>-1.000000</td>\n",
       "      <td>0.000000</td>\n",
       "    </tr>\n",
       "    <tr>\n",
       "      <th>25%</th>\n",
       "      <td>51.000000</td>\n",
       "      <td>4.200000</td>\n",
       "      <td>10.000000</td>\n",
       "      <td>6.000000</td>\n",
       "      <td>0.000000</td>\n",
       "      <td>1.000000</td>\n",
       "      <td>38.000000</td>\n",
       "      <td>0.000000</td>\n",
       "      <td>0.125000</td>\n",
       "    </tr>\n",
       "    <tr>\n",
       "      <th>50%</th>\n",
       "      <td>95.000000</td>\n",
       "      <td>4.703203</td>\n",
       "      <td>19.000000</td>\n",
       "      <td>10.000000</td>\n",
       "      <td>0.000000</td>\n",
       "      <td>2.000000</td>\n",
       "      <td>72.000000</td>\n",
       "      <td>0.100000</td>\n",
       "      <td>0.500000</td>\n",
       "    </tr>\n",
       "    <tr>\n",
       "      <th>75%</th>\n",
       "      <td>170.000000</td>\n",
       "      <td>5.200000</td>\n",
       "      <td>34.000000</td>\n",
       "      <td>18.000000</td>\n",
       "      <td>0.000000</td>\n",
       "      <td>4.000000</td>\n",
       "      <td>128.000000</td>\n",
       "      <td>0.322247</td>\n",
       "      <td>0.650000</td>\n",
       "    </tr>\n",
       "    <tr>\n",
       "      <th>max</th>\n",
       "      <td>3240.000000</td>\n",
       "      <td>18.000000</td>\n",
       "      <td>592.000000</td>\n",
       "      <td>297.000000</td>\n",
       "      <td>18.000000</td>\n",
       "      <td>118.000000</td>\n",
       "      <td>2477.000000</td>\n",
       "      <td>1.000000</td>\n",
       "      <td>1.000000</td>\n",
       "    </tr>\n",
       "  </tbody>\n",
       "</table>\n",
       "</div>"
      ],
      "text/plain": [
       "       stringLength  avgWordLength  isStopwordCount  noStopwordCount  \\\n",
       "count   4252.000000    4252.000000      4252.000000      4252.000000   \n",
       "mean     135.003998       4.739630        26.677328        14.556914   \n",
       "std      153.628255       0.969159        29.328706        15.255229   \n",
       "min        1.000000       0.000000         1.000000         0.000000   \n",
       "25%       51.000000       4.200000        10.000000         6.000000   \n",
       "50%       95.000000       4.703203        19.000000        10.000000   \n",
       "75%      170.000000       5.200000        34.000000        18.000000   \n",
       "max     3240.000000      18.000000       592.000000       297.000000   \n",
       "\n",
       "       charDigitCount  charUpperCount  charLowerCount  sentiPolarity  \\\n",
       "count     4252.000000     4252.000000     4252.000000    4252.000000   \n",
       "mean         0.375118        3.729774      101.602305       0.152794   \n",
       "std          1.159446        5.685900      116.379166       0.264156   \n",
       "min          0.000000        0.000000        0.000000      -1.000000   \n",
       "25%          0.000000        1.000000       38.000000       0.000000   \n",
       "50%          0.000000        2.000000       72.000000       0.100000   \n",
       "75%          0.000000        4.000000      128.000000       0.322247   \n",
       "max         18.000000      118.000000     2477.000000       1.000000   \n",
       "\n",
       "       sentiSubjectivity  \n",
       "count        4252.000000  \n",
       "mean            0.435873  \n",
       "std             0.303939  \n",
       "min             0.000000  \n",
       "25%             0.125000  \n",
       "50%             0.500000  \n",
       "75%             0.650000  \n",
       "max             1.000000  "
      ]
     },
     "execution_count": 7,
     "metadata": {},
     "output_type": "execute_result"
    }
   ],
   "source": [
    "metric2.describe()"
   ]
  },
  {
   "cell_type": "code",
   "execution_count": 8,
   "metadata": {
    "scrolled": true
   },
   "outputs": [
    {
     "data": {
      "text/html": [
       "<div>\n",
       "<style scoped>\n",
       "    .dataframe tbody tr th:only-of-type {\n",
       "        vertical-align: middle;\n",
       "    }\n",
       "\n",
       "    .dataframe tbody tr th {\n",
       "        vertical-align: top;\n",
       "    }\n",
       "\n",
       "    .dataframe thead th {\n",
       "        text-align: right;\n",
       "    }\n",
       "</style>\n",
       "<table border=\"1\" class=\"dataframe\">\n",
       "  <thead>\n",
       "    <tr style=\"text-align: right;\">\n",
       "      <th></th>\n",
       "      <th>stringLength</th>\n",
       "      <th>avgWordLength</th>\n",
       "      <th>isStopwordCount</th>\n",
       "      <th>noStopwordCount</th>\n",
       "      <th>charDigitCount</th>\n",
       "      <th>charUpperCount</th>\n",
       "      <th>charLowerCount</th>\n",
       "      <th>sentiPolarity</th>\n",
       "      <th>sentiSubjectivity</th>\n",
       "    </tr>\n",
       "  </thead>\n",
       "  <tbody>\n",
       "    <tr>\n",
       "      <th>count</th>\n",
       "      <td>3984.000000</td>\n",
       "      <td>3984.000000</td>\n",
       "      <td>3984.000000</td>\n",
       "      <td>3984.000000</td>\n",
       "      <td>3984.000000</td>\n",
       "      <td>3984.000000</td>\n",
       "      <td>3984.000000</td>\n",
       "      <td>3984.000000</td>\n",
       "      <td>3984.000000</td>\n",
       "    </tr>\n",
       "    <tr>\n",
       "      <th>mean</th>\n",
       "      <td>143.263805</td>\n",
       "      <td>4.759653</td>\n",
       "      <td>28.295432</td>\n",
       "      <td>15.395331</td>\n",
       "      <td>0.389809</td>\n",
       "      <td>3.903614</td>\n",
       "      <td>107.848645</td>\n",
       "      <td>0.156686</td>\n",
       "      <td>0.452224</td>\n",
       "    </tr>\n",
       "    <tr>\n",
       "      <th>std</th>\n",
       "      <td>155.257378</td>\n",
       "      <td>0.850154</td>\n",
       "      <td>29.603868</td>\n",
       "      <td>15.399821</td>\n",
       "      <td>1.183579</td>\n",
       "      <td>5.820673</td>\n",
       "      <td>117.621503</td>\n",
       "      <td>0.263989</td>\n",
       "      <td>0.297304</td>\n",
       "    </tr>\n",
       "    <tr>\n",
       "      <th>min</th>\n",
       "      <td>21.000000</td>\n",
       "      <td>1.666667</td>\n",
       "      <td>3.000000</td>\n",
       "      <td>1.000000</td>\n",
       "      <td>0.000000</td>\n",
       "      <td>0.000000</td>\n",
       "      <td>0.000000</td>\n",
       "      <td>-1.000000</td>\n",
       "      <td>0.000000</td>\n",
       "    </tr>\n",
       "    <tr>\n",
       "      <th>25%</th>\n",
       "      <td>58.000000</td>\n",
       "      <td>4.250000</td>\n",
       "      <td>12.000000</td>\n",
       "      <td>7.000000</td>\n",
       "      <td>0.000000</td>\n",
       "      <td>1.000000</td>\n",
       "      <td>43.000000</td>\n",
       "      <td>0.000000</td>\n",
       "      <td>0.216667</td>\n",
       "    </tr>\n",
       "    <tr>\n",
       "      <th>50%</th>\n",
       "      <td>102.000000</td>\n",
       "      <td>4.740370</td>\n",
       "      <td>20.000000</td>\n",
       "      <td>11.000000</td>\n",
       "      <td>0.000000</td>\n",
       "      <td>2.000000</td>\n",
       "      <td>77.000000</td>\n",
       "      <td>0.118490</td>\n",
       "      <td>0.500000</td>\n",
       "    </tr>\n",
       "    <tr>\n",
       "      <th>75%</th>\n",
       "      <td>177.000000</td>\n",
       "      <td>5.214286</td>\n",
       "      <td>35.000000</td>\n",
       "      <td>19.000000</td>\n",
       "      <td>0.000000</td>\n",
       "      <td>5.000000</td>\n",
       "      <td>133.000000</td>\n",
       "      <td>0.332708</td>\n",
       "      <td>0.650000</td>\n",
       "    </tr>\n",
       "    <tr>\n",
       "      <th>max</th>\n",
       "      <td>3240.000000</td>\n",
       "      <td>18.000000</td>\n",
       "      <td>592.000000</td>\n",
       "      <td>297.000000</td>\n",
       "      <td>18.000000</td>\n",
       "      <td>118.000000</td>\n",
       "      <td>2477.000000</td>\n",
       "      <td>1.000000</td>\n",
       "      <td>1.000000</td>\n",
       "    </tr>\n",
       "  </tbody>\n",
       "</table>\n",
       "</div>"
      ],
      "text/plain": [
       "       stringLength  avgWordLength  isStopwordCount  noStopwordCount  \\\n",
       "count   3984.000000    3984.000000      3984.000000      3984.000000   \n",
       "mean     143.263805       4.759653        28.295432        15.395331   \n",
       "std      155.257378       0.850154        29.603868        15.399821   \n",
       "min       21.000000       1.666667         3.000000         1.000000   \n",
       "25%       58.000000       4.250000        12.000000         7.000000   \n",
       "50%      102.000000       4.740370        20.000000        11.000000   \n",
       "75%      177.000000       5.214286        35.000000        19.000000   \n",
       "max     3240.000000      18.000000       592.000000       297.000000   \n",
       "\n",
       "       charDigitCount  charUpperCount  charLowerCount  sentiPolarity  \\\n",
       "count     3984.000000     3984.000000     3984.000000    3984.000000   \n",
       "mean         0.389809        3.903614      107.848645       0.156686   \n",
       "std          1.183579        5.820673      117.621503       0.263989   \n",
       "min          0.000000        0.000000        0.000000      -1.000000   \n",
       "25%          0.000000        1.000000       43.000000       0.000000   \n",
       "50%          0.000000        2.000000       77.000000       0.118490   \n",
       "75%          0.000000        5.000000      133.000000       0.332708   \n",
       "max         18.000000      118.000000     2477.000000       1.000000   \n",
       "\n",
       "       sentiSubjectivity  \n",
       "count        3984.000000  \n",
       "mean            0.452224  \n",
       "std             0.297304  \n",
       "min             0.000000  \n",
       "25%             0.216667  \n",
       "50%             0.500000  \n",
       "75%             0.650000  \n",
       "max             1.000000  "
      ]
     },
     "execution_count": 8,
     "metadata": {},
     "output_type": "execute_result"
    }
   ],
   "source": [
    "# the slicing the method must return it to a new pointer (variable)\n",
    "# just in case you did't like the results :)\n",
    "\n",
    "sliced_metric2 = metric2.slice_dataframe(by_setvalue=20)\n",
    "sliced_metric2.describe()"
   ]
  },
  {
   "cell_type": "code",
   "execution_count": 72,
   "metadata": {},
   "outputs": [
    {
     "data": {
      "text/plain": [
       "'Features(corpus_cols, words, chars, sentiment, tags, all_metrics, all_text)'"
      ]
     },
     "execution_count": 72,
     "metadata": {},
     "output_type": "execute_result"
    }
   ],
   "source": [
    "from david.utils import pointer\n",
    "\n",
    "cols = sliced_metric2.columns\n",
    "features = {\n",
    "    'corpus_cols': cols[:4],\n",
    "    'words': cols[4:8],\n",
    "    'chars': cols[8:11],\n",
    "    'sentiment': cols[11:14],\n",
    "    'tags': cols[14:],\n",
    "    'all_metrics': cols[4:18],\n",
    "    'all_text': cols[4:11]\n",
    "}\n",
    "\n",
    "Features = pointer('Features', features)\n",
    "Features.__doc__"
   ]
  },
  {
   "cell_type": "code",
   "execution_count": 84,
   "metadata": {},
   "outputs": [
    {
     "data": {
      "text/plain": [
       "stringLength       143.263805\n",
       "avgWordLength        4.759653\n",
       "isStopwordCount     28.295432\n",
       "noStopwordCount     15.395331\n",
       "dtype: float64"
      ]
     },
     "execution_count": 84,
     "metadata": {},
     "output_type": "execute_result"
    }
   ],
   "source": [
    "sliced_metric2[Features.words].mean()"
   ]
  },
  {
   "cell_type": "code",
   "execution_count": 85,
   "metadata": {},
   "outputs": [
    {
     "data": {
      "text/plain": [
       "sentiPolarity        0.263989\n",
       "sentiSubjectivity    0.297304\n",
       "dtype: float64"
      ]
     },
     "execution_count": 85,
     "metadata": {},
     "output_type": "execute_result"
    }
   ],
   "source": [
    "sliced_metric2[Features.sentiment].std()"
   ]
  },
  {
   "cell_type": "code",
   "execution_count": 13,
   "metadata": {},
   "outputs": [
    {
     "name": "stdout",
     "output_type": "stream",
     "text": [
      "['' '😂😂' '👌' '👍' '😅' '😂' '🤣🤣🤣' '😩' '🤣' '🤷♂' '🤗' '😒' '😎' '\\U0001f9d0💪👍😂'\n",
      " '👏🤔' '👊😁' '\\U0001f92f👍' '🤙' '😍👍' '😀' '😉' '🏁🏁👍👍👍' '👍😈' '🤧' '🤷♂🤷♂' '👌✌'\n",
      " '😅😂' '👍👍👍' '😆' '👌👍' '😁😁😉' '❤' '😂😂😂' '🤷♀' '💪' '😬😬😬' '😭😭😂😂😂' '😂💯👍🤘' '💪👌'\n",
      " '🔥' '😍' '🙌' '😄😉' '🙄' '😅😅👌' '😁👍' '🤘👊' '🤞🤣' '😂😉😂😂' '👍✌' '👌😅' '😆😁' '😭😭😢❤'\n",
      " '💦🤣' '🙏' '👍👍🤜🤛😎🔰🔰🔰💪' '🙋♂' '😂😂😂😂' '😜' '💁♀😁' '😁' '👍😊' '😛' '😘' '❤❤' '😆😆😆😆😆'\n",
      " '👍👍👍🤘' '🤦♂' '♥' '🤙🤙🤙' '🤣🤣' '😂🤙👌' '🤷♂😅' '💯' '👍😂' '☺' '🤘' '👀' '🤔✊' '🙃🙃🙃🙃'\n",
      " '😑' '🤔' '🤣🤙' '👊' '💪💪✌🤙🤘💪' '✌' '🙂' '😉😘' '💀🤷♂' '😏' '😥😥😥😥😥' '👍👍👍👍👍👍👍👍👍👍'\n",
      " '👍👍' '😹😹😹' '😂😆' '😄😂' '😥' '🤣👍' '💪💪😎😎' '👍😆' '\\U0001f91f' '🤘🤠' '🤣👍👍' '💕'\n",
      " '😎👍\\U0001f91f' '👍😉' '😊' '😇' '👌😂🤣' '🤦♂😂' '👍👍👍👍👍👍👍👍👍👍👍👍👍👍👍' '😼' '😂😁👍' '🤘😁'\n",
      " '🔥🔥🔥💪💯❤' '🏎' '🐶' '👍👍👍👍👍' '🙌🙌' '😎😉🤔✊😘' '🤙🤙😉' '😉😂👌' '😉😉' '✌👍' '😂👍👍👍👍👍👍👍👍😎'\n",
      " '✋' '😍😍😍' '🙃' '💪💪' '💙' '❤🏴' '👌😎' '😍😂😂😂😂😂' '😢' '😭😭😭' '😁😁😁' '💪👌🤜🤛' '🔰' '😏👍'\n",
      " '😁👌👍' '😁😁' '🤷♂👍' '👋🔥' '🖤' '👏' '❤😊' '🤘🤙' '😍😍' '😤' '🤷♂🤦♂' '😂🔥' '❤🙏']\n",
      "\n",
      "count     3984\n",
      "unique     152\n",
      "top           \n",
      "freq      3614\n",
      "Name: authorEmoji, dtype: object\n"
     ]
    }
   ],
   "source": [
    "# youtube features:\n",
    "emojis_found = sliced_metric2['authorEmoji']\n",
    "\n",
    "print(f'{ emojis_found.unique() }\\n\\n{ emojis_found.describe() }')"
   ]
  },
  {
   "cell_type": "code",
   "execution_count": 14,
   "metadata": {},
   "outputs": [
    {
     "data": {
      "text/plain": [
       "count         3984\n",
       "unique           3\n",
       "top       positive\n",
       "freq          2372\n",
       "Name: sentimentLabel, dtype: object"
      ]
     },
     "execution_count": 14,
     "metadata": {},
     "output_type": "execute_result"
    }
   ],
   "source": [
    "sliced_metric2.sentimentLabel.describe()"
   ]
  },
  {
   "cell_type": "code",
   "execution_count": 15,
   "metadata": {},
   "outputs": [
    {
     "data": {
      "text/plain": [
       "'downloads/BmYZH7xt8sU.json'"
      ]
     },
     "execution_count": 15,
     "metadata": {},
     "output_type": "execute_result"
    }
   ],
   "source": [
    "# for simplicity the path is saved under JSON_PATH\n",
    "\n",
    "metric2.JSON_PATH"
   ]
  },
  {
   "cell_type": "code",
   "execution_count": 16,
   "metadata": {},
   "outputs": [
    {
     "name": "stdout",
     "output_type": "stream",
     "text": [
      "<class 'david.pipeline._prep.TextPreprocess'>\n",
      "RangeIndex: 4252 entries, 0 to 4251\n",
      "Data columns (total 4 columns):\n",
      "author    4252 non-null object\n",
      "cid       4252 non-null object\n",
      "text      4252 non-null object\n",
      "time      4252 non-null object\n",
      "dtypes: object(4)\n",
      "memory usage: 133.0+ KB\n"
     ]
    }
   ],
   "source": [
    "# so we can just use it like this and keep track of the dataset\n",
    "# we are working on. without saving, loading, back and forward.\n",
    "\n",
    "prep = TextPreprocess(metric2.JSON_PATH)\n",
    "prep.info()"
   ]
  },
  {
   "cell_type": "code",
   "execution_count": 17,
   "metadata": {},
   "outputs": [
    {
     "name": "stdout",
     "output_type": "stream",
     "text": [
      "( 'funcprep' ) took: 2000.11 ms\n"
     ]
    }
   ],
   "source": [
    "from david.pipeline.utils import timeit\n",
    "# theres is also some utility tools for testing\n",
    "\n",
    "@timeit\n",
    "def funcprep():\n",
    "    # these paramaters are always set to false\n",
    "    prep.clean_all_text(lemmatize=False, lower_text=False)\n",
    "funcprep()"
   ]
  },
  {
   "cell_type": "code",
   "execution_count": 20,
   "metadata": {},
   "outputs": [
    {
     "data": {
      "text/plain": [
       "0          I always forget to like the vid remind us P\n",
       "1    Looked like there was oil coming down left sid...\n",
       "2    i like videos if its something really fuckin cool\n",
       "3    Pos cable to small of guage causing currant surge\n",
       "4    GT RS One of the best track cars ever made Yet...\n",
       "5    I try and like every video I watch but sometim...\n",
       "6    I literally like every video right after I cli...\n",
       "7          I like for the mustache Adam got to love it\n",
       "8    I like videos of content creators I truly supp...\n",
       "9    There are certain channels I follow that get a...\n",
       "Name: text, dtype: object"
      ]
     },
     "execution_count": 20,
     "metadata": {},
     "output_type": "execute_result"
    }
   ],
   "source": [
    "# after preprocessing\n",
    "prep.text.head(10)"
   ]
  },
  {
   "cell_type": "code",
   "execution_count": 21,
   "metadata": {},
   "outputs": [
    {
     "data": {
      "text/plain": [
       "0    I always forget to like the vid :( remind us!!!:P\n",
       "1    Looked like there was oil coming down left sid...\n",
       "2    i like videos if its something really really f...\n",
       "3    Pos cable to small of guage causing currant su...\n",
       "4    GT3RS: One of the best track cars ever made. Y...\n",
       "5    I try and like every video I watch but sometim...\n",
       "6    I literally like every video right after I cli...\n",
       "7        I like for the mustache Adam gotta love it 😂😂\n",
       "8    I like videos of content creators I truly supp...\n",
       "9    There are certain channels I follow that get a...\n",
       "Name: text, dtype: object"
      ]
     },
     "execution_count": 21,
     "metadata": {},
     "output_type": "execute_result"
    }
   ],
   "source": [
    "# before preprocessing, also notice how we are not loading and saving... life is easy :)\n",
    "metric2.text.head(10)"
   ]
  },
  {
   "cell_type": "markdown",
   "metadata": {},
   "source": [
    "> closer look at the results:\n",
    "\n",
    "* before: 7 - I like for the mustache Adam `got to love it`\n",
    "\n",
    "* after: 7 - I like for the mustache Adam `gotta love it` 😂😂"
   ]
  },
  {
   "cell_type": "code",
   "execution_count": 23,
   "metadata": {},
   "outputs": [
    {
     "data": {
      "text/plain": [
       "authorTimeTag      21\n",
       "authorUrlLink       3\n",
       "authorHashTag      17\n",
       "authorEmoji      4252\n",
       "dtype: int64"
      ]
     },
     "execution_count": 23,
     "metadata": {},
     "output_type": "execute_result"
    }
   ],
   "source": [
    "metric2[Features.tags].count()"
   ]
  },
  {
   "cell_type": "code",
   "execution_count": 62,
   "metadata": {},
   "outputs": [
    {
     "data": {
      "text/plain": [
       "array([nan, '12:40', '7:07', '12:30', '2:14', '8:03', '10:14', '12:42',\n",
       "       '7:48', '10:24', '6:57', '12:28', '11:44', '9:22', '3:35', '10:30',\n",
       "       '2:43', '2:25', '1:05', '3:36', '10:10'], dtype=object)"
      ]
     },
     "execution_count": 62,
     "metadata": {},
     "output_type": "execute_result"
    }
   ],
   "source": [
    "metric2['authorTimeTag'].unique()"
   ]
  },
  {
   "cell_type": "code",
   "execution_count": 70,
   "metadata": {},
   "outputs": [
    {
     "name": "stdout",
     "output_type": "stream",
     "text": [
      "nan\n",
      "https://www.youtube.com/watch?v=PmShNvBroiQ&t\n",
      "https://www.youtube.com/watch?v=eHsShmm08c4\n",
      "https://www.youtube.com/watch?v=2LUjtPyYiVM\n"
     ]
    }
   ],
   "source": [
    "for url in metric2.authorUrlLink.unique(): print(url)"
   ]
  },
  {
   "cell_type": "code",
   "execution_count": 86,
   "metadata": {},
   "outputs": [
    {
     "data": {
      "text/plain": [
       "array([nan, '#remindthestonerstolikethevideos', '#spillthebeans',\n",
       "       '#LZSpec', '#justmytwocents', '#giveadamlikes', '#1', '#nohomo',\n",
       "       '#boobsforlikes', '#yearoftheflex', '#Brag', '#mexico', '#2',\n",
       "       '#LikeFlex2019', '#family', '#reallifeproblems', '#ADAMLZ'],\n",
       "      dtype=object)"
      ]
     },
     "execution_count": 86,
     "metadata": {},
     "output_type": "execute_result"
    }
   ],
   "source": [
    "metric2['authorHashTag'].unique()"
   ]
  },
  {
   "cell_type": "code",
   "execution_count": null,
   "metadata": {},
   "outputs": [],
   "source": []
  }
 ],
 "metadata": {
  "kernelspec": {
   "display_name": "Python 3",
   "language": "python",
   "name": "python3"
  },
  "language_info": {
   "codemirror_mode": {
    "name": "ipython",
    "version": 3
   },
   "file_extension": ".py",
   "mimetype": "text/x-python",
   "name": "python",
   "nbconvert_exporter": "python",
   "pygments_lexer": "ipython3",
   "version": "3.6.7"
  }
 },
 "nbformat": 4,
 "nbformat_minor": 2
}
