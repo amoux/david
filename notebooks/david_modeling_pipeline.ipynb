{
 "cells": [
  {
   "cell_type": "code",
   "execution_count": 1,
   "metadata": {},
   "outputs": [],
   "source": [
    "import sys\n",
    "sys.path.append('/home/ego/Github/david/')\n",
    "\n",
    "from david.pipeline import TextPipeline\n",
    "from david.models import ngrams, lda\n",
    "from david.visualizers.words import build_wordcloud\n",
    "\n",
    "from gensim import corpora\n",
    "from gensim.models.ldamodel import LdaModel"
   ]
  },
  {
   "cell_type": "code",
   "execution_count": 2,
   "metadata": {},
   "outputs": [
    {
     "name": "stdout",
     "output_type": "stream",
     "text": [
      "<class 'david.pipeline.TextPipeline'>\n",
      "RangeIndex: 4252 entries, 0 to 4251\n",
      "Data columns (total 4 columns):\n",
      "author    4252 non-null object\n",
      "cid       4252 non-null object\n",
      "text      4252 non-null object\n",
      "time      4252 non-null object\n",
      "dtypes: object(4)\n",
      "memory usage: 133.0+ KB\n"
     ]
    }
   ],
   "source": [
    "JSONFILE = 'downloads/BmYZH7xt8sU.json'\n",
    "tp = TextPipeline(JSONFILE)\n",
    "tp.info()"
   ]
  },
  {
   "cell_type": "code",
   "execution_count": 3,
   "metadata": {},
   "outputs": [
    {
     "data": {
      "text/html": [
       "<div>\n",
       "<style scoped>\n",
       "    .dataframe tbody tr th:only-of-type {\n",
       "        vertical-align: middle;\n",
       "    }\n",
       "\n",
       "    .dataframe tbody tr th {\n",
       "        vertical-align: top;\n",
       "    }\n",
       "\n",
       "    .dataframe thead th {\n",
       "        text-align: right;\n",
       "    }\n",
       "</style>\n",
       "<table border=\"1\" class=\"dataframe\">\n",
       "  <thead>\n",
       "    <tr style=\"text-align: right;\">\n",
       "      <th></th>\n",
       "      <th>stringLength</th>\n",
       "      <th>avgWordLength</th>\n",
       "      <th>isStopwordCount</th>\n",
       "      <th>noStopwordCount</th>\n",
       "      <th>charDigitCount</th>\n",
       "      <th>charUpperCount</th>\n",
       "      <th>charLowerCount</th>\n",
       "      <th>sentiPolarity</th>\n",
       "      <th>sentiSubjectivity</th>\n",
       "    </tr>\n",
       "  </thead>\n",
       "  <tbody>\n",
       "    <tr>\n",
       "      <th>count</th>\n",
       "      <td>4252.000000</td>\n",
       "      <td>4252.000000</td>\n",
       "      <td>4252.000000</td>\n",
       "      <td>4252.000000</td>\n",
       "      <td>4252.000000</td>\n",
       "      <td>4252.000000</td>\n",
       "      <td>4252.000000</td>\n",
       "      <td>4252.000000</td>\n",
       "      <td>4252.000000</td>\n",
       "    </tr>\n",
       "    <tr>\n",
       "      <th>mean</th>\n",
       "      <td>135.003998</td>\n",
       "      <td>4.739630</td>\n",
       "      <td>26.677328</td>\n",
       "      <td>14.556914</td>\n",
       "      <td>0.375118</td>\n",
       "      <td>3.729774</td>\n",
       "      <td>101.602305</td>\n",
       "      <td>0.152794</td>\n",
       "      <td>0.435873</td>\n",
       "    </tr>\n",
       "    <tr>\n",
       "      <th>std</th>\n",
       "      <td>153.628255</td>\n",
       "      <td>0.969159</td>\n",
       "      <td>29.328706</td>\n",
       "      <td>15.255229</td>\n",
       "      <td>1.159446</td>\n",
       "      <td>5.685900</td>\n",
       "      <td>116.379166</td>\n",
       "      <td>0.264156</td>\n",
       "      <td>0.303939</td>\n",
       "    </tr>\n",
       "    <tr>\n",
       "      <th>min</th>\n",
       "      <td>1.000000</td>\n",
       "      <td>0.000000</td>\n",
       "      <td>1.000000</td>\n",
       "      <td>0.000000</td>\n",
       "      <td>0.000000</td>\n",
       "      <td>0.000000</td>\n",
       "      <td>0.000000</td>\n",
       "      <td>-1.000000</td>\n",
       "      <td>0.000000</td>\n",
       "    </tr>\n",
       "    <tr>\n",
       "      <th>25%</th>\n",
       "      <td>51.000000</td>\n",
       "      <td>4.200000</td>\n",
       "      <td>10.000000</td>\n",
       "      <td>6.000000</td>\n",
       "      <td>0.000000</td>\n",
       "      <td>1.000000</td>\n",
       "      <td>38.000000</td>\n",
       "      <td>0.000000</td>\n",
       "      <td>0.125000</td>\n",
       "    </tr>\n",
       "    <tr>\n",
       "      <th>50%</th>\n",
       "      <td>95.000000</td>\n",
       "      <td>4.703203</td>\n",
       "      <td>19.000000</td>\n",
       "      <td>10.000000</td>\n",
       "      <td>0.000000</td>\n",
       "      <td>2.000000</td>\n",
       "      <td>72.000000</td>\n",
       "      <td>0.100000</td>\n",
       "      <td>0.500000</td>\n",
       "    </tr>\n",
       "    <tr>\n",
       "      <th>75%</th>\n",
       "      <td>170.000000</td>\n",
       "      <td>5.200000</td>\n",
       "      <td>34.000000</td>\n",
       "      <td>18.000000</td>\n",
       "      <td>0.000000</td>\n",
       "      <td>4.000000</td>\n",
       "      <td>128.000000</td>\n",
       "      <td>0.322247</td>\n",
       "      <td>0.650000</td>\n",
       "    </tr>\n",
       "    <tr>\n",
       "      <th>max</th>\n",
       "      <td>3240.000000</td>\n",
       "      <td>18.000000</td>\n",
       "      <td>592.000000</td>\n",
       "      <td>297.000000</td>\n",
       "      <td>18.000000</td>\n",
       "      <td>118.000000</td>\n",
       "      <td>2477.000000</td>\n",
       "      <td>1.000000</td>\n",
       "      <td>1.000000</td>\n",
       "    </tr>\n",
       "  </tbody>\n",
       "</table>\n",
       "</div>"
      ],
      "text/plain": [
       "       stringLength  avgWordLength  isStopwordCount  noStopwordCount  \\\n",
       "count   4252.000000    4252.000000      4252.000000      4252.000000   \n",
       "mean     135.003998       4.739630        26.677328        14.556914   \n",
       "std      153.628255       0.969159        29.328706        15.255229   \n",
       "min        1.000000       0.000000         1.000000         0.000000   \n",
       "25%       51.000000       4.200000        10.000000         6.000000   \n",
       "50%       95.000000       4.703203        19.000000        10.000000   \n",
       "75%      170.000000       5.200000        34.000000        18.000000   \n",
       "max     3240.000000      18.000000       592.000000       297.000000   \n",
       "\n",
       "       charDigitCount  charUpperCount  charLowerCount  sentiPolarity  \\\n",
       "count     4252.000000     4252.000000     4252.000000    4252.000000   \n",
       "mean         0.375118        3.729774      101.602305       0.152794   \n",
       "std          1.159446        5.685900      116.379166       0.264156   \n",
       "min          0.000000        0.000000        0.000000      -1.000000   \n",
       "25%          0.000000        1.000000       38.000000       0.000000   \n",
       "50%          0.000000        2.000000       72.000000       0.100000   \n",
       "75%          0.000000        4.000000      128.000000       0.322247   \n",
       "max         18.000000      118.000000     2477.000000       1.000000   \n",
       "\n",
       "       sentiSubjectivity  \n",
       "count        4252.000000  \n",
       "mean            0.435873  \n",
       "std             0.303939  \n",
       "min             0.000000  \n",
       "25%             0.125000  \n",
       "50%             0.500000  \n",
       "75%             0.650000  \n",
       "max             1.000000  "
      ]
     },
     "execution_count": 3,
     "metadata": {},
     "output_type": "execute_result"
    }
   ],
   "source": [
    "tp.get_all_metrics(sentiment=True, tags=True)\n",
    "tp.describe()"
   ]
  },
  {
   "cell_type": "code",
   "execution_count": 4,
   "metadata": {},
   "outputs": [
    {
     "data": {
      "text/html": [
       "<div>\n",
       "<style scoped>\n",
       "    .dataframe tbody tr th:only-of-type {\n",
       "        vertical-align: middle;\n",
       "    }\n",
       "\n",
       "    .dataframe tbody tr th {\n",
       "        vertical-align: top;\n",
       "    }\n",
       "\n",
       "    .dataframe thead th {\n",
       "        text-align: right;\n",
       "    }\n",
       "</style>\n",
       "<table border=\"1\" class=\"dataframe\">\n",
       "  <thead>\n",
       "    <tr style=\"text-align: right;\">\n",
       "      <th></th>\n",
       "      <th>stringLength</th>\n",
       "      <th>avgWordLength</th>\n",
       "      <th>isStopwordCount</th>\n",
       "      <th>noStopwordCount</th>\n",
       "      <th>charDigitCount</th>\n",
       "      <th>charUpperCount</th>\n",
       "      <th>charLowerCount</th>\n",
       "      <th>sentiPolarity</th>\n",
       "      <th>sentiSubjectivity</th>\n",
       "    </tr>\n",
       "  </thead>\n",
       "  <tbody>\n",
       "    <tr>\n",
       "      <th>count</th>\n",
       "      <td>4148.000000</td>\n",
       "      <td>4148.000000</td>\n",
       "      <td>4148.000000</td>\n",
       "      <td>4148.000000</td>\n",
       "      <td>4148.000000</td>\n",
       "      <td>4148.000000</td>\n",
       "      <td>4148.000000</td>\n",
       "      <td>4148.000000</td>\n",
       "      <td>4148.000000</td>\n",
       "    </tr>\n",
       "    <tr>\n",
       "      <th>mean</th>\n",
       "      <td>138.241080</td>\n",
       "      <td>4.755161</td>\n",
       "      <td>27.311475</td>\n",
       "      <td>14.891273</td>\n",
       "      <td>0.382835</td>\n",
       "      <td>3.803279</td>\n",
       "      <td>104.042671</td>\n",
       "      <td>0.154561</td>\n",
       "      <td>0.442759</td>\n",
       "    </tr>\n",
       "    <tr>\n",
       "      <th>std</th>\n",
       "      <td>154.158529</td>\n",
       "      <td>0.935937</td>\n",
       "      <td>29.415853</td>\n",
       "      <td>15.296428</td>\n",
       "      <td>1.171980</td>\n",
       "      <td>5.736339</td>\n",
       "      <td>116.790765</td>\n",
       "      <td>0.265140</td>\n",
       "      <td>0.301906</td>\n",
       "    </tr>\n",
       "    <tr>\n",
       "      <th>min</th>\n",
       "      <td>11.000000</td>\n",
       "      <td>1.500000</td>\n",
       "      <td>1.000000</td>\n",
       "      <td>1.000000</td>\n",
       "      <td>0.000000</td>\n",
       "      <td>0.000000</td>\n",
       "      <td>0.000000</td>\n",
       "      <td>-1.000000</td>\n",
       "      <td>0.000000</td>\n",
       "    </tr>\n",
       "    <tr>\n",
       "      <th>25%</th>\n",
       "      <td>54.000000</td>\n",
       "      <td>4.222222</td>\n",
       "      <td>11.000000</td>\n",
       "      <td>6.000000</td>\n",
       "      <td>0.000000</td>\n",
       "      <td>1.000000</td>\n",
       "      <td>40.000000</td>\n",
       "      <td>0.000000</td>\n",
       "      <td>0.200000</td>\n",
       "    </tr>\n",
       "    <tr>\n",
       "      <th>50%</th>\n",
       "      <td>98.000000</td>\n",
       "      <td>4.721576</td>\n",
       "      <td>20.000000</td>\n",
       "      <td>11.000000</td>\n",
       "      <td>0.000000</td>\n",
       "      <td>2.000000</td>\n",
       "      <td>74.000000</td>\n",
       "      <td>0.107143</td>\n",
       "      <td>0.500000</td>\n",
       "    </tr>\n",
       "    <tr>\n",
       "      <th>75%</th>\n",
       "      <td>173.000000</td>\n",
       "      <td>5.200000</td>\n",
       "      <td>34.000000</td>\n",
       "      <td>18.000000</td>\n",
       "      <td>0.000000</td>\n",
       "      <td>5.000000</td>\n",
       "      <td>130.000000</td>\n",
       "      <td>0.325000</td>\n",
       "      <td>0.650000</td>\n",
       "    </tr>\n",
       "    <tr>\n",
       "      <th>max</th>\n",
       "      <td>3240.000000</td>\n",
       "      <td>18.000000</td>\n",
       "      <td>592.000000</td>\n",
       "      <td>297.000000</td>\n",
       "      <td>18.000000</td>\n",
       "      <td>118.000000</td>\n",
       "      <td>2477.000000</td>\n",
       "      <td>1.000000</td>\n",
       "      <td>1.000000</td>\n",
       "    </tr>\n",
       "  </tbody>\n",
       "</table>\n",
       "</div>"
      ],
      "text/plain": [
       "       stringLength  avgWordLength  isStopwordCount  noStopwordCount  \\\n",
       "count   4148.000000    4148.000000      4148.000000      4148.000000   \n",
       "mean     138.241080       4.755161        27.311475        14.891273   \n",
       "std      154.158529       0.935937        29.415853        15.296428   \n",
       "min       11.000000       1.500000         1.000000         1.000000   \n",
       "25%       54.000000       4.222222        11.000000         6.000000   \n",
       "50%       98.000000       4.721576        20.000000        11.000000   \n",
       "75%      173.000000       5.200000        34.000000        18.000000   \n",
       "max     3240.000000      18.000000       592.000000       297.000000   \n",
       "\n",
       "       charDigitCount  charUpperCount  charLowerCount  sentiPolarity  \\\n",
       "count     4148.000000     4148.000000     4148.000000    4148.000000   \n",
       "mean         0.382835        3.803279      104.042671       0.154561   \n",
       "std          1.171980        5.736339      116.790765       0.265140   \n",
       "min          0.000000        0.000000        0.000000      -1.000000   \n",
       "25%          0.000000        1.000000       40.000000       0.000000   \n",
       "50%          0.000000        2.000000       74.000000       0.107143   \n",
       "75%          0.000000        5.000000      130.000000       0.325000   \n",
       "max         18.000000      118.000000     2477.000000       1.000000   \n",
       "\n",
       "       sentiSubjectivity  \n",
       "count        4148.000000  \n",
       "mean            0.442759  \n",
       "std             0.301906  \n",
       "min             0.000000  \n",
       "25%             0.200000  \n",
       "50%             0.500000  \n",
       "75%             0.650000  \n",
       "max             1.000000  "
      ]
     },
     "execution_count": 4,
     "metadata": {},
     "output_type": "execute_result"
    }
   ],
   "source": [
    "tp2 = tp.slice_dataframe(by_min_value=10)\n",
    "tp2.describe()"
   ]
  },
  {
   "cell_type": "code",
   "execution_count": 5,
   "metadata": {},
   "outputs": [
    {
     "data": {
      "text/html": [
       "<div>\n",
       "<style scoped>\n",
       "    .dataframe tbody tr th:only-of-type {\n",
       "        vertical-align: middle;\n",
       "    }\n",
       "\n",
       "    .dataframe tbody tr th {\n",
       "        vertical-align: top;\n",
       "    }\n",
       "\n",
       "    .dataframe thead th {\n",
       "        text-align: right;\n",
       "    }\n",
       "</style>\n",
       "<table border=\"1\" class=\"dataframe\">\n",
       "  <thead>\n",
       "    <tr style=\"text-align: right;\">\n",
       "      <th></th>\n",
       "      <th>stringLength</th>\n",
       "      <th>avgWordLength</th>\n",
       "      <th>isStopwordCount</th>\n",
       "      <th>noStopwordCount</th>\n",
       "      <th>charDigitCount</th>\n",
       "      <th>charUpperCount</th>\n",
       "      <th>charLowerCount</th>\n",
       "      <th>sentiPolarity</th>\n",
       "      <th>sentiSubjectivity</th>\n",
       "    </tr>\n",
       "  </thead>\n",
       "  <tbody>\n",
       "    <tr>\n",
       "      <th>count</th>\n",
       "      <td>4252.000000</td>\n",
       "      <td>4252.000000</td>\n",
       "      <td>4252.000000</td>\n",
       "      <td>4252.000000</td>\n",
       "      <td>4252.0</td>\n",
       "      <td>4252.0</td>\n",
       "      <td>4252.000000</td>\n",
       "      <td>4252.000000</td>\n",
       "      <td>4252.000000</td>\n",
       "    </tr>\n",
       "    <tr>\n",
       "      <th>mean</th>\n",
       "      <td>129.674036</td>\n",
       "      <td>4.839777</td>\n",
       "      <td>27.099483</td>\n",
       "      <td>11.924036</td>\n",
       "      <td>0.0</td>\n",
       "      <td>0.0</td>\n",
       "      <td>103.573142</td>\n",
       "      <td>0.148615</td>\n",
       "      <td>0.432244</td>\n",
       "    </tr>\n",
       "    <tr>\n",
       "      <th>std</th>\n",
       "      <td>147.282336</td>\n",
       "      <td>1.002277</td>\n",
       "      <td>29.948206</td>\n",
       "      <td>12.841583</td>\n",
       "      <td>0.0</td>\n",
       "      <td>0.0</td>\n",
       "      <td>117.455428</td>\n",
       "      <td>0.256712</td>\n",
       "      <td>0.302043</td>\n",
       "    </tr>\n",
       "    <tr>\n",
       "      <th>min</th>\n",
       "      <td>0.000000</td>\n",
       "      <td>0.000000</td>\n",
       "      <td>0.000000</td>\n",
       "      <td>0.000000</td>\n",
       "      <td>0.0</td>\n",
       "      <td>0.0</td>\n",
       "      <td>0.000000</td>\n",
       "      <td>-1.000000</td>\n",
       "      <td>0.000000</td>\n",
       "    </tr>\n",
       "    <tr>\n",
       "      <th>25%</th>\n",
       "      <td>49.000000</td>\n",
       "      <td>4.356092</td>\n",
       "      <td>10.000000</td>\n",
       "      <td>5.000000</td>\n",
       "      <td>0.0</td>\n",
       "      <td>0.0</td>\n",
       "      <td>39.000000</td>\n",
       "      <td>0.000000</td>\n",
       "      <td>0.125000</td>\n",
       "    </tr>\n",
       "    <tr>\n",
       "      <th>50%</th>\n",
       "      <td>92.000000</td>\n",
       "      <td>4.833333</td>\n",
       "      <td>19.000000</td>\n",
       "      <td>9.000000</td>\n",
       "      <td>0.0</td>\n",
       "      <td>0.0</td>\n",
       "      <td>73.500000</td>\n",
       "      <td>0.100000</td>\n",
       "      <td>0.500000</td>\n",
       "    </tr>\n",
       "    <tr>\n",
       "      <th>75%</th>\n",
       "      <td>163.000000</td>\n",
       "      <td>5.333333</td>\n",
       "      <td>34.000000</td>\n",
       "      <td>15.000000</td>\n",
       "      <td>0.0</td>\n",
       "      <td>0.0</td>\n",
       "      <td>130.000000</td>\n",
       "      <td>0.311218</td>\n",
       "      <td>0.648363</td>\n",
       "    </tr>\n",
       "    <tr>\n",
       "      <th>max</th>\n",
       "      <td>3105.000000</td>\n",
       "      <td>18.000000</td>\n",
       "      <td>601.000000</td>\n",
       "      <td>244.000000</td>\n",
       "      <td>0.0</td>\n",
       "      <td>0.0</td>\n",
       "      <td>2505.000000</td>\n",
       "      <td>1.000000</td>\n",
       "      <td>1.000000</td>\n",
       "    </tr>\n",
       "  </tbody>\n",
       "</table>\n",
       "</div>"
      ],
      "text/plain": [
       "       stringLength  avgWordLength  isStopwordCount  noStopwordCount  \\\n",
       "count   4252.000000    4252.000000      4252.000000      4252.000000   \n",
       "mean     129.674036       4.839777        27.099483        11.924036   \n",
       "std      147.282336       1.002277        29.948206        12.841583   \n",
       "min        0.000000       0.000000         0.000000         0.000000   \n",
       "25%       49.000000       4.356092        10.000000         5.000000   \n",
       "50%       92.000000       4.833333        19.000000         9.000000   \n",
       "75%      163.000000       5.333333        34.000000        15.000000   \n",
       "max     3105.000000      18.000000       601.000000       244.000000   \n",
       "\n",
       "       charDigitCount  charUpperCount  charLowerCount  sentiPolarity  \\\n",
       "count          4252.0          4252.0     4252.000000    4252.000000   \n",
       "mean              0.0             0.0      103.573142       0.148615   \n",
       "std               0.0             0.0      117.455428       0.256712   \n",
       "min               0.0             0.0        0.000000      -1.000000   \n",
       "25%               0.0             0.0       39.000000       0.000000   \n",
       "50%               0.0             0.0       73.500000       0.100000   \n",
       "75%               0.0             0.0      130.000000       0.311218   \n",
       "max               0.0             0.0     2505.000000       1.000000   \n",
       "\n",
       "       sentiSubjectivity  \n",
       "count        4252.000000  \n",
       "mean            0.432244  \n",
       "std             0.302043  \n",
       "min             0.000000  \n",
       "25%             0.125000  \n",
       "50%             0.500000  \n",
       "75%             0.648363  \n",
       "max             1.000000  "
      ]
     },
     "execution_count": 5,
     "metadata": {},
     "output_type": "execute_result"
    }
   ],
   "source": [
    "tp.clean_all_text(lemmatize=True, lower_texts=True)\n",
    "tp.get_all_metrics(sentiment=True)\n",
    "tp.describe()"
   ]
  },
  {
   "cell_type": "code",
   "execution_count": 6,
   "metadata": {},
   "outputs": [
    {
     "data": {
      "text/plain": [
       "0           i always forget to like the vid remind u p\n",
       "1    looked like there wa oil coming down left side...\n",
       "2      i like video if it something really fuckin cool\n",
       "3    pos cable to small of guage causing currant surge\n",
       "4    gt rs one of the best track car ever made yet ...\n",
       "Name: text, dtype: object"
      ]
     },
     "execution_count": 6,
     "metadata": {},
     "output_type": "execute_result"
    }
   ],
   "source": [
    "tp2 = tp.slice_dataframe(by_min_value=10)\n",
    "tp2.text.head()"
   ]
  },
  {
   "cell_type": "code",
   "execution_count": 7,
   "metadata": {},
   "outputs": [
    {
     "data": {
      "image/png": "[encoded data removed]",
      "text/plain": [
       "<Figure size 432x288 with 1 Axes>"
      ]
     },
     "metadata": {
      "needs_background": "light"
     },
     "output_type": "display_data"
    }
   ],
   "source": [
    "build_wordcloud(tp2.text.values.tolist(), img_name='yt_wordcloud')"
   ]
  },
  {
   "cell_type": "code",
   "execution_count": 8,
   "metadata": {},
   "outputs": [],
   "source": [
    "import pandas as pd\n",
    "\n",
    "def build_set_from_corpus(df, text_col, stop_words: set, n_words=20):\n",
    "    # I need to add this method to\n",
    "    # the library, I just need a better name.\n",
    "    common = pd.Series(' '.join(\n",
    "        df[text_col]).lower().split()).value_counts()[:n_words]\n",
    "    uncommon = pd.Series(' '.join(\n",
    "        df[text_col]).lower().split()).value_counts()[-n_words:]\n",
    "    # adds common neg|pos words to a existing stop_word set\n",
    "    stop_words = set(stop_words)\n",
    "    stop_words = stop_words.union(list(common.keys()))\n",
    "    stop_words = stop_words.union(list(uncommon.keys()))\n",
    "    return stop_words"
   ]
  },
  {
   "cell_type": "code",
   "execution_count": 9,
   "metadata": {},
   "outputs": [],
   "source": [
    "stop_words = build_set_from_corpus(tp2, text_col='text',\n",
    "                                   stop_words=ngrams.STOP_WORDS,\n",
    "                                   n_words=20)\n",
    "\n",
    "tp2_texts = tp2.text.values.tolist()\n",
    "corpus = ngrams.text2ngrams(sentences=tp2_texts,\n",
    "                            stop_words=stop_words,\n",
    "                            threshold=10.0)"
   ]
  },
  {
   "cell_type": "code",
   "execution_count": 19,
   "metadata": {},
   "outputs": [
    {
     "data": {
      "image/png": "[encoded data removed]",
      "text/plain": [
       "<Figure size 432x288 with 1 Axes>"
      ]
     },
     "metadata": {
      "needs_background": "light"
     },
     "output_type": "display_data"
    }
   ],
   "source": [
    "# theres a difference when using the built stop_word set!\n",
    "build_wordcloud(tp2.text.values.tolist(),\n",
    "                img_name='wordcloud_corpus_stopwords',\n",
    "                stop_words=stop_words)"
   ]
  },
  {
   "cell_type": "code",
   "execution_count": 10,
   "metadata": {},
   "outputs": [
    {
     "data": {
      "text/plain": [
       "[('like', 5091),\n",
       " ('the', 4586),\n",
       " ('video', 3674),\n",
       " ('to', 3167),\n",
       " ('it', 2653),\n",
       " ('you', 2280),\n",
       " ('and', 2203),\n",
       " ('of', 1399),\n",
       " ('your', 1380),\n",
       " ('that', 1380)]"
      ]
     },
     "execution_count": 10,
     "metadata": {},
     "output_type": "execute_result"
    }
   ],
   "source": [
    "ngrams.top_unigrams(tp2_texts, n=10)"
   ]
  },
  {
   "cell_type": "code",
   "execution_count": 11,
   "metadata": {
    "scrolled": true
   },
   "outputs": [
    {
     "data": {
      "text/plain": [
       "[('the video', 757),\n",
       " ('like video', 671),\n",
       " ('the like', 544),\n",
       " ('to like', 536),\n",
       " ('like the', 475),\n",
       " ('like button', 463),\n",
       " ('every video', 457),\n",
       " ('your video', 424),\n",
       " ('of the', 350),\n",
       " ('like every', 349)]"
      ]
     },
     "execution_count": 11,
     "metadata": {},
     "output_type": "execute_result"
    }
   ],
   "source": [
    "ngrams.top_bigrams(tp2_texts, n=10)"
   ]
  },
  {
   "cell_type": "code",
   "execution_count": 12,
   "metadata": {},
   "outputs": [
    {
     "data": {
      "text/plain": [
       "[('the like button', 417),\n",
       " ('like every video', 291),\n",
       " ('like the video', 287),\n",
       " ('hit the like', 258),\n",
       " ('forget to like', 179),\n",
       " ('every video watch', 125),\n",
       " ('only like video', 124),\n",
       " ('like video when', 117),\n",
       " ('like video if', 100),\n",
       " ('to like video', 97)]"
      ]
     },
     "execution_count": 12,
     "metadata": {},
     "output_type": "execute_result"
    }
   ],
   "source": [
    "ngrams.top_trigrams(tp2_texts, n=10)"
   ]
  },
  {
   "cell_type": "code",
   "execution_count": 13,
   "metadata": {},
   "outputs": [
    {
     "data": {
      "text/plain": [
       "[('hit the like button', 212),\n",
       " ('like every video watch', 104),\n",
       " ('to hit the like', 70),\n",
       " ('use the like button', 65),\n",
       " ('to like the video', 65),\n",
       " ('keep up the good', 50),\n",
       " ('just forget to like', 50),\n",
       " ('up the good work', 43),\n",
       " ('only like video when', 42),\n",
       " ('out of the water', 42)]"
      ]
     },
     "execution_count": 13,
     "metadata": {},
     "output_type": "execute_result"
    }
   ],
   "source": [
    "ngrams.top_quadgrams(tp2_texts, n=10)"
   ]
  },
  {
   "cell_type": "code",
   "execution_count": 14,
   "metadata": {},
   "outputs": [],
   "source": [
    "from pprint import pprint\n",
    "\n",
    "def build_lda_model(sentences, topics=3, return_doc2bow=False):\n",
    "    id2word = corpora.Dictionary(sentences)\n",
    "    doc2bow = [id2word.doc2bow(text) for text in sentences]\n",
    "    ldamodel = LdaModel(corpus=doc2bow, id2word=id2word,\n",
    "                        num_topics=topics, random_state=100,\n",
    "                        update_every=1, chunksize=1000,\n",
    "                        passes=10, alpha='symmetric',\n",
    "                        iterations=50, per_word_topics=True\n",
    "                       )\n",
    "    if return_doc2bow:\n",
    "        return (ldamodel, doc2bow)\n",
    "    else:\n",
    "        return ldamodel\n",
    "\n",
    "lda_model, doc2bow = build_lda_model(corpus, topics=5, return_doc2bow=True)"
   ]
  },
  {
   "cell_type": "code",
   "execution_count": 15,
   "metadata": {},
   "outputs": [
    {
     "name": "stdout",
     "output_type": "stream",
     "text": [
      "[(0,\n",
      "  '0.064*\"content\" + 0.044*\"car\" + 0.043*\"love\" + 0.021*\"good\" + 0.016*\"year\" '\n",
      "  '+ 0.016*\"work\" + 0.013*\"man\" + 0.013*\"day\" + 0.013*\"florida\" + 0.012*\"vid\"'),\n",
      " (1,\n",
      "  '0.036*\"forget\" + 0.029*\"vid\" + 0.022*\"think\" + 0.018*\"comment\" + '\n",
      "  '0.017*\"usually\" + 0.016*\"don\" + 0.016*\"happen\" + 0.015*\"help\" + '\n",
      "  '0.015*\"honestly\" + 0.014*\"creator\"'),\n",
      " (2,\n",
      "  '0.032*\"channel\" + 0.024*\"content\" + 0.023*\"enjoy\" + 0.018*\"car\" + '\n",
      "  '0.014*\"doesn\" + 0.013*\"matter\" + 0.012*\"time\" + 0.012*\"subscribe\" + '\n",
      "  '0.011*\"know\" + 0.011*\"hope\"'),\n",
      " (3,\n",
      "  '0.056*\"hit\" + 0.056*\"button\" + 0.016*\"channel\" + 0.016*\"think\" + '\n",
      "  '0.016*\"blow\" + 0.016*\"forget\" + 0.015*\"ask\" + 0.015*\"remember\" + '\n",
      "  '0.013*\"people\" + 0.013*\"use\"'),\n",
      " (4,\n",
      "  '0.035*\"tommy\" + 0.013*\"guy\" + 0.012*\"simple\" + 0.011*\"tell\" + '\n",
      "  '0.011*\"ground\" + 0.011*\"sell\" + 0.010*\"didn\" + 0.010*\"happy\" + 0.010*\"lz\" + '\n",
      "  '0.009*\"head\"')]\n"
     ]
    }
   ],
   "source": [
    "pprint(lda_model.print_topics())"
   ]
  },
  {
   "cell_type": "code",
   "execution_count": 16,
   "metadata": {},
   "outputs": [],
   "source": [
    "tp2_topics = lda.build_topics(LDA_model=lda_model, Gensim_doc2bow=doc2bow,\n",
    "                              corpus=corpus, num_topics=5, reset_col_names=True)"
   ]
  },
  {
   "cell_type": "code",
   "execution_count": 17,
   "metadata": {},
   "outputs": [
    {
     "data": {
      "text/html": [
       "<div>\n",
       "<style scoped>\n",
       "    .dataframe tbody tr th:only-of-type {\n",
       "        vertical-align: middle;\n",
       "    }\n",
       "\n",
       "    .dataframe tbody tr th {\n",
       "        vertical-align: top;\n",
       "    }\n",
       "\n",
       "    .dataframe thead th {\n",
       "        text-align: right;\n",
       "    }\n",
       "</style>\n",
       "<table border=\"1\" class=\"dataframe\">\n",
       "  <thead>\n",
       "    <tr style=\"text-align: right;\">\n",
       "      <th></th>\n",
       "      <th>topicId</th>\n",
       "      <th>dominantTopic</th>\n",
       "      <th>topicContribution</th>\n",
       "      <th>topicKeywords</th>\n",
       "      <th>topicTokens</th>\n",
       "    </tr>\n",
       "  </thead>\n",
       "  <tbody>\n",
       "    <tr>\n",
       "      <th>0</th>\n",
       "      <td>0</td>\n",
       "      <td>1.0</td>\n",
       "      <td>0.79933</td>\n",
       "      <td>forget, vid, think, comment, usually, don, hap...</td>\n",
       "      <td>[forget, vid, remind]</td>\n",
       "    </tr>\n",
       "    <tr>\n",
       "      <th>1</th>\n",
       "      <td>1</td>\n",
       "      <td>4.0</td>\n",
       "      <td>0.49964</td>\n",
       "      <td>tommy, guy, simple, tell, ground, sell, didn, ...</td>\n",
       "      <td>[look, oil, come, leave, dad, engine, block]</td>\n",
       "    </tr>\n",
       "    <tr>\n",
       "      <th>2</th>\n",
       "      <td>2</td>\n",
       "      <td>2.0</td>\n",
       "      <td>0.59665</td>\n",
       "      <td>channel, content, enjoy, car, doesn, matter, t...</td>\n",
       "      <td>[cool]</td>\n",
       "    </tr>\n",
       "    <tr>\n",
       "      <th>3</th>\n",
       "      <td>3</td>\n",
       "      <td>1.0</td>\n",
       "      <td>0.72637</td>\n",
       "      <td>forget, vid, think, comment, usually, don, hap...</td>\n",
       "      <td>[pos, cable, small, guage, cause, currant, surge]</td>\n",
       "    </tr>\n",
       "    <tr>\n",
       "      <th>4</th>\n",
       "      <td>4</td>\n",
       "      <td>2.0</td>\n",
       "      <td>0.95505</td>\n",
       "      <td>channel, content, enjoy, car, doesn, matter, t...</td>\n",
       "      <td>[rs, good, track, car, porsche, cup, holder, c...</td>\n",
       "    </tr>\n",
       "  </tbody>\n",
       "</table>\n",
       "</div>"
      ],
      "text/plain": [
       "   topicId  dominantTopic  topicContribution  \\\n",
       "0        0            1.0            0.79933   \n",
       "1        1            4.0            0.49964   \n",
       "2        2            2.0            0.59665   \n",
       "3        3            1.0            0.72637   \n",
       "4        4            2.0            0.95505   \n",
       "\n",
       "                                       topicKeywords  \\\n",
       "0  forget, vid, think, comment, usually, don, hap...   \n",
       "1  tommy, guy, simple, tell, ground, sell, didn, ...   \n",
       "2  channel, content, enjoy, car, doesn, matter, t...   \n",
       "3  forget, vid, think, comment, usually, don, hap...   \n",
       "4  channel, content, enjoy, car, doesn, matter, t...   \n",
       "\n",
       "                                         topicTokens  \n",
       "0                              [forget, vid, remind]  \n",
       "1       [look, oil, come, leave, dad, engine, block]  \n",
       "2                                             [cool]  \n",
       "3  [pos, cable, small, guage, cause, currant, surge]  \n",
       "4  [rs, good, track, car, porsche, cup, holder, c...  "
      ]
     },
     "execution_count": 17,
     "metadata": {},
     "output_type": "execute_result"
    }
   ],
   "source": [
    "tp2_topics.head()"
   ]
  },
  {
   "cell_type": "code",
   "execution_count": 21,
   "metadata": {},
   "outputs": [
    {
     "data": {
      "text/plain": [
       "count                                                  4132\n",
       "unique                                                    5\n",
       "top       content, car, love, good, year, work, man, day...\n",
       "freq                                                   1137\n",
       "Name: topicKeywords, dtype: object"
      ]
     },
     "execution_count": 21,
     "metadata": {},
     "output_type": "execute_result"
    }
   ],
   "source": [
    "tp2_topics.topicKeywords.describe()"
   ]
  },
  {
   "cell_type": "code",
   "execution_count": 24,
   "metadata": {},
   "outputs": [],
   "source": [
    "from multiprocessing import cpu_count\n",
    "\n",
    "import pyLDAvis\n",
    "import pyLDAvis.gensim\n",
    "from gensim.models import Word2Vec"
   ]
  },
  {
   "cell_type": "code",
   "execution_count": 44,
   "metadata": {},
   "outputs": [
    {
     "name": "stderr",
     "output_type": "stream",
     "text": [
      "/home/ego/anaconda3/envs/vuepoint/lib/python3.6/site-packages/pyLDAvis/_prepare.py:257: FutureWarning: Sorting because non-concatenation axis is not aligned. A future version\n",
      "of pandas will change to not sort by default.\n",
      "\n",
      "To accept the future behavior, pass 'sort=False'.\n",
      "\n",
      "To retain the current behavior and silence the warning, pass 'sort=True'.\n",
      "\n",
      "  return pd.concat([default_term_info] + list(topic_dfs))\n"
     ]
    }
   ],
   "source": [
    "pyLDAvis.enable_notebook()\n",
    "vis = pyLDAvis.gensim.prepare(lda_model, doc2bow, dictionary=lda_model.id2word)\n",
    "pyLDAvis.save_html(vis, 'yt_test.html')"
   ]
  },
  {
   "cell_type": "code",
   "execution_count": 64,
   "metadata": {},
   "outputs": [
    {
     "name": "stderr",
     "output_type": "stream",
     "text": [
      "W0904 09:46:44.616429 140030239422272 base_any2vec.py:723] consider setting layer size to a multiple of 4 for greater performance\n"
     ]
    },
    {
     "name": "stdout",
     "output_type": "stream",
     "text": [
      "model vocab size: 856\n"
     ]
    },
    {
     "data": {
      "text/plain": [
       "(8262953, 13029200)"
      ]
     },
     "execution_count": 64,
     "metadata": {},
     "output_type": "execute_result"
    }
   ],
   "source": [
    "model = Word2Vec(size=50, window=5, min_count=5, alpha=0.025,\n",
    "                 sample=0.001, seed=1, negative=10, cbow_mean=1,\n",
    "                 workers=cpu_count(), sg=1, hs=0, iter=5)\n",
    "\n",
    "model.build_vocab(corpus)\n",
    "print(f'model vocab size: {len(model.wv.vocab)}')\n",
    "model.train(corpus, total_examples=len(corpus), epochs=400)"
   ]
  },
  {
   "cell_type": "code",
   "execution_count": 65,
   "metadata": {},
   "outputs": [
    {
     "data": {
      "text/plain": [
       "[('time', 0.7717297673225403),\n",
       " ('people', 0.7227359414100647),\n",
       " ('content', 0.7209324836730957),\n",
       " ('good', 0.7142516374588013),\n",
       " ('subscribe', 0.7129594087600708),\n",
       " ('don', 0.7066236734390259),\n",
       " ('support', 0.7048803567886353),\n",
       " ('think', 0.6856714487075806),\n",
       " ('enjoy', 0.6822136044502258),\n",
       " ('creator', 0.6752663850784302),\n",
       " ('youtuber', 0.6723272800445557),\n",
       " ('know', 0.6660952568054199),\n",
       " ('start', 0.6556217670440674),\n",
       " ('vid', 0.655336320400238),\n",
       " ('hit', 0.6549896001815796),\n",
       " ('forget', 0.6427695751190186),\n",
       " ('year', 0.6336346864700317),\n",
       " ('click', 0.6334744095802307),\n",
       " ('love', 0.6264768242835999),\n",
       " ('comment', 0.6205865144729614)]"
      ]
     },
     "execution_count": 65,
     "metadata": {},
     "output_type": "execute_result"
    }
   ],
   "source": [
    "model.wv.most_similar('channel', topn=20)"
   ]
  },
  {
   "cell_type": "code",
   "execution_count": 66,
   "metadata": {},
   "outputs": [
    {
     "data": {
      "text/plain": [
       "[('noise', 0.5782352089881897),\n",
       " ('polyphia', 0.5616501569747925),\n",
       " ('bet', 0.505351722240448),\n",
       " ('exceptionally', 0.5047679543495178),\n",
       " ('edit', 0.4767282009124756),\n",
       " ('performance', 0.47365930676460266),\n",
       " ('case', 0.4522467851638794),\n",
       " ('doubt', 0.4407612979412079),\n",
       " ('sandwich', 0.43483272194862366),\n",
       " ('eye', 0.42800840735435486),\n",
       " ('majority', 0.4220414459705353),\n",
       " ('tommys', 0.42083171010017395),\n",
       " ('fast', 0.4160884618759155),\n",
       " ('single', 0.4149792194366455),\n",
       " ('dislike', 0.4131980240345001),\n",
       " ('pan', 0.4088815152645111),\n",
       " ('screen', 0.40250322222709656),\n",
       " ('hear', 0.40036070346832275),\n",
       " ('shot', 0.39929524064064026),\n",
       " ('thumb', 0.39868128299713135)]"
      ]
     },
     "execution_count": 66,
     "metadata": {},
     "output_type": "execute_result"
    }
   ],
   "source": [
    "model.wv.most_similar('background', topn=20)"
   ]
  },
  {
   "cell_type": "code",
   "execution_count": 72,
   "metadata": {},
   "outputs": [
    {
     "data": {
      "text/plain": [
       "[('don', 0.6857895255088806),\n",
       " ('know', 0.6725720167160034),\n",
       " ('time', 0.6631420850753784),\n",
       " ('use', 0.6609086394309998),\n",
       " ('way', 0.6509333848953247),\n",
       " ('think', 0.6502123475074768),\n",
       " ('comment', 0.6334865093231201),\n",
       " ('people', 0.6306197643280029),\n",
       " ('content', 0.6206315159797668),\n",
       " ('thing', 0.6142355799674988),\n",
       " ('come', 0.6069813370704651),\n",
       " ('find', 0.6056879758834839),\n",
       " ('good', 0.6020851731300354),\n",
       " ('later', 0.6008220911026001),\n",
       " ('love', 0.5994978547096252),\n",
       " ('enjoy', 0.5973695516586304),\n",
       " ('help', 0.5912057161331177),\n",
       " ('channel', 0.5838154554367065),\n",
       " ('usually', 0.5827153921127319),\n",
       " ('need', 0.5734660029411316)]"
      ]
     },
     "execution_count": 72,
     "metadata": {},
     "output_type": "execute_result"
    }
   ],
   "source": [
    "model.wv.most_similar('want', topn=20)"
   ]
  },
  {
   "cell_type": "code",
   "execution_count": null,
   "metadata": {},
   "outputs": [],
   "source": []
  }
 ],
 "metadata": {
  "kernelspec": {
   "display_name": "Python 3",
   "language": "python",
   "name": "python3"
  },
  "language_info": {
   "codemirror_mode": {
    "name": "ipython",
    "version": 3
   },
   "file_extension": ".py",
   "mimetype": "text/x-python",
   "name": "python",
   "nbconvert_exporter": "python",
   "pygments_lexer": "ipython3",
   "version": "3.6.7"
  }
 },
 "nbformat": 4,
 "nbformat_minor": 2
}
